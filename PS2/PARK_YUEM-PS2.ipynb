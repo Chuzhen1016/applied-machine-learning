{
 "cells": [
  {
   "cell_type": "markdown",
   "metadata": {},
   "source": [
    "# Problem Set 2"
   ]
  },
  {
   "cell_type": "code",
   "execution_count": 1,
   "metadata": {},
   "outputs": [],
   "source": [
    "import pandas as pd\n",
    "import numpy as np\n",
    "import matplotlib.pyplot as plt\n",
    "from scipy import stats\n",
    "import statsmodels.api as sm\n",
    "import statsmodels.formula.api as smf"
   ]
  },
  {
   "cell_type": "markdown",
   "metadata": {},
   "source": [
    "> <font color='red'>I worked with Alex Robson on parts of this problem set.</font>"
   ]
  },
  {
   "cell_type": "markdown",
   "metadata": {},
   "source": [
    "## Introduction to the assignment\n",
    "\n",
    "For this assignment, you will be using data from the [Progresa program](http://en.wikipedia.org/wiki/Oportunidades), a government social assistance program in Mexico. This program, as well as the details of its impact, are described in the paper \"[School subsidies for the poor: evaluating the Mexican Progresa poverty program](http://www.sciencedirect.com/science/article/pii/S0304387803001858)\", by Paul Shultz (available on bCourses). Please familiarize yourself with the PROGRESA program before beginning this problem set, so you have a rough sense of where the data come from and how they were generated. If you just proceed into the problem set without understanding Progresa or the data, it will be very difficult!\n",
    "\n",
    "The goal of this problem set is to implement some of the basic econometric techniques that you are learning in class to measure the impact of Progresa on secondary school enrollment rates. The timeline of the program was:\n",
    "\n",
    " * Baseline survey conducted in 1997\n",
    " * Intervention begins in 1998, \"Wave 1\" of data collected in 1998\n",
    " * \"Wave 2 of data\" collected in 1999\n",
    " * Evaluation ends in 2000, at which point the control villages were treated. \n",
    " \n",
    "When you are ready, download the progresa_sample.csv data from bCourses. The data are actual data collected to evaluate the impact of the Progresa program.  In this file, each row corresponds to an observation taken for a given child for a given year. There are two years of data (1997 and 1998), and just under 40,000 children who are surveyed in each year. For each child-year observation, the following variables are collected:\n",
    "\n",
    "| Variable name | Description|\n",
    "|------|------|\n",
    "|year\t  |year in which data is collected\n",
    "|sex\t  |male = 1|\n",
    "|indig\t  |indigenous = 1|\n",
    "|dist_sec |nearest distance to a secondary school|\n",
    "|sc\t      |enrolled in school in year of survey|\n",
    "|grc      |grade enrolled|\n",
    "|fam_n    |family size|\n",
    "|min_dist |\tmin distance to an urban center|\n",
    "|dist_cap |\tmin distance to the capital|\n",
    "|poor     |\tpoor = 1|\n",
    "|progresa |treatment =1|\n",
    "|hohedu\t  |years of schooling of head of household|\n",
    "|hohwag\t  |monthly wages of head of household|\n",
    "|welfare_index|\twelfare index used to classify poor|\n",
    "|hohsex\t|gender of head of household (male=1)|\n",
    "|hohage\t|age of head of household|\n",
    "|age\t|years old|\n",
    "|folnum\t|individual id|\n",
    "|village|\tvillage id|\n",
    "|sc97\t|schooling in 1997|"
   ]
  },
  {
   "cell_type": "markdown",
   "metadata": {},
   "source": [
    "---\n",
    "\n",
    "## Part 1: Descriptive analysis\n",
    "\n",
    "### 1.1\tSummary Statistics\n",
    "\n",
    "Present summary statistics (mean and standard deviation) for all of the demographic variables in the dataset (i.e., everything except year, folnum, village). Present these in a single table alphabetized by variable name. Do NOT simply expect the grader to scroll through your output!"
   ]
  },
  {
   "cell_type": "code",
   "execution_count": 2,
   "metadata": {
    "scrolled": false
   },
   "outputs": [
    {
     "name": "stdout",
     "output_type": "stream",
     "text": [
      "can be converted to binary : poor\n",
      "    converted to 0 : pobre\n",
      "    converted to 1 : no pobre\n",
      "can be converted to binary : progresa\n",
      "    converted to 0 : 0\n",
      "    converted to 1 : basal\n"
     ]
    }
   ],
   "source": [
    "# read in data\n",
    "sample = pd.read_csv('progresa_sample.csv')\n",
    "\n",
    "# find columns that contain non-numeric data\n",
    "str_cols = sample.select_dtypes(include='object').columns\n",
    "\n",
    "# check to see that these columns can be converted to binary (i.e. only two unique values), then convert\n",
    "for str_col in str_cols:\n",
    "    if len(sample[str_col].unique())==2:\n",
    "        print('can be converted to binary : {}'.format(str_col))\n",
    "        b0 = sample[str_col].unique()[0]\n",
    "        b1 = sample[str_col].unique()[1]\n",
    "        sample.loc[sample[str_col]==b0, str_col] = 0\n",
    "        sample.loc[sample[str_col]==b1, str_col] = 1\n",
    "        print('    converted to 0 : {}'.format(b0))\n",
    "        print('    converted to 1 : {}'.format(b1))\n",
    "    else:\n",
    "        print('cannot be converted to binary')"
   ]
  },
  {
   "cell_type": "code",
   "execution_count": 3,
   "metadata": {},
   "outputs": [
    {
     "data": {
      "text/html": [
       "<div>\n",
       "<style scoped>\n",
       "    .dataframe tbody tr th:only-of-type {\n",
       "        vertical-align: middle;\n",
       "    }\n",
       "\n",
       "    .dataframe tbody tr th {\n",
       "        vertical-align: top;\n",
       "    }\n",
       "\n",
       "    .dataframe thead th {\n",
       "        text-align: right;\n",
       "    }\n",
       "</style>\n",
       "<table border=\"1\" class=\"dataframe\">\n",
       "  <thead>\n",
       "    <tr style=\"text-align: right;\">\n",
       "      <th></th>\n",
       "      <th>variable</th>\n",
       "      <th>mean</th>\n",
       "      <th>standard deviation</th>\n",
       "    </tr>\n",
       "  </thead>\n",
       "  <tbody>\n",
       "    <tr>\n",
       "      <th>0</th>\n",
       "      <td>age</td>\n",
       "      <td>11.366460</td>\n",
       "      <td>3.167723</td>\n",
       "    </tr>\n",
       "    <tr>\n",
       "      <th>1</th>\n",
       "      <td>dist_cap</td>\n",
       "      <td>147.674452</td>\n",
       "      <td>76.062641</td>\n",
       "    </tr>\n",
       "    <tr>\n",
       "      <th>2</th>\n",
       "      <td>dist_sec</td>\n",
       "      <td>2.418910</td>\n",
       "      <td>2.234094</td>\n",
       "    </tr>\n",
       "    <tr>\n",
       "      <th>3</th>\n",
       "      <td>fam_n</td>\n",
       "      <td>7.215715</td>\n",
       "      <td>2.352885</td>\n",
       "    </tr>\n",
       "    <tr>\n",
       "      <th>4</th>\n",
       "      <td>grc</td>\n",
       "      <td>3.963537</td>\n",
       "      <td>2.499046</td>\n",
       "    </tr>\n",
       "    <tr>\n",
       "      <th>5</th>\n",
       "      <td>grc97</td>\n",
       "      <td>3.705372</td>\n",
       "      <td>2.572371</td>\n",
       "    </tr>\n",
       "    <tr>\n",
       "      <th>6</th>\n",
       "      <td>hohage</td>\n",
       "      <td>44.436717</td>\n",
       "      <td>11.620296</td>\n",
       "    </tr>\n",
       "    <tr>\n",
       "      <th>7</th>\n",
       "      <td>hohedu</td>\n",
       "      <td>2.768104</td>\n",
       "      <td>2.656089</td>\n",
       "    </tr>\n",
       "    <tr>\n",
       "      <th>8</th>\n",
       "      <td>hohsex</td>\n",
       "      <td>0.925185</td>\n",
       "      <td>0.263093</td>\n",
       "    </tr>\n",
       "    <tr>\n",
       "      <th>9</th>\n",
       "      <td>hohwag</td>\n",
       "      <td>586.985312</td>\n",
       "      <td>788.128563</td>\n",
       "    </tr>\n",
       "    <tr>\n",
       "      <th>10</th>\n",
       "      <td>indig</td>\n",
       "      <td>0.298324</td>\n",
       "      <td>0.457522</td>\n",
       "    </tr>\n",
       "    <tr>\n",
       "      <th>11</th>\n",
       "      <td>min_dist</td>\n",
       "      <td>103.447520</td>\n",
       "      <td>42.089168</td>\n",
       "    </tr>\n",
       "    <tr>\n",
       "      <th>12</th>\n",
       "      <td>poor</td>\n",
       "      <td>0.153502</td>\n",
       "      <td>0.360470</td>\n",
       "    </tr>\n",
       "    <tr>\n",
       "      <th>13</th>\n",
       "      <td>progresa</td>\n",
       "      <td>0.615663</td>\n",
       "      <td>0.486438</td>\n",
       "    </tr>\n",
       "    <tr>\n",
       "      <th>14</th>\n",
       "      <td>sc</td>\n",
       "      <td>0.819818</td>\n",
       "      <td>0.384339</td>\n",
       "    </tr>\n",
       "    <tr>\n",
       "      <th>15</th>\n",
       "      <td>sc97</td>\n",
       "      <td>0.813922</td>\n",
       "      <td>0.389169</td>\n",
       "    </tr>\n",
       "    <tr>\n",
       "      <th>16</th>\n",
       "      <td>sex</td>\n",
       "      <td>0.512211</td>\n",
       "      <td>0.499851</td>\n",
       "    </tr>\n",
       "    <tr>\n",
       "      <th>17</th>\n",
       "      <td>welfare_index</td>\n",
       "      <td>690.346564</td>\n",
       "      <td>139.490225</td>\n",
       "    </tr>\n",
       "  </tbody>\n",
       "</table>\n",
       "</div>"
      ],
      "text/plain": [
       "         variable        mean  standard deviation\n",
       "0             age   11.366460            3.167723\n",
       "1        dist_cap  147.674452           76.062641\n",
       "2        dist_sec    2.418910            2.234094\n",
       "3           fam_n    7.215715            2.352885\n",
       "4             grc    3.963537            2.499046\n",
       "5           grc97    3.705372            2.572371\n",
       "6          hohage   44.436717           11.620296\n",
       "7          hohedu    2.768104            2.656089\n",
       "8          hohsex    0.925185            0.263093\n",
       "9          hohwag  586.985312          788.128563\n",
       "10          indig    0.298324            0.457522\n",
       "11       min_dist  103.447520           42.089168\n",
       "12           poor    0.153502            0.360470\n",
       "13       progresa    0.615663            0.486438\n",
       "14             sc    0.819818            0.384339\n",
       "15           sc97    0.813922            0.389169\n",
       "16            sex    0.512211            0.499851\n",
       "17  welfare_index  690.346564          139.490225"
      ]
     },
     "execution_count": 3,
     "metadata": {},
     "output_type": "execute_result"
    }
   ],
   "source": [
    "# create a new dataframe just for the summary stats\n",
    "summary_stats_cols = ['variable','mean','standard deviation']\n",
    "summary_stats = pd.DataFrame(columns=summary_stats_cols)\n",
    "\n",
    "# compute the statistics and add to the dataframe\n",
    "for col in sample.columns:\n",
    "    if col not in ['year', 'folnum', 'village']:\n",
    "        add_row = pd.DataFrame([[col, np.mean(sample[col]), np.std(sample[col])]],\n",
    "                               columns=summary_stats_cols)\n",
    "        summary_stats = summary_stats.append(add_row, ignore_index=True)\n",
    "        \n",
    "# sort alphabetically\n",
    "summary_stats.sort_values('variable', inplace=True)\n",
    "summary_stats.reset_index(drop=True, inplace=True)\n",
    "    \n",
    "# show\n",
    "summary_stats"
   ]
  },
  {
   "cell_type": "markdown",
   "metadata": {},
   "source": [
    "> <font color='red'>Note that many of these variables are not continuous (e.g. sex), and so the utility of the standard deviation is limited for these variables.</font>"
   ]
  },
  {
   "cell_type": "markdown",
   "metadata": {},
   "source": [
    "### 1.2 Differences at baseline?\n",
    "\n",
    "Are the baseline (1997) demographic characteristics **for the poor**  different in treatment and control villages? Hint: Use a T-Test to determine whether there is a statistically significant difference in the average values of each of the variables in the dataset. Focus only on the data from 1997 for individuals who are poor (i.e., poor=='pobre').\n",
    "\n",
    "Present your results in a single table with the following columns and 14 (or so) rows (alphabetized by variable name):\n",
    "\n",
    "| Variable name | Average value (Treatment villages) | Average value (Control villages) | Difference (Treat - Control) | p-value |\n",
    "|------|------|------|------|------|\n",
    "|Male|?|?|?|?|\n"
   ]
  },
  {
   "cell_type": "code",
   "execution_count": 4,
   "metadata": {},
   "outputs": [
    {
     "data": {
      "text/html": [
       "<div>\n",
       "<style scoped>\n",
       "    .dataframe tbody tr th:only-of-type {\n",
       "        vertical-align: middle;\n",
       "    }\n",
       "\n",
       "    .dataframe tbody tr th {\n",
       "        vertical-align: top;\n",
       "    }\n",
       "\n",
       "    .dataframe thead th {\n",
       "        text-align: right;\n",
       "    }\n",
       "</style>\n",
       "<table border=\"1\" class=\"dataframe\">\n",
       "  <thead>\n",
       "    <tr style=\"text-align: right;\">\n",
       "      <th></th>\n",
       "      <th>variable</th>\n",
       "      <th>mean - treatment</th>\n",
       "      <th>mean - control</th>\n",
       "      <th>difference (treatment-control)</th>\n",
       "      <th>ttest p-value</th>\n",
       "    </tr>\n",
       "  </thead>\n",
       "  <tbody>\n",
       "    <tr>\n",
       "      <th>0</th>\n",
       "      <td>age</td>\n",
       "      <td>10.716991</td>\n",
       "      <td>10.742023</td>\n",
       "      <td>-0.025032</td>\n",
       "      <td>4.783633e-01</td>\n",
       "    </tr>\n",
       "    <tr>\n",
       "      <th>1</th>\n",
       "      <td>dist_cap</td>\n",
       "      <td>150.829074</td>\n",
       "      <td>153.769730</td>\n",
       "      <td>-2.940656</td>\n",
       "      <td>1.146482e-03</td>\n",
       "    </tr>\n",
       "    <tr>\n",
       "      <th>2</th>\n",
       "      <td>dist_sec</td>\n",
       "      <td>2.453122</td>\n",
       "      <td>2.507662</td>\n",
       "      <td>-0.054540</td>\n",
       "      <td>4.266282e-02</td>\n",
       "    </tr>\n",
       "    <tr>\n",
       "      <th>3</th>\n",
       "      <td>fam_n</td>\n",
       "      <td>7.281327</td>\n",
       "      <td>7.302469</td>\n",
       "      <td>-0.021142</td>\n",
       "      <td>4.289667e-01</td>\n",
       "    </tr>\n",
       "    <tr>\n",
       "      <th>4</th>\n",
       "      <td>grc</td>\n",
       "      <td>3.531599</td>\n",
       "      <td>3.543050</td>\n",
       "      <td>-0.011450</td>\n",
       "      <td>6.895228e-01</td>\n",
       "    </tr>\n",
       "    <tr>\n",
       "      <th>5</th>\n",
       "      <td>hohage</td>\n",
       "      <td>43.648828</td>\n",
       "      <td>44.276918</td>\n",
       "      <td>-0.628090</td>\n",
       "      <td>2.259461e-06</td>\n",
       "    </tr>\n",
       "    <tr>\n",
       "      <th>6</th>\n",
       "      <td>hohedu</td>\n",
       "      <td>2.663139</td>\n",
       "      <td>2.590348</td>\n",
       "      <td>0.072791</td>\n",
       "      <td>1.038219e-02</td>\n",
       "    </tr>\n",
       "    <tr>\n",
       "      <th>7</th>\n",
       "      <td>hohsex</td>\n",
       "      <td>0.924656</td>\n",
       "      <td>0.922947</td>\n",
       "      <td>0.001709</td>\n",
       "      <td>5.721253e-01</td>\n",
       "    </tr>\n",
       "    <tr>\n",
       "      <th>8</th>\n",
       "      <td>hohwag</td>\n",
       "      <td>544.339544</td>\n",
       "      <td>573.163558</td>\n",
       "      <td>-28.824015</td>\n",
       "      <td>3.287285e-04</td>\n",
       "    </tr>\n",
       "    <tr>\n",
       "      <th>9</th>\n",
       "      <td>indig</td>\n",
       "      <td>0.325986</td>\n",
       "      <td>0.332207</td>\n",
       "      <td>-0.006222</td>\n",
       "      <td>2.459021e-01</td>\n",
       "    </tr>\n",
       "    <tr>\n",
       "      <th>10</th>\n",
       "      <td>min_dist</td>\n",
       "      <td>107.152915</td>\n",
       "      <td>103.237854</td>\n",
       "      <td>3.915060</td>\n",
       "      <td>7.055795e-16</td>\n",
       "    </tr>\n",
       "    <tr>\n",
       "      <th>11</th>\n",
       "      <td>sc</td>\n",
       "      <td>0.822697</td>\n",
       "      <td>0.815186</td>\n",
       "      <td>0.007511</td>\n",
       "      <td>9.646120e-02</td>\n",
       "    </tr>\n",
       "    <tr>\n",
       "      <th>12</th>\n",
       "      <td>sex</td>\n",
       "      <td>0.519317</td>\n",
       "      <td>0.505052</td>\n",
       "      <td>0.014265</td>\n",
       "      <td>1.220744e-02</td>\n",
       "    </tr>\n",
       "    <tr>\n",
       "      <th>13</th>\n",
       "      <td>welfare_index</td>\n",
       "      <td>655.428377</td>\n",
       "      <td>659.579100</td>\n",
       "      <td>-4.150723</td>\n",
       "      <td>1.531678e-03</td>\n",
       "    </tr>\n",
       "  </tbody>\n",
       "</table>\n",
       "</div>"
      ],
      "text/plain": [
       "         variable  mean - treatment  mean - control  \\\n",
       "0             age         10.716991       10.742023   \n",
       "1        dist_cap        150.829074      153.769730   \n",
       "2        dist_sec          2.453122        2.507662   \n",
       "3           fam_n          7.281327        7.302469   \n",
       "4             grc          3.531599        3.543050   \n",
       "5          hohage         43.648828       44.276918   \n",
       "6          hohedu          2.663139        2.590348   \n",
       "7          hohsex          0.924656        0.922947   \n",
       "8          hohwag        544.339544      573.163558   \n",
       "9           indig          0.325986        0.332207   \n",
       "10       min_dist        107.152915      103.237854   \n",
       "11             sc          0.822697        0.815186   \n",
       "12            sex          0.519317        0.505052   \n",
       "13  welfare_index        655.428377      659.579100   \n",
       "\n",
       "    difference (treatment-control)  ttest p-value  \n",
       "0                        -0.025032   4.783633e-01  \n",
       "1                        -2.940656   1.146482e-03  \n",
       "2                        -0.054540   4.266282e-02  \n",
       "3                        -0.021142   4.289667e-01  \n",
       "4                        -0.011450   6.895228e-01  \n",
       "5                        -0.628090   2.259461e-06  \n",
       "6                         0.072791   1.038219e-02  \n",
       "7                         0.001709   5.721253e-01  \n",
       "8                       -28.824015   3.287285e-04  \n",
       "9                        -0.006222   2.459021e-01  \n",
       "10                        3.915060   7.055795e-16  \n",
       "11                        0.007511   9.646120e-02  \n",
       "12                        0.014265   1.220744e-02  \n",
       "13                       -4.150723   1.531678e-03  "
      ]
     },
     "execution_count": 4,
     "metadata": {},
     "output_type": "execute_result"
    }
   ],
   "source": [
    "# pull out the baseline data for the poor, separating treatment and control villages\n",
    "sample97untreated = sample[(sample['year']==97) & (sample['poor']==0) & (sample['progresa']==0)].copy()\n",
    "sample97treated = sample[(sample['year']==97) & (sample['poor']==0) & (sample['progresa']==1)].copy()\n",
    "# note that in my dataframe, poor==0 (not 1, see above)\n",
    "\n",
    "# create a new dataframe just for the baseline differences\n",
    "baseline_diff_cols = ['variable',\n",
    "                      'mean - treatment',\n",
    "                      'mean - control',\n",
    "                      'difference (treatment-control)',\n",
    "                      'ttest p-value']\n",
    "baseline_diff = pd.DataFrame(columns=baseline_diff_cols)\n",
    "\n",
    "# compute the values and add to the dataframe\n",
    "for col in sample.columns:\n",
    "    if col not in ['year', 'folnum', 'village', 'sc97', 'grc97', 'poor', 'progresa']:\n",
    "        # do the ttest, and ignore any NaN values\n",
    "        stat, pval = stats.ttest_ind(sample97treated[~sample97treated[col].isnull()][col],\n",
    "                                     sample97untreated[~sample97untreated[col].isnull()][col],\n",
    "                                     equal_var=False)\n",
    "\n",
    "        add_row = pd.DataFrame([[col,\n",
    "                                 np.mean(sample97treated[col]),\n",
    "                                 np.mean(sample97untreated[col]),\n",
    "                                 np.mean(sample97treated[col])-np.mean(sample97untreated[col]),\n",
    "                                 pval]],\n",
    "                               columns=baseline_diff_cols)\n",
    "        baseline_diff = baseline_diff.append(add_row, ignore_index=True)\n",
    "        \n",
    "# sort alphabetically\n",
    "baseline_diff.sort_values('variable', inplace=True)\n",
    "baseline_diff.reset_index(drop=True, inplace=True)\n",
    "    \n",
    "# show\n",
    "baseline_diff"
   ]
  },
  {
   "cell_type": "markdown",
   "metadata": {},
   "source": [
    "### 1.3 Interpretation\n",
    "\n",
    "* A: Are there statistically significant differences between treatment and control villages as baseline?"
   ]
  },
  {
   "cell_type": "code",
   "execution_count": 5,
   "metadata": {},
   "outputs": [
    {
     "data": {
      "image/png": "[encoded data removed]",
      "text/plain": [
       "<Figure size 432x288 with 1 Axes>"
      ]
     },
     "metadata": {
      "needs_background": "light"
     },
     "output_type": "display_data"
    }
   ],
   "source": [
    "fig, ax = plt.subplots()\n",
    "\n",
    "# identify those variables where we cannot reject the null hypothesis of identical average scores\n",
    "same_inds = np.where(baseline_diff['ttest p-value']>0.05)[0]\n",
    "diff_inds = np.where(baseline_diff['ttest p-value']<=0.05)[0]\n",
    "\n",
    "# plot\n",
    "ax.bar(same_inds, baseline_diff.loc[same_inds]['ttest p-value'], color='C0', label='same')\n",
    "ax.bar(diff_inds, baseline_diff.loc[diff_inds]['ttest p-value'], color='C1', label='different')\n",
    "ax.scatter(diff_inds, np.ones(len(diff_inds))*0.1, marker='v', c='C1')\n",
    "ax.axhline(0.05, c='k', ls='--')\n",
    "ax.set_xticks(np.arange(len(baseline_diff.index)))\n",
    "ax.set_xticklabels(baseline_diff['variable'], rotation=90)\n",
    "ax.set_ylabel('t-test p-value')\n",
    "ax.legend()\n",
    "ax.text(1.3, 0.5, 'arrows mark variables\\n'+\n",
    "                  'where there is\\n'+\n",
    "                  'a statistically significant difference\\n'+\n",
    "                  'between treatment\\n'+\n",
    "                  'and control villages at baseline',\n",
    "        horizontalalignment='center',verticalalignment='center',transform=ax.transAxes)\n",
    "\n",
    "plt.show(fig)"
   ]
  },
  {
   "cell_type": "markdown",
   "metadata": {},
   "source": [
    "> <font color='red'>As we can see in the plot above, the t-test computes p-values less than 0.05 for several variables (namely dist_cap, dest_sec, hohage, hohedu, hohwag, min_dist, sex, and welfare_index). T-test p-values below 0.05 indicate that we can reject the null hypothesis of identical average scores at the 95% confidence level, and therefore indicate that there are statistically significant difference between treatment and control villages at baseline for these variables. Note, however, that school enrollment (`sc`) barely does not pass the significance threshold.</font>"
   ]
  },
  {
   "cell_type": "markdown",
   "metadata": {},
   "source": [
    "* B: Why does it matter if there are differences at baseline?\n",
    "\n",
    "> <font color='red'>Noticing that there are differences at baseline for certain variables is critical for determining which experimental design is appropriate for assessing the effect of treatment on demographic characteristics. In particular, these difference imply that differences between treatment and control villages after treatment cannot be simply attributed to the treatment. Instead, these differences at baseline must be accounted for when evaluating the effect of treatment.</font>\n",
    "\n",
    "* C: What does this imply about how to measure the impact of the treatment?\n",
    "\n",
    "> <font color='red'>For the reasons described above, difference at baseline automatically implies that we cannot use the \"single difference: treatment vs. control\" approach. Instead, another approach is required. For instance, the \"double difference\" approach lends itself well to the type of data that was collected here, especially since the difference at baseline is explicitly accounted for.</font>"
   ]
  },
  {
   "cell_type": "markdown",
   "metadata": {},
   "source": [
    "### 1.4 Graphical exploration, part 1\n",
    "\n",
    "For each level of household head education, compute the average enrollment rate in 1997. Create a scatterplot that shows this relationship. What do you notice?"
   ]
  },
  {
   "cell_type": "code",
   "execution_count": 6,
   "metadata": {},
   "outputs": [
    {
     "data": {
      "image/png": "[encoded data removed]",
      "text/plain": [
       "<Figure size 432x288 with 1 Axes>"
      ]
     },
     "metadata": {
      "needs_background": "light"
     },
     "output_type": "display_data"
    }
   ],
   "source": [
    "# pull out data for 1997\n",
    "sample97 = sample[(sample['year']==97) & (sample['poor']==0)].copy()\n",
    "\n",
    "# get the household head education levels\n",
    "hohedu_levels = sample97['hohedu'].unique()\n",
    "\n",
    "# compute the average enrollment rate for each level\n",
    "hohedu_level_sc_means = np.array([])\n",
    "for level in hohedu_levels:\n",
    "    sc_mean = np.mean(sample97[sample97['hohedu']==level]['sc'])\n",
    "    hohedu_level_sc_means = np.append(hohedu_level_sc_means, sc_mean)\n",
    "    \n",
    "# plot\n",
    "fig, ax = plt.subplots()\n",
    "\n",
    "ax.scatter(hohedu_levels, hohedu_level_sc_means)\n",
    "ax.set_xlabel('years of schooling of head of household')\n",
    "ax.set_ylabel('average enrollment rate')\n",
    "\n",
    "plt.show(fig)"
   ]
  },
  {
   "cell_type": "code",
   "execution_count": 7,
   "metadata": {},
   "outputs": [
    {
     "name": "stdout",
     "output_type": "stream",
     "text": [
      "correlation coefficient = 0.64\n",
      "p-value                 = 0.0031\n"
     ]
    }
   ],
   "source": [
    "# calculate the correlation coefficient, but exclude the outlier\n",
    "coeff, pval = stats.stats.pearsonr(hohedu_levels[hohedu_levels!=20], hohedu_level_sc_means[hohedu_levels!=20])\n",
    "\n",
    "print('correlation coefficient = {:3.2}'.format(coeff))\n",
    "print('p-value                 = {:3.2}'.format(pval))"
   ]
  },
  {
   "cell_type": "markdown",
   "metadata": {},
   "source": [
    "> <font color='red'>As we can see from the plot and correlation coefficient above, there is a strong positive correlation between the years of schooling that the head of household received and the enrollment rate (if we ignore the outlier at 20 years of head of household schooling, which only includes two data points). The associated p-value is much smaller than 0.05, indicating that we can be confident about this correlation at the 95% confidence level.</font>"
   ]
  },
  {
   "cell_type": "markdown",
   "metadata": {},
   "source": [
    "### 1.5 Graphical exploration, part 2\n",
    "\n",
    "Visualize the distribution of village enrollment rates **among poor households in treated villages**, before and after treatment. Specifically, for each village, calculate the average rate of enrollment of poor households in treated villages in 1997, then compute the average rate of enrollment of poor households in treated villages in 1998. Create two separate histograms showing the distribution of these average enrollments rates, one histogram for 1997 and one histogram for 1998. On each histogram, draw a vertical line that intersects the x-axis at the average value (across all households). Does there appear to be a difference? Is this difference statistically significant?"
   ]
  },
  {
   "cell_type": "code",
   "execution_count": 8,
   "metadata": {},
   "outputs": [
    {
     "data": {
      "image/png": "[encoded data removed]",
      "text/plain": [
       "<Figure size 432x288 with 1 Axes>"
      ]
     },
     "metadata": {
      "needs_background": "light"
     },
     "output_type": "display_data"
    }
   ],
   "source": [
    "# pull out the two populations we want to compare\n",
    "sample97treated = sample[(sample['year']==97) & (sample['poor']==0) & (sample['progresa']==1)].copy()\n",
    "sample98treated = sample[(sample['year']==98) & (sample['poor']==0) & (sample['progresa']==1)].copy()\n",
    "# note that in my dataframe, poor==0 (not 1, see above)\n",
    "\n",
    "# get the unique villages\n",
    "villages = sample97treated['village'].unique()\n",
    "\n",
    "# compute the average enrollment rate for each village, before and after treatment\n",
    "village97_sc_means = np.array([])\n",
    "village98_sc_means = np.array([])\n",
    "for village in villages:\n",
    "    sc97_mean = np.mean(sample97treated[sample97treated['village']==village]['sc'])\n",
    "    sc98_mean = np.mean(sample98treated[sample98treated['village']==village]['sc'])\n",
    "    village97_sc_means = np.append(village97_sc_means, sc97_mean)\n",
    "    village98_sc_means = np.append(village98_sc_means, sc98_mean)\n",
    "    \n",
    "# t-test\n",
    "stat, pval = stats.ttest_ind(village97_sc_means,village98_sc_means,equal_var=False)\n",
    "    \n",
    "# plot\n",
    "fig, ax = plt.subplots()\n",
    "\n",
    "# make sure bins are consistent between histograms\n",
    "bins = np.linspace(0,1,20)\n",
    "\n",
    "# histograms\n",
    "ax.hist(village97_sc_means, bins=bins, color='C0', alpha=0.5, label='1997')\n",
    "ax.hist(village98_sc_means, bins=bins, color='C1', alpha=0.5, label='1998')\n",
    "\n",
    "# means\n",
    "ax.axvline(np.mean(sample97treated['sc']), c='C0', ls='--')\n",
    "ax.axvline(np.mean(sample98treated['sc']), c='C1', ls='--')\n",
    "\n",
    "# t-test results\n",
    "ax.text(0.2, 0.5, 'stat = {:3.2}\\np-value = {:3.2}'.format(stat,pval),\n",
    "        horizontalalignment='center',verticalalignment='center',transform=ax.transAxes)\n",
    "\n",
    "# prettify\n",
    "ax.legend()\n",
    "ax.set_xlabel('average enrollment rate for each village')\n",
    "ax.set_ylabel('n')\n",
    "ax.set_xlim(0.2,1)\n",
    "\n",
    "plt.show(fig)"
   ]
  },
  {
   "cell_type": "markdown",
   "metadata": {},
   "source": [
    "> <font color='red'>Looking at the plot created above, there does appear to be a slight difference between the two distributions. In particular, the distribution of the average enrollment rate for poor treatment households in 1998 appears to be slightly shifted to higher values compared to that for poor treatment households in 1997. The mean values, although similar, also reflect this shift. Our t-test also confirms this observation, although the p-value just passes the 95% significance threshold. If we neglect all other considerations and take this observation at face value, it suggests that the treatment did increase school enrollment in poor villages. However, there may have been factors other than the treatment that increased school enrollment between 1997 and 1998.</font>"
   ]
  },
  {
   "cell_type": "markdown",
   "metadata": {},
   "source": [
    "## Part 2: Measuring Impact\n",
    "\n",
    "Our goal is to estimate the causal impact of the PROGRESA program on the social and economic outcomes of individuals in Mexico. We will focus on the impact of the program on the poor (those with poor=='pobre'), since only the poor were eligible to receive the PROGRESA assistance.\n",
    "\n",
    "### 2.1 Simple differences: T-test\n",
    "\n",
    "Begin by estimating the impact of Progresa using \"simple differences.\" Restricting yourself to data from 1998 (after treatment), calculate the average enrollment rate among **poor** households in the Treatment villages and the average enrollment rate among **poor** households in the control villages. Use a t-test to determine if this difference is statistically significant. What do you conclude?"
   ]
  },
  {
   "cell_type": "code",
   "execution_count": 9,
   "metadata": {},
   "outputs": [
    {
     "data": {
      "image/png": "[encoded data removed]",
      "text/plain": [
       "<Figure size 432x288 with 1 Axes>"
      ]
     },
     "metadata": {
      "needs_background": "light"
     },
     "output_type": "display_data"
    }
   ],
   "source": [
    "# pull out the two populations we want to compare\n",
    "sample98treated = sample[(sample['year']==98) & (sample['poor']==0) & (sample['progresa']==1)].copy()\n",
    "sample98untreated = sample[(sample['year']==98) & (sample['poor']==0) & (sample['progresa']==0)].copy()\n",
    "# note that in my dataframe, poor==0 (not 1, see above)\n",
    "\n",
    "# get the unique villages\n",
    "treated_villages98 = sample98treated['village'].unique()\n",
    "untreated_villages98 = sample98untreated['village'].unique()\n",
    "\n",
    "# compute the average enrollment rate for each village in the treatment and control\n",
    "treated_village98_sc_means = np.array([])\n",
    "for village in treated_villages98:\n",
    "    sc98_mean = np.mean(sample98treated[sample98treated['village']==village]['sc'])\n",
    "    treated_village98_sc_means = np.append(treated_village98_sc_means, sc98_mean)\n",
    "    \n",
    "untreated_village98_sc_means = np.array([])\n",
    "for village in untreated_villages98:\n",
    "    sc98_mean = np.mean(sample98untreated[sample98untreated['village']==village]['sc'])\n",
    "    untreated_village98_sc_means = np.append(untreated_village98_sc_means, sc98_mean)\n",
    "    \n",
    "# t-test\n",
    "stat, pval = stats.ttest_ind(treated_village98_sc_means,untreated_village98_sc_means,equal_var=False)\n",
    "    \n",
    "# plot\n",
    "fig, ax = plt.subplots()\n",
    "\n",
    "# make sure bins are consistent between histograms\n",
    "bins = np.linspace(0,1,20)\n",
    "\n",
    "# histograms\n",
    "ax.hist(treated_village98_sc_means, bins=bins, color='C0', alpha=0.5, label='treatment')\n",
    "ax.hist(untreated_village98_sc_means, bins=bins, color='C1', alpha=0.5, label='control')\n",
    "\n",
    "# means\n",
    "ax.axvline(np.mean(sample98treated['sc']), c='C0', ls='--')\n",
    "ax.axvline(np.mean(sample98untreated['sc']), c='C1', ls='--')\n",
    "effect_2_1 = np.mean(sample98treated['sc']) - np.mean(sample98untreated['sc'])\n",
    "\n",
    "# t-test results\n",
    "ax.text(0.2, 0.5, 'difference = {:3.2}\\nstat = {:3.2}\\np-value = {:3.2}'.format(effect_2_1,stat,pval),\n",
    "        horizontalalignment='center',verticalalignment='center',transform=ax.transAxes)\n",
    "\n",
    "# prettify\n",
    "ax.legend()\n",
    "ax.set_xlabel('average enrollment rate for each village')\n",
    "ax.set_ylabel('n')\n",
    "ax.set_xlim(0.2,1)\n",
    "\n",
    "plt.show(fig)"
   ]
  },
  {
   "cell_type": "markdown",
   "metadata": {},
   "source": [
    "> <font color='red'>Looking at the histograms above, the distribution for treatment villages does appear to be shifted to higher values relative to the control villages. The mean for the treatment villages is also slightly higher than that of the control villages. Our t-test also confirms this observation, with the p-value well under the 95% significance threshold. Again, if we ignore all other considerations and take this observation at face value, it suggests that the treatment did increase school enrollment in poor villages. However, we must remember that there was a different at baseline between the treatment and control villages, and so without explicitly accounting for this, we cannot conclude based on the histogram shown above that the treatment did increase school enrollment in poor villages.</font>"
   ]
  },
  {
   "cell_type": "markdown",
   "metadata": {},
   "source": [
    "### 2.2 Simple differences: Regression\n",
    "\n",
    "Estimate the effects of Progresa on enrollment using a regression model, by regressing the 1998 enrollment rates **of the poor** on treatment assignment. For now, do not include any other variables in your regression. Discuss the following:"
   ]
  },
  {
   "cell_type": "markdown",
   "metadata": {},
   "source": [
    "> <font color='red'>The equation we will be implementing is:\n",
    ">\n",
    "> $$\n",
    "  Y_{i} = \\alpha + \\beta T_{i} + \\epsilon_{i}\n",
    "  $$\n",
    ">\n",
    "> where $Y_{i}$ is school enrollment, $T_{i}$ is a binary variable of treatment/control, and $i$ represents an individual household. This means that $\\alpha$ represents average school enrollment for all control households, and $\\beta$ represents the average change in school enrollment for treatment households relative to control households.</font>"
   ]
  },
  {
   "cell_type": "code",
   "execution_count": 10,
   "metadata": {},
   "outputs": [
    {
     "name": "stdout",
     "output_type": "stream",
     "text": [
      "                            OLS Regression Results                            \n",
      "==============================================================================\n",
      "Dep. Variable:                     sc   R-squared:                       0.003\n",
      "Model:                            OLS   Adj. R-squared:                  0.003\n",
      "Method:                 Least Squares   F-statistic:                     69.87\n",
      "Date:                Mon, 17 Sep 2018   Prob (F-statistic):           6.64e-17\n",
      "Time:                        18:02:11   Log-Likelihood:                -11926.\n",
      "No. Observations:               27450   AIC:                         2.386e+04\n",
      "Df Residuals:                   27448   BIC:                         2.387e+04\n",
      "Df Model:                           1                                         \n",
      "Covariance Type:            nonrobust                                         \n",
      "==============================================================================\n",
      "                 coef    std err          t      P>|t|      [0.025      0.975]\n",
      "------------------------------------------------------------------------------\n",
      "Intercept      0.8076      0.004    220.676      0.000       0.800       0.815\n",
      "progresa       0.0388      0.005      8.359      0.000       0.030       0.048\n",
      "==============================================================================\n",
      "Omnibus:                     7638.939   Durbin-Watson:                   1.734\n",
      "Prob(Omnibus):                  0.000   Jarque-Bera (JB):            15767.534\n",
      "Skew:                          -1.767   Prob(JB):                         0.00\n",
      "Kurtosis:                       4.140   Cond. No.                         3.01\n",
      "==============================================================================\n",
      "\n",
      "Warnings:\n",
      "[1] Standard Errors assume that the covariance matrix of the errors is correctly specified.\n"
     ]
    }
   ],
   "source": [
    "# pull out data for 1998\n",
    "sample98 = sample[(sample['year']==98) & (sample['poor']==0)].copy()\n",
    "# note that in my dataframe, poor==0 (not 1, see above)\n",
    "\n",
    "# do the regression\n",
    "result = smf.ols(formula = \"sc ~ progresa\", data = sample98).fit()\n",
    "print(result.summary())"
   ]
  },
  {
   "cell_type": "code",
   "execution_count": 11,
   "metadata": {},
   "outputs": [
    {
     "name": "stdout",
     "output_type": "stream",
     "text": [
      "alpha = 0.808, p-value = 0.000\n",
      "beta  = 0.039, p-value = 0.000\n",
      "---\n",
      "average change = 4.81%\n"
     ]
    }
   ],
   "source": [
    "# pull out key values\n",
    "alpha = result.params[0]\n",
    "beta = result.params[1]\n",
    "effect_2_2 = beta\n",
    "alpha_p = result.pvalues[0]\n",
    "beta_p = result.pvalues[1]\n",
    "\n",
    "# print\n",
    "print('alpha = {:4.3f}, p-value = {:4.3f}'.format(alpha, alpha_p))\n",
    "print('beta  = {:4.3f}, p-value = {:4.3f}'.format(beta, beta_p))\n",
    "print('---')\n",
    "print('average change = {:4.3}%'.format((beta/alpha)*100))"
   ]
  },
  {
   "cell_type": "markdown",
   "metadata": {},
   "source": [
    "* Based on this model, how much did Progresa increase or decrease the likelihood of a child enrolling? Make sure you express you answer in a sentence that your grandmother could understand, using appropriate units.\n",
    "\n",
    "> <font color='red'>If we assume that the assumptions underlying this simple difference regression model are correct (which they aren't), Progresa increased the likelihood of a child enrolling by 4.81\\%.</font>\n",
    "\n",
    "* How does your regression estimate compare to your t-test estimate from part 2.1?"
   ]
  },
  {
   "cell_type": "code",
   "execution_count": 12,
   "metadata": {},
   "outputs": [
    {
     "name": "stdout",
     "output_type": "stream",
     "text": [
      "2.2 effect = 0.039\n",
      "2.1 effect = 0.039\n",
      "difference = -0.000\n"
     ]
    }
   ],
   "source": [
    "# compare 2.1 to 2.2\n",
    "print('2.2 effect = {:4.3f}'.format(effect_2_2))\n",
    "print('2.1 effect = {:4.3f}'.format(effect_2_1))\n",
    "print('difference = {:4.3f}'.format(effect_2_2-effect_2_1))"
   ]
  },
  {
   "cell_type": "markdown",
   "metadata": {},
   "source": [
    "> <font color='red'>As we can see above, the difference in means between treatment and control households is identical to the calculated $\\beta$ (neglecting machine precision error). This is expected, since $\\beta$ represents the average change in school enrollment for treatment households relative to control households (i.e. the linear regression calculates the difference in means between treatment and control households, just in another way).</font>\n",
    "\n",
    "* Based on this regression model, can we reject the null hypothesis that the treatment effects are zero?\n",
    "\n",
    "> <font color='red'>If we assume that the assumptions underlying this simple difference regression model are correct, we can reject the null hypothesis at the 95\\% confidence level that the treatment effects are zero, as we see a positive $\\beta$ with an associated p-value orders of magnitude smaller than 0.05.</font>\n",
    "\n",
    "* What is the counterfactual assumption underlying this regression?\n",
    "\n",
    "> <font color='red'>The counterfactual assumption is that, in the absence of treatment, the treatment households would have the same rate of school enrollment as the control households. We have already shown in part 1.3 that this is a bad assumption to make: there are differences in baseline between the treatment and control groups.</font>"
   ]
  },
  {
   "cell_type": "markdown",
   "metadata": {},
   "source": [
    "### 2.3 Multiple Regression\n",
    "\n",
    "Re-run the above regression estimated but this time include a set of control variables. Include, for instance, age, distance to a secondary school, gender, education of household head, welfare index, indigenous, etc."
   ]
  },
  {
   "cell_type": "markdown",
   "metadata": {},
   "source": [
    "> <font color='red'>The equation we will be implementing is:\n",
    ">\n",
    "> $$\n",
    "  Y_{i} = \\alpha + \\beta T_{i} + \\gamma_{j} X_{ij} + \\epsilon_{i}\n",
    "  $$\n",
    ">\n",
    "> where $X_{ij}$ are the $j$ control variables for the $i$ households.</font>"
   ]
  },
  {
   "cell_type": "code",
   "execution_count": 13,
   "metadata": {},
   "outputs": [
    {
     "name": "stdout",
     "output_type": "stream",
     "text": [
      "                            OLS Regression Results                            \n",
      "==============================================================================\n",
      "Dep. Variable:                     sc   R-squared:                       0.304\n",
      "Model:                            OLS   Adj. R-squared:                  0.303\n",
      "Method:                 Least Squares   F-statistic:                     847.0\n",
      "Date:                Mon, 17 Sep 2018   Prob (F-statistic):               0.00\n",
      "Time:                        18:02:11   Log-Likelihood:                -6928.7\n",
      "No. Observations:               27200   AIC:                         1.389e+04\n",
      "Df Residuals:                   27185   BIC:                         1.401e+04\n",
      "Df Model:                          14                                         \n",
      "Covariance Type:            nonrobust                                         \n",
      "=================================================================================\n",
      "                    coef    std err          t      P>|t|      [0.025      0.975]\n",
      "---------------------------------------------------------------------------------\n",
      "Intercept         1.6540      0.020     84.276      0.000       1.616       1.692\n",
      "progresa          0.0319      0.004      8.140      0.000       0.024       0.040\n",
      "sex               0.0336      0.004      8.855      0.000       0.026       0.041\n",
      "indig             0.0272      0.005      5.852      0.000       0.018       0.036\n",
      "dist_sec         -0.0074      0.001     -8.537      0.000      -0.009      -0.006\n",
      "grc               0.0510      0.001     34.772      0.000       0.048       0.054\n",
      "fam_n             0.0015      0.001      1.724      0.085      -0.000       0.003\n",
      "min_dist          0.0004   6.22e-05      5.653      0.000       0.000       0.000\n",
      "dist_cap          0.0002   3.62e-05      5.247      0.000       0.000       0.000\n",
      "hohedu            0.0041      0.001      4.790      0.000       0.002       0.006\n",
      "hohwag        -1.515e-06   2.77e-06     -0.547      0.584   -6.94e-06    3.91e-06\n",
      "welfare_index -1.809e-05   1.79e-05     -1.011      0.312   -5.32e-05     1.7e-05\n",
      "hohsex            0.0051      0.008      0.672      0.502      -0.010       0.020\n",
      "hohage           -0.0003      0.000     -1.571      0.116      -0.001    7.49e-05\n",
      "age              -0.1000      0.001    -83.566      0.000      -0.102      -0.098\n",
      "==============================================================================\n",
      "Omnibus:                     3250.561   Durbin-Watson:                   1.733\n",
      "Prob(Omnibus):                  0.000   Jarque-Bera (JB):             4554.560\n",
      "Skew:                          -0.949   Prob(JB):                         0.00\n",
      "Kurtosis:                       3.645   Cond. No.                     1.08e+04\n",
      "==============================================================================\n",
      "\n",
      "Warnings:\n",
      "[1] Standard Errors assume that the covariance matrix of the errors is correctly specified.\n",
      "[2] The condition number is large, 1.08e+04. This might indicate that there are\n",
      "strong multicollinearity or other numerical problems.\n"
     ]
    }
   ],
   "source": [
    "# do the regression with control variables\n",
    "formula = \"sc ~ progresa +\"+\\\n",
    "          \"sex +\"+\\\n",
    "          \"indig +\"+\\\n",
    "          \"dist_sec +\"+\\\n",
    "          \"grc +\"+\\\n",
    "          \"fam_n +\"+\\\n",
    "          \"min_dist +\"+\\\n",
    "          \"dist_cap +\"+\\\n",
    "          \"hohedu +\"+\\\n",
    "          \"hohwag +\"+\\\n",
    "          \"welfare_index +\"+\\\n",
    "          \"hohsex +\"+\\\n",
    "          \"hohage +\"+\\\n",
    "          \"age\"\n",
    "\n",
    "result = smf.ols(formula = formula, data = sample98).fit()\n",
    "print(result.summary())"
   ]
  },
  {
   "cell_type": "code",
   "execution_count": 14,
   "metadata": {},
   "outputs": [
    {
     "name": "stdout",
     "output_type": "stream",
     "text": [
      "alpha = 1.654, p-value = 0.000\n",
      "beta  = 0.032, p-value = 0.000\n"
     ]
    }
   ],
   "source": [
    "# pull out key values\n",
    "alpha = result.params[0]\n",
    "beta = result.params[1]\n",
    "effect_2_3 = beta\n",
    "alpha_p = result.pvalues[0]\n",
    "beta_p = result.pvalues[1]\n",
    "\n",
    "# print\n",
    "print('alpha = {:4.3f}, p-value = {:4.3f}'.format(alpha, alpha_p))\n",
    "print('beta  = {:4.3f}, p-value = {:4.3f}'.format(beta, beta_p))"
   ]
  },
  {
   "cell_type": "markdown",
   "metadata": {},
   "source": [
    "* How do the controls affect the point estimate of treatment effect?\n",
    "\n",
    "> <font color='red'>The control variables slightly decrease $\\beta$ relative to the simple difference regression model (0.032 vs. 0.039). As we can see from the coefficients above, several control variables (e.g. `sex`, `indig`, `dist_sec`, ...) are significantly correlated with school enrollment (i.e. they have p-values less than 0.05 and the magnitude of their coefficients are large). In fact, the magnitude of the effect of some of these control variables (e.g. `sex`), is actually larger than the magnitude of the effect of treatment, highlighting the importance of taking these control variables into account. In other words, by accounting for these correlations, we come closer to isolating the effect of treatment on school enrollment. Therefore, the smaller $\\beta$ suggests that the true effect of treatment on school enrollment is smaller than the estimate made with the simple difference regression model.\n",
    ">\n",
    "> Also note that, by including continuous control variables into the regression, the intercept (i.e. $\\alpha$) becomes not physically interpretable on its own, unlike in section 2.1. In this multiple regression, the intercept ends up representing the non-realistic situation where all the control variables have a value of zero, and thus ends up with a non-realistic value >1.\n",
    "</font>\n",
    "\n",
    "* How do the controls affect the standard error on the treatment effect?\n",
    "\n",
    "> <font color='red'>The standard error on $\\beta$ is slightly smaller in the multiple regression than in the simple difference regression model (0.004 vs. 0.005). If our control variables are correlated with school enrollment (which they are, as discussed above) and treatment is actually correlated with school enrollment, then this is expected, since the multiple regression will remove the effect of the control variables, resulting in a more accurate quantification of the correlation between treatment and school enrollment.</font>\n",
    "\n",
    "* How do you interpret the differences (or similarities) between your estimates of 2.2 and 2.3?\n",
    "\n",
    "> <font color='red'>As discussed above, the smaller $\\beta$ in the multiple regression model relative to the simple difference regression model suggests that the true effect of treatment on school enrollment is smaller than the estimate made with the simple difference regression model, since the multiple regression model accounts for other factors that also correlate with school enrollment. This statement can be viewed another way: because there is a difference at baseline for several variables between treatment and control households, and because these variables correlate with school enrollment, the effect of treatment cannot be correctly isolated just by examining school enrollment between treatment and control villages. However, the multiple regression approach also does not truly isolate the effect of treatment, since control variables can never account for all possible non-treatment factors that influence school enrollment (i.e. there are factors that cannot be easily observed). Furthermore, multiple regression does not account for time-variant changes in non-treatment factors between treatment and control villages. Nevertheless, as discussed above, this approach is closer to isolating the effect of treatment on school enrollment since we are explicitly accounting for at least some of the non-treatment factors that we know are correlated with school enrollment.</font>"
   ]
  },
  {
   "cell_type": "markdown",
   "metadata": {},
   "source": [
    "### 2.4 Difference-in-Difference, version 1 (tabular)\n",
    "\n",
    "Thus far, we have computed the effects of Progresa by estimating the difference in 1998 enrollment rates across villages. An alternative approach would be to compute the treatment effect using a difference-in-differences framework.\n",
    "\n",
    "Begin by estimating the average treatment effects of the program for poor households using data from 1997 and 1998. Specifically, calculate the difference (between 1997 and 1998) in enrollment rates among poor households in treated villages; then compute the difference (between 1997 and 1998) in enrollment rates among poor households in control villages. The difference between these two differences is your estimate."
   ]
  },
  {
   "cell_type": "code",
   "execution_count": 15,
   "metadata": {},
   "outputs": [
    {
     "data": {
      "text/html": [
       "<div>\n",
       "<style scoped>\n",
       "    .dataframe tbody tr th:only-of-type {\n",
       "        vertical-align: middle;\n",
       "    }\n",
       "\n",
       "    .dataframe tbody tr th {\n",
       "        vertical-align: top;\n",
       "    }\n",
       "\n",
       "    .dataframe thead th {\n",
       "        text-align: right;\n",
       "    }\n",
       "</style>\n",
       "<table border=\"1\" class=\"dataframe\">\n",
       "  <thead>\n",
       "    <tr style=\"text-align: right;\">\n",
       "      <th></th>\n",
       "      <th>group</th>\n",
       "      <th>mean sc 97</th>\n",
       "      <th>mean sc 98</th>\n",
       "      <th>difference</th>\n",
       "    </tr>\n",
       "  </thead>\n",
       "  <tbody>\n",
       "    <tr>\n",
       "      <th>0</th>\n",
       "      <td>control</td>\n",
       "      <td>0.815186</td>\n",
       "      <td>0.807637</td>\n",
       "      <td>-0.007549</td>\n",
       "    </tr>\n",
       "    <tr>\n",
       "      <th>1</th>\n",
       "      <td>treatment</td>\n",
       "      <td>0.822697</td>\n",
       "      <td>0.846479</td>\n",
       "      <td>0.023782</td>\n",
       "    </tr>\n",
       "  </tbody>\n",
       "</table>\n",
       "</div>"
      ],
      "text/plain": [
       "       group  mean sc 97  mean sc 98  difference\n",
       "0    control    0.815186    0.807637   -0.007549\n",
       "1  treatment    0.822697    0.846479    0.023782"
      ]
     },
     "execution_count": 15,
     "metadata": {},
     "output_type": "execute_result"
    }
   ],
   "source": [
    "# create a dataframe for better visualization\n",
    "DID_table = pd.DataFrame(columns=['group','mean sc 97','mean sc 98','difference'])\n",
    "\n",
    "# add control row\n",
    "add_row = pd.DataFrame([['control',\n",
    "                         np.mean(sample97untreated['sc']),\n",
    "                         np.mean(sample98untreated['sc']),\n",
    "                         np.mean(sample98untreated['sc'])-np.mean(sample97untreated['sc'])]],\n",
    "                       columns=['group','mean sc 97','mean sc 98','difference'])\n",
    "DID_table = DID_table.append(add_row, ignore_index=True)\n",
    "\n",
    "# add treatment row\n",
    "add_row = pd.DataFrame([['treatment',\n",
    "                         np.mean(sample97treated['sc']),\n",
    "                         np.mean(sample98treated['sc']),\n",
    "                         np.mean(sample98treated['sc'])-np.mean(sample97treated['sc'])]],\n",
    "                       columns=['group','mean sc 97','mean sc 98','difference'])\n",
    "DID_table = DID_table.append(add_row, ignore_index=True)\n",
    "\n",
    "# show\n",
    "DID_table"
   ]
  },
  {
   "cell_type": "code",
   "execution_count": 16,
   "metadata": {},
   "outputs": [
    {
     "name": "stdout",
     "output_type": "stream",
     "text": [
      "difference in difference estimate = 0.031\n"
     ]
    }
   ],
   "source": [
    "# difference-in-difference estimate\n",
    "DID_estimate = DID_table['difference'][1] - DID_table['difference'][0]\n",
    "effect_2_4 = DID_estimate\n",
    "print('difference in difference estimate = {:4.3f}'.format(DID_estimate))"
   ]
  },
  {
   "cell_type": "markdown",
   "metadata": {},
   "source": [
    "* What is your estimate of the impact, and how does it compare to your earlier (simple difference) results?\n",
    "\n",
    "> <font color='red'>As shown above, the estimated impact from the difference-in-difference (DID) approach is a 0.031 increase in school enrollment. The simple difference method applied earlier instead estimates an impact of 0.039. As discussed in 2.1 and 2.2, the simple difference approach has multiple problems associated with it. The DID, on the other hand, attempts to account for the difference in baseline between the treatment and control households, as well as time-variant changes in school enrollment that are not associated with treatment. Therefore, the DID estimate is closest to the \"truth\" of all approaches used so far.</font>\n",
    "\n",
    "* What is the counterfactual assumption underlying this estimate?\n",
    "\n",
    "> <font color='red'>The counterfactual assumption is that, in the absence of treatment, the change in school enrollment for the treatment group between 1997 and 1998 would have been the same as the change in school enrollment for the control group over the same time period. This assumption is not terrible, but we have shown already that there are differences at baseline between the treatment and control groups in factors that correlate with school enrollment. Therefore, if these non-treatment factors changed differently for the treatment and control groups between 1997 and 1998, then the counterfactual assumption would not hold true.</font>"
   ]
  },
  {
   "cell_type": "markdown",
   "metadata": {},
   "source": [
    "### 2.5 Difference-in-Difference, version 2 (regression)\n",
    "\n",
    "Now use a regression specification to estimate the average treatment effects of the program in a difference-in-differences framework. Include at least 5 control variables."
   ]
  },
  {
   "cell_type": "markdown",
   "metadata": {},
   "source": [
    "> <font color='red'>The equation we will be implementing is:\n",
    ">\n",
    "> $$\n",
    "  Y_{i} = \\alpha + \\beta T_{i} + \\gamma_{j} t_{i} + \\delta(T_{i}t_{i}) + \\rho X_{ij} + \\epsilon_{i}\n",
    "  $$\n",
    ">\n",
    "> where $T_{i}$ is a binary variable for treatment, $t_{i}$ is a binary variable for before/after, and $X_{ij}$ are the $j$ control variables for the $i$ households.</font>"
   ]
  },
  {
   "cell_type": "code",
   "execution_count": 17,
   "metadata": {},
   "outputs": [
    {
     "name": "stdout",
     "output_type": "stream",
     "text": [
      "                            OLS Regression Results                            \n",
      "==============================================================================\n",
      "Dep. Variable:                     sc   R-squared:                       0.001\n",
      "Model:                            OLS   Adj. R-squared:                  0.001\n",
      "Method:                 Least Squares   F-statistic:                     28.31\n",
      "Date:                Mon, 17 Sep 2018   Prob (F-statistic):           2.76e-18\n",
      "Time:                        18:02:11   Log-Likelihood:                -26242.\n",
      "No. Observations:               58372   AIC:                         5.249e+04\n",
      "Df Residuals:                   58368   BIC:                         5.253e+04\n",
      "Df Model:                           3                                         \n",
      "Covariance Type:            nonrobust                                         \n",
      "==========================================================================================\n",
      "                             coef    std err          t      P>|t|      [0.025      0.975]\n",
      "------------------------------------------------------------------------------------------\n",
      "Intercept                  0.8152      0.003    233.182      0.000       0.808       0.822\n",
      "C(year)[T.98]             -0.0075      0.005     -1.480      0.139      -0.018       0.002\n",
      "progresa                   0.0075      0.004      1.691      0.091      -0.001       0.016\n",
      "progresa:C(year)[T.98]     0.0313      0.006      4.835      0.000       0.019       0.044\n",
      "==============================================================================\n",
      "Omnibus:                    15346.988   Durbin-Watson:                   1.397\n",
      "Prob(Omnibus):                  0.000   Jarque-Bera (JB):            30608.651\n",
      "Skew:                          -1.711   Prob(JB):                         0.00\n",
      "Kurtosis:                       3.937   Cond. No.                         7.67\n",
      "==============================================================================\n",
      "\n",
      "Warnings:\n",
      "[1] Standard Errors assume that the covariance matrix of the errors is correctly specified.\n"
     ]
    }
   ],
   "source": [
    "# pull out the population we want\n",
    "samplepoor = sample[sample['poor']==0].copy()\n",
    "# note that in my dataframe, poor==0 (not 1, see above)\n",
    "\n",
    "# do the regression without the control variables first\n",
    "formula = \"sc ~ progresa * C(year)\"\n",
    "\n",
    "result = smf.ols(formula = formula, data = samplepoor).fit()\n",
    "print(result.summary())"
   ]
  },
  {
   "cell_type": "markdown",
   "metadata": {},
   "source": [
    "> <font color='red'>Here I just show that, without control variables, the effect estimated in the tabular DID is identical to the effect estimated in the regression DID ($\\delta$, or `progresa:C(year)[T.98]` = 0.0313 in the table above).</font>"
   ]
  },
  {
   "cell_type": "code",
   "execution_count": 18,
   "metadata": {},
   "outputs": [
    {
     "name": "stdout",
     "output_type": "stream",
     "text": [
      "                            OLS Regression Results                            \n",
      "==============================================================================\n",
      "Dep. Variable:                     sc   R-squared:                       0.311\n",
      "Model:                            OLS   Adj. R-squared:                  0.310\n",
      "Method:                 Least Squares   F-statistic:                     1631.\n",
      "Date:                Mon, 17 Sep 2018   Prob (F-statistic):               0.00\n",
      "Time:                        18:02:11   Log-Likelihood:                -15320.\n",
      "No. Observations:               57938   AIC:                         3.067e+04\n",
      "Df Residuals:                   57921   BIC:                         3.083e+04\n",
      "Df Model:                          16                                         \n",
      "Covariance Type:            nonrobust                                         \n",
      "==========================================================================================\n",
      "                             coef    std err          t      P>|t|      [0.025      0.975]\n",
      "------------------------------------------------------------------------------------------\n",
      "Intercept                  1.6163      0.014    119.229      0.000       1.590       1.643\n",
      "C(year)[T.98]              0.0251      0.004      5.866      0.000       0.017       0.033\n",
      "progresa                   0.0033      0.004      0.876      0.381      -0.004       0.011\n",
      "progresa:C(year)[T.98]     0.0292      0.005      5.390      0.000       0.019       0.040\n",
      "sex                        0.0367      0.003     14.006      0.000       0.032       0.042\n",
      "indig                      0.0317      0.003      9.854      0.000       0.025       0.038\n",
      "dist_sec                  -0.0065      0.001    -10.589      0.000      -0.008      -0.005\n",
      "grc                        0.0486      0.001     48.071      0.000       0.047       0.051\n",
      "fam_n                      0.0009      0.001      1.505      0.132      -0.000       0.002\n",
      "min_dist                   0.0003   4.31e-05      7.579      0.000       0.000       0.000\n",
      "dist_cap                   0.0002   2.51e-05      7.329      0.000       0.000       0.000\n",
      "hohedu                     0.0037      0.001      6.225      0.000       0.003       0.005\n",
      "hohwag                   4.95e-07    1.9e-06      0.260      0.795   -3.24e-06    4.23e-06\n",
      "welfare_index          -1.631e-05   1.24e-05     -1.318      0.188   -4.06e-05    7.95e-06\n",
      "hohsex                    -0.0017      0.005     -0.324      0.746      -0.012       0.008\n",
      "hohage                 -4.707e-05      0.000     -0.354      0.723      -0.000       0.000\n",
      "age                       -0.0983      0.001   -120.910      0.000      -0.100      -0.097\n",
      "==============================================================================\n",
      "Omnibus:                     6083.138   Durbin-Watson:                   1.514\n",
      "Prob(Omnibus):                  0.000   Jarque-Bera (JB):             8175.414\n",
      "Skew:                          -0.887   Prob(JB):                         0.00\n",
      "Kurtosis:                       3.488   Cond. No.                     1.09e+04\n",
      "==============================================================================\n",
      "\n",
      "Warnings:\n",
      "[1] Standard Errors assume that the covariance matrix of the errors is correctly specified.\n",
      "[2] The condition number is large, 1.09e+04. This might indicate that there are\n",
      "strong multicollinearity or other numerical problems.\n"
     ]
    }
   ],
   "source": [
    "# pull out the population we want\n",
    "samplepoor = sample[sample['poor']==0].copy()\n",
    "# note that in my dataframe, poor==0 (not 1, see above)\n",
    "\n",
    "# do the regression with control variables\n",
    "formula = \"sc ~ progresa * C(year) +\"+\\\n",
    "          \"sex +\"+\\\n",
    "          \"indig +\"+\\\n",
    "          \"dist_sec +\"+\\\n",
    "          \"grc +\"+\\\n",
    "          \"fam_n +\"+\\\n",
    "          \"min_dist +\"+\\\n",
    "          \"dist_cap +\"+\\\n",
    "          \"hohedu +\"+\\\n",
    "          \"hohwag +\"+\\\n",
    "          \"welfare_index +\"+\\\n",
    "          \"hohsex +\"+\\\n",
    "          \"hohage +\"+\\\n",
    "          \"age\"\n",
    "\n",
    "result = smf.ols(formula = formula, data = samplepoor).fit()\n",
    "print(result.summary())"
   ]
  },
  {
   "cell_type": "code",
   "execution_count": 19,
   "metadata": {},
   "outputs": [
    {
     "name": "stdout",
     "output_type": "stream",
     "text": [
      "alpha = 1.616, p-value = 0.000\n",
      "delta = 0.029, p-value = 0.000\n"
     ]
    }
   ],
   "source": [
    "# pull out key values\n",
    "alpha = result.params[0]\n",
    "delta = result.params[3]\n",
    "effect_2_5 = delta\n",
    "alpha_p = result.pvalues[0]\n",
    "delta_p = result.pvalues[3]\n",
    "\n",
    "# print\n",
    "print('alpha = {:4.3f}, p-value = {:4.3f}'.format(alpha, alpha_p))\n",
    "print('delta = {:4.3f}, p-value = {:4.3f}'.format(delta, delta_p))"
   ]
  },
  {
   "cell_type": "markdown",
   "metadata": {},
   "source": [
    "* What is your estimate of the impact of Progresa? Be very specific in interpreting your coefficients and standard errors, and make sure to specify exactly what units you are measuring and estimating.\n",
    "\n",
    "> <font color='red'>As shown above, the estimated impact from this regression DID approach is a 0.029 average increase in school enrollment between 1997 and 1998 for the treatment (Progresa) households relative to the control households. In effect, we arrive at this number by doing a multiple linear regression, but including an interaction term between the treatment and before/after binary variables (as shown in the equation above). It is the coefficient of this interaction term that can be interpreted as the estimated effect. Both the standard error and the p-value for this coefficient are low, indicating that the correlation between the treatment and school enrollment is statistically significant.</font>\n",
    "\n",
    "* How do these estimates of the treatment effect compare to the estimates based on the simple difference?\n",
    "\n",
    "> <font color='red'>In the simple difference approach, the estimated effect was 0.039, which is a higher value than the effect estimated here. Again, this is because the simple difference approach does not account for the effect of non-treatment factors on school enrollment between the control and treatment households. Given that the DID estimate does account for these non-treatment factors and estimates a lower treatment effect, it suggests that differences in non-treatment factors (i.e. in the absence of treatment) between treatment and control groups result in higher school enrollment for the control group relative to the treatment group.</font>\n",
    "\n",
    "* How do these estimates compare to the difference-in-difference estimates from 2.4 above? What accounts for these differences?\n",
    "\n",
    "> <font color='red'>In the tabular DID approach, we estimated an impact of 0.031, which is a slightly higher value than the effect estimated here. This difference arises from the use of control variables (as shown above when we do and do not include the control variables in the regression), which explicitly attempt to account for non-treatment factors. However, the problems with using control variables are identical to those described in 2.3: the approach does not truly isolate the effect of treatment, since control variables can never account for all possible non-treatment factors that influence school enrollment. Nevertheless, the difference between the tabular and regression DID approaches suggests that the non-treatment variables increase school enrollment more for the control households than for the treatment households.</font>\n",
    "\n",
    "* What is the counterfactual assumption underlying this regression?\n",
    "\n",
    "> <font color='red'>The counterfactual assumption is that, in the absence of treatment, the change in school enrollment for the treatment group between 1997 and 1998 would have been the same as the change in school enrollment for the control group over the same time period, once we remove the estimated effect of the non-treatment factors (i.e. the control variables) on school enrollment.</font>"
   ]
  },
  {
   "cell_type": "markdown",
   "metadata": {},
   "source": [
    "### 2.6 Spillover effects\n",
    "\n",
    "Thus far, we have focused on the impact of PROGRESA on poor households. Repeat your analysis in 2.5, instead focusing on the impact of PROGRESA on non-poor households."
   ]
  },
  {
   "cell_type": "markdown",
   "metadata": {},
   "source": [
    "> <font color='red'>Same equation as 2.5, except we apply to the non-poor instead:</font>"
   ]
  },
  {
   "cell_type": "code",
   "execution_count": 20,
   "metadata": {},
   "outputs": [
    {
     "name": "stdout",
     "output_type": "stream",
     "text": [
      "                            OLS Regression Results                            \n",
      "==============================================================================\n",
      "Dep. Variable:                     sc   R-squared:                       0.337\n",
      "Model:                            OLS   Adj. R-squared:                  0.336\n",
      "Method:                 Least Squares   F-statistic:                     327.3\n",
      "Date:                Mon, 17 Sep 2018   Prob (F-statistic):               0.00\n",
      "Time:                        18:02:11   Log-Likelihood:                -3267.3\n",
      "No. Observations:               10319   AIC:                             6569.\n",
      "Df Residuals:                   10302   BIC:                             6692.\n",
      "Df Model:                          16                                         \n",
      "Covariance Type:            nonrobust                                         \n",
      "==========================================================================================\n",
      "                             coef    std err          t      P>|t|      [0.025      0.975]\n",
      "------------------------------------------------------------------------------------------\n",
      "Intercept                  1.7241      0.037     46.496      0.000       1.651       1.797\n",
      "C(year)[T.98]              0.0351      0.010      3.359      0.001       0.015       0.056\n",
      "progresa                   0.0221      0.009      2.454      0.014       0.004       0.040\n",
      "progresa:C(year)[T.98]    -0.0034      0.013     -0.254      0.800      -0.030       0.023\n",
      "sex                        0.0328      0.007      4.998      0.000       0.020       0.046\n",
      "indig                      0.0196      0.010      1.946      0.052      -0.000       0.039\n",
      "dist_sec                  -0.0098      0.002     -5.696      0.000      -0.013      -0.006\n",
      "grc                        0.0649      0.002     26.569      0.000       0.060       0.070\n",
      "fam_n                     -0.0028      0.001     -1.967      0.049      -0.006   -1.01e-05\n",
      "min_dist                  -0.0002      0.000     -1.517      0.129      -0.000       5e-05\n",
      "dist_cap                   0.0006   7.39e-05      7.509      0.000       0.000       0.001\n",
      "hohedu                     0.0053      0.001      4.431      0.000       0.003       0.008\n",
      "hohwag                  1.476e-06   3.04e-06      0.486      0.627   -4.47e-06    7.43e-06\n",
      "welfare_index           3.353e-05   2.77e-05      1.212      0.225   -2.07e-05    8.77e-05\n",
      "hohsex                    -0.0123      0.013     -0.912      0.362      -0.039       0.014\n",
      "hohage                     0.0003      0.000      0.887      0.375      -0.000       0.001\n",
      "age                       -0.1156      0.002    -55.253      0.000      -0.120      -0.111\n",
      "==============================================================================\n",
      "Omnibus:                      624.437   Durbin-Watson:                   1.546\n",
      "Prob(Omnibus):                  0.000   Jarque-Bera (JB):              744.805\n",
      "Skew:                          -0.658   Prob(JB):                    1.85e-162\n",
      "Kurtosis:                       2.997   Cond. No.                     1.69e+04\n",
      "==============================================================================\n",
      "\n",
      "Warnings:\n",
      "[1] Standard Errors assume that the covariance matrix of the errors is correctly specified.\n",
      "[2] The condition number is large, 1.69e+04. This might indicate that there are\n",
      "strong multicollinearity or other numerical problems.\n"
     ]
    }
   ],
   "source": [
    "# pull out the population we want\n",
    "samplerich = sample[sample['poor']==1].copy()\n",
    "# note that in my dataframe, poor==0 (not 1, see above)\n",
    "\n",
    "# do the regression with control variables\n",
    "formula = \"sc ~ progresa * C(year) +\"+\\\n",
    "          \"sex +\"+\\\n",
    "          \"indig +\"+\\\n",
    "          \"dist_sec +\"+\\\n",
    "          \"grc +\"+\\\n",
    "          \"fam_n +\"+\\\n",
    "          \"min_dist +\"+\\\n",
    "          \"dist_cap +\"+\\\n",
    "          \"hohedu +\"+\\\n",
    "          \"hohwag +\"+\\\n",
    "          \"welfare_index +\"+\\\n",
    "          \"hohsex +\"+\\\n",
    "          \"hohage +\"+\\\n",
    "          \"age\"\n",
    "\n",
    "result = smf.ols(formula = formula, data = samplerich).fit()\n",
    "print(result.summary())"
   ]
  },
  {
   "cell_type": "code",
   "execution_count": 21,
   "metadata": {},
   "outputs": [
    {
     "name": "stdout",
     "output_type": "stream",
     "text": [
      "alpha =   1.724, p-value = 0.000\n",
      "delta =  -0.003, p-value = 0.800\n"
     ]
    }
   ],
   "source": [
    "# pull out key values\n",
    "alpha = result.params[0]\n",
    "delta = result.params[3]\n",
    "effect_2_5 = delta\n",
    "alpha_p = result.pvalues[0]\n",
    "delta_p = result.pvalues[3]\n",
    "\n",
    "# print\n",
    "print('alpha = {:7.3f}, p-value = {:4.3f}'.format(alpha, alpha_p))\n",
    "print('delta = {:7.3f}, p-value = {:4.3f}'.format(delta, delta_p))"
   ]
  },
  {
   "cell_type": "markdown",
   "metadata": {},
   "source": [
    "* Do you observe any impacts of PROGRESA on the non-poor?\n",
    "\n",
    "> <font color='red'>$\\delta$ is very small at -0.003, the standard error on this coefficient is large (0.013), and the p-value is also large (0.8). Together, these values suggest that there is no significant impact of Progresa on the non-poor.</font>\n",
    "\n",
    "* Regardless of whether you find evidence of spillovers, describe one or two reasons why PROGRESA *might* have impacted non-poor households. Give concrete examples based on the context in which PROGRESA was implemented.\n",
    "\n",
    "> <font color='red'>Example 1: households that do not meet the Progresa requirements, but live nearby households that do meet the requirements, may see an increasing number of households around them sending their children to school. This might inspire these non-poor households to also send their children to school, fearing that their children will be \"left behind\" relative to the rest of the community.\n",
    ">\n",
    "> Example 2: as a result of Progresa, smaller/remote schools may experience crowding as school enrollments go up. This may disincentivise non-poor households to send their children to school, since the quality of education may deteriorate as a result of this over crowding.</font>"
   ]
  },
  {
   "cell_type": "markdown",
   "metadata": {},
   "source": [
    "### 2.7 Summary\n",
    "\n",
    "* Based on all the analysis you have undertaken to date, do you believe that Progresa had a causal impact on the enrollment rates of poor households in Mexico?\n",
    "\n",
    "> <font color='red'>Yes - I believe that Progresa had a causal impact on enrollment rates of poor hosueholds in Mexico. Every approach applied above estimated a non-negligible impact of Progresa on school enrollment. This was even the case in the most \"nuanced\" method applied (the regression DID), which attempted to account for the influence of time-variant non-treatment factors on school enrollment as well as the difference at baseline. Nevertheless, without truly random application of treatment, (and even with it), we cannot be 100% certain that non-observed factors have led to the increase in school enrollment rather than Progresa.</font>\n",
    "\n",
    "* Describe one other way that you might analyze these data to further investigate the causal impact of Progresa on enrollment, and clearly state the counterfactual assumption you would need to make for that approach to be valid.  *(Hint: Consider using the non-poor in your analysis)*\n",
    "\n",
    "> <font color='red'>Another way to assess the causal impact of Progresa on enrollment would be to use a regression discontinuity approach. The way in which Progresa was implemented lends itself well to such an approach - subsidies were granted to households that fell below a certain welfare threshold, which was semi-arbitrarily chosen. Therefore, if we assume that households that fall just on either side of the threshold are, in all other aspects, effectively equal, then we can treat the application of the treatment as being pseudo-random for this subset of the study sample. The counterfactual assumption in this case would be that, in the absence of treatment, school enrollment for households that fall just above the welfare threshold would be the same as school enrollment for households that fall just below the welfare threshold.\n",
    ">\n",
    "> This approach could be nuanced further by accounting for the dependence between welfare and school enrollment (i.e. substracting the correlation between these two variables). We could further introduce other control variables, and even take a DID approach, making the two groups \"just above threshold in treatment village\" vs. \"just below threshold in treatment village\" instead of \"treatment village\" vs. \"control village\".</font>"
   ]
  }
 ],
 "metadata": {
  "anaconda-cloud": {},
  "kernelspec": {
   "display_name": "Python 3",
   "language": "python",
   "name": "python3"
  },
  "language_info": {
   "codemirror_mode": {
    "name": "ipython",
    "version": 3
   },
   "file_extension": ".py",
   "mimetype": "text/x-python",
   "name": "python",
   "nbconvert_exporter": "python",
   "pygments_lexer": "ipython3",
   "version": "3.6.8"
  },
  "toc": {
   "nav_menu": {},
   "number_sections": false,
   "sideBar": true,
   "skip_h1_title": false,
   "title_cell": "Table of Contents",
   "title_sidebar": "Contents",
   "toc_cell": false,
   "toc_position": {
    "height": "calc(100% - 180px)",
    "left": "10px",
    "top": "150px",
    "width": "258px"
   },
   "toc_section_display": true,
   "toc_window_display": true
  }
 },
 "nbformat": 4,
 "nbformat_minor": 1
}
