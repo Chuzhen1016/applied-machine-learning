{
 "cells": [
  {
   "cell_type": "markdown",
   "metadata": {},
   "source": [
    "# Problem Set 5, due Nov 5 at 11:59pm\n",
    "\n",
    "As usual, you are highly encouraged to *start this problem set early!*  My best guess (no guarantees!) is that Part 1 will be conceptually easy but perhaps time consuming.  Parts 2 and 3 are medium difficult, but there are plenty of opportunities to get confused with python data structures, so if you're going to get stuck, get stuck (and unstuck) early!\n",
    "\n",
    "Note that the two extra credit problems have the potential to be quite challenging and time consuming. Make sure to do everything else in the problem set before you tackle the extra credit.\n",
    "\n",
    "To get started, download the files \"reviews.csv\" and \"movies.dat\" from Canvas.\n",
    "\n",
    "For this assignment, the following libraries may be useful:\n",
    "\n",
    "* [numpy](http://docs.scipy.org/doc/numpy-dev/user/index.html), for arrays\n",
    "* [scikit-learn](http://scikit-learn.org/stable/), for machine learning\n",
    "* [pandas](http://pandas.pydata.org/), for data frames\n",
    "* [matplotlib](http://matplotlib.org/), for plotting\n",
    "\n",
    "In particular, I suggest you familiarize yourself with the following aspects of these libraries, which are not required but which might make your life easier:\n",
    "\n",
    "* `DataFrame` and other basic [data structures](http://pandas.pydata.org/pandas-docs/stable/dsintro.html) in pandas\n",
    "* [`groupby`](http://pandas.pydata.org/pandas-docs/stable/groupby.html), `unique`,  and other simple aggregation functions\n",
    "* [`CountVectorizer`](http://scikit-learn.org/stable/modules/generated/sklearn.feature_extraction.text.CountVectorizer.html) for working with text in sklearn.\n",
    "* [`MultinomialNB`](http://scikit-learn.org/stable/modules/generated/sklearn.naive_bayes.MultinomialNB.html) for Naive Bayes\n",
    "* Simple tools for [Cross-Validation](http://scikit-learn.org/stable/modules/cross_validation.html) in sklearn\n",
    "\n",
    "Make sure they load properly with the following code block:"
   ]
  },
  {
   "cell_type": "code",
   "execution_count": 1,
   "metadata": {},
   "outputs": [],
   "source": [
    "import pandas as pd\n",
    "import numpy as np\n",
    "import matplotlib.pyplot as plt\n",
    "\n",
    "#hint: Consult the scikit-learn documentation to\n",
    "#      learn about what these classes do do\n",
    "from sklearn.model_selection import cross_val_score\n",
    "from sklearn.model_selection import train_test_split\n",
    "from sklearn.naive_bayes import MultinomialNB\n",
    "from sklearn.feature_extraction.text import CountVectorizer\n",
    "import statsmodels.formula.api as smf\n",
    "from sklearn.metrics import mean_squared_error\n",
    "from sklearn.preprocessing import StandardScaler\n",
    "from sklearn.decomposition import PCA"
   ]
  },
  {
   "cell_type": "markdown",
   "metadata": {},
   "source": [
    "## Introduction to the assignment\n",
    "\n",
    "In this assignment, you'll be analyzing movie reviews in an attempt to determine whether movies are good or bad.  I've downloaded a large number of movie reviews from the [Rotten Tomatoes](http://www.rottentomatoes.com) website, which are available in the file \"reviews.csv\" on Canvas.  I've also put a file \"movies.dat\" on Canvas that contains metadata for ~65,000 different movies\n",
    "\n",
    "If you've never seen Rotten Tomatoes before, go spend a few minutes familiarizing yourself with the website.  It's a meta-review website that aggregates movie reviews from a large number of critics.  Here's what the page for this year's [Oscar winner](https://www.rottentomatoes.com/m/the_shape_of_water_2017) looks like.  Note in particular the section on \"Critic Reviews\" at the bottom -- that's the content that has been scraped and put in the reviews.csv file.  Also note that each movie is given a quantitative score on the Tomatometer which is used to classify the movie as either Fresh (good) or Rotten (bad).\n",
    "\n",
    "Your mission is to develop a classifier to determine whether a movie is Fresh or Rotten based on the contents of the reviews given to the movie.  As usual, we'll start out with some exploratory data analysis."
   ]
  },
  {
   "cell_type": "markdown",
   "metadata": {},
   "source": [
    "---\n",
    "\n",
    "## Part 1: Descriptive analysis\n",
    "\n",
    "Before beginning the \"real\" work, dig into the data a bit do see what you're dealing with.  Begin by loading the datasets and dropping rows that have missing data:"
   ]
  },
  {
   "cell_type": "code",
   "execution_count": 2,
   "metadata": {},
   "outputs": [],
   "source": [
    "reviews = pd.read_csv('reviews.csv')\n",
    "movies = pd.read_csv('movies.dat', delimiter='\\t')\n",
    "\n",
    "# just check the quote and fresh columns\n",
    "reviews = reviews[~reviews['quote'].isnull()]\n",
    "reviews = reviews[reviews['fresh'] != 'none']\n",
    "reviews = reviews[reviews['quote'].str.len() > 0]\n",
    "reviews.reset_index(drop=True, inplace=True)\n",
    "\n",
    "# just check the year and rtAllCriticsRating columns\n",
    "movies = movies[~movies['rtAllCriticsRating'].isnull()]\n",
    "movies = movies[movies['rtAllCriticsRating']!='\\\\N']\n",
    "movies['rtAllCriticsRating'] = movies['rtAllCriticsRating'].astype(float)\n",
    "movies = movies[movies['rtAllCriticsRating']!=0]\n",
    "movies = movies[~movies['year'].isnull()]\n",
    "movies.reset_index(drop=True, inplace=True)"
   ]
  },
  {
   "cell_type": "code",
   "execution_count": 3,
   "metadata": {},
   "outputs": [
    {
     "data": {
      "text/plain": [
       "Index(['critic', 'fresh', 'imdb', 'link', 'publication', 'quote',\n",
       "       'review_date', 'rtid', 'title'],\n",
       "      dtype='object')"
      ]
     },
     "execution_count": 3,
     "metadata": {},
     "output_type": "execute_result"
    }
   ],
   "source": [
    "reviews.columns"
   ]
  },
  {
   "cell_type": "code",
   "execution_count": 4,
   "metadata": {},
   "outputs": [
    {
     "data": {
      "text/plain": [
       "Index(['id', 'title', 'imdbID', 'spanishTitle', 'imdbPictureURL', 'year',\n",
       "       'rtID', 'rtAllCriticsRating', 'rtAllCriticsNumReviews',\n",
       "       'rtAllCriticsNumFresh', 'rtAllCriticsNumRotten', 'rtAllCriticsScore',\n",
       "       'rtTopCriticsRating', 'rtTopCriticsNumReviews', 'rtTopCriticsNumFresh',\n",
       "       'rtTopCriticsNumRotten', 'rtTopCriticsScore', 'rtAudienceRating',\n",
       "       'rtAudienceNumRatings', 'rtAudienceScore', 'rtPictureURL'],\n",
       "      dtype='object')"
      ]
     },
     "execution_count": 4,
     "metadata": {},
     "output_type": "execute_result"
    }
   ],
   "source": [
    "movies.columns"
   ]
  },
  {
   "cell_type": "markdown",
   "metadata": {},
   "source": [
    "### 1.1: Basic features of the dataset\n",
    "\n",
    "Answer the following questions by having your python code directly print the answers:\n",
    "\n",
    "* How many unique reviews (quotes) are in the `reviews` dataset?\n",
    "* How many unique reviewers (critics) are in the `reviews` dataset?\n",
    "* How many unique movies are in the `reviews` dataset?\n",
    "* How many unique movies are in the *`movies`* dataset?\n",
    "* How many different publications have reviews in the `reviews` dataset?\n"
   ]
  },
  {
   "cell_type": "code",
   "execution_count": 5,
   "metadata": {},
   "outputs": [
    {
     "name": "stdout",
     "output_type": "stream",
     "text": [
      "Number of unique reviews   = 12814\n",
      "Number of unique reviewers = 541\n"
     ]
    }
   ],
   "source": [
    "print('Number of unique reviews   = {}'.format(len(reviews['quote'].unique())))\n",
    "print('Number of unique reviewers = {}'.format(len(reviews['critic'].unique())))"
   ]
  },
  {
   "cell_type": "code",
   "execution_count": 6,
   "metadata": {},
   "outputs": [
    {
     "name": "stdout",
     "output_type": "stream",
     "text": [
      "Number of unique movies in the reviews dataset = 1720\n",
      "Number of unique movies in the movies  dataset = 7742\n"
     ]
    }
   ],
   "source": [
    "print('Number of unique movies in the reviews dataset = {}'.format(len(reviews['title'].unique())))\n",
    "print('Number of unique movies in the movies  dataset = {}'.format(len(movies['title'].unique())))"
   ]
  },
  {
   "cell_type": "code",
   "execution_count": 7,
   "metadata": {},
   "outputs": [
    {
     "name": "stdout",
     "output_type": "stream",
     "text": [
      "Number of unique publications in the reviews dataset = 64\n"
     ]
    }
   ],
   "source": [
    "print('Number of unique publications in the reviews dataset = {}'.format(len(reviews['publication'].unique())))"
   ]
  },
  {
   "cell_type": "markdown",
   "metadata": {},
   "source": [
    "### 1.2 Number of reviews per reviewer\n",
    "\n",
    "Using the `reviews` dataset, create a histogram showing the distribution of the number of reviews per reviewer.  Create the bin width (x-axis) to be 1 unit wide, and the range of the axis to be from 0 to 30.  Scale the y-axis to show the logarithm of (count of) the number of reviewers.  Label your axes and make your histogram look professional."
   ]
  },
  {
   "cell_type": "markdown",
   "metadata": {},
   "source": [
    "> <font color='red'>Note that I set the x-axis scale to be from 0-30, as is asked in the prompt.</font>"
   ]
  },
  {
   "cell_type": "code",
   "execution_count": 8,
   "metadata": {},
   "outputs": [
    {
     "data": {
      "image/png": "[encoded data removed]",
      "text/plain": [
       "<Figure size 504x360 with 1 Axes>"
      ]
     },
     "metadata": {
      "needs_background": "light"
     },
     "output_type": "display_data"
    }
   ],
   "source": [
    "# get the unique reviewers\n",
    "unique_reviewers = reviews['critic'].unique()\n",
    "\n",
    "# get the number of reviews per unique reviewer\n",
    "unique_reviewers_n = np.zeros(len(unique_reviewers))\n",
    "for i in range(len(unique_reviewers)):\n",
    "    n = len(reviews[reviews['critic']==unique_reviewers[i]])\n",
    "    unique_reviewers_n[i] = n\n",
    "    \n",
    "# plot\n",
    "fig, ax = plt.subplots(figsize=(7,5))\n",
    "\n",
    "bins = np.arange(0,np.max(unique_reviewers_n)+1)\n",
    "ax.hist(unique_reviewers_n, bins=bins, log=True)\n",
    "\n",
    "ax.set_xlim(0,30)\n",
    "ax.set_xlabel('number of reviews per reviewer')\n",
    "ax.set_ylabel('count')\n",
    "\n",
    "plt.show(fig)"
   ]
  },
  {
   "cell_type": "markdown",
   "metadata": {},
   "source": [
    "### 1.3 Zoom in on a few reviewers\n",
    "Find the 30 critics with the most reviews, and list their names in a table along with (a) the name of the publication they work for, (b) the date of their first review, and (c) the date of their last review\n",
    "\n",
    "*hint: use the groupby function to do this quickly*"
   ]
  },
  {
   "cell_type": "markdown",
   "metadata": {},
   "source": [
    "> <font color='red'>Sorry I was working on this without internet so I was not sure how to use the `groupby` function properly.</font>"
   ]
  },
  {
   "cell_type": "code",
   "execution_count": 9,
   "metadata": {},
   "outputs": [
    {
     "data": {
      "text/html": [
       "<div>\n",
       "<style scoped>\n",
       "    .dataframe tbody tr th:only-of-type {\n",
       "        vertical-align: middle;\n",
       "    }\n",
       "\n",
       "    .dataframe tbody tr th {\n",
       "        vertical-align: top;\n",
       "    }\n",
       "\n",
       "    .dataframe thead th {\n",
       "        text-align: right;\n",
       "    }\n",
       "</style>\n",
       "<table border=\"1\" class=\"dataframe\">\n",
       "  <thead>\n",
       "    <tr style=\"text-align: right;\">\n",
       "      <th></th>\n",
       "      <th>critic</th>\n",
       "      <th>n</th>\n",
       "      <th>publication</th>\n",
       "      <th>first review date</th>\n",
       "      <th>last review date</th>\n",
       "    </tr>\n",
       "  </thead>\n",
       "  <tbody>\n",
       "    <tr>\n",
       "      <th>0</th>\n",
       "      <td>Michael Wilmington</td>\n",
       "      <td>103.0</td>\n",
       "      <td>Chicago Tribune</td>\n",
       "      <td>2000-01-01 00:00:00</td>\n",
       "      <td>2013-11-21 00:00:00</td>\n",
       "    </tr>\n",
       "    <tr>\n",
       "      <th>1</th>\n",
       "      <td>Richard Corliss</td>\n",
       "      <td>104.0</td>\n",
       "      <td>TIME Magazine</td>\n",
       "      <td>2003-12-16 00:00:00</td>\n",
       "      <td>2013-11-06 00:00:00</td>\n",
       "    </tr>\n",
       "    <tr>\n",
       "      <th>2</th>\n",
       "      <td>Richard Schickel</td>\n",
       "      <td>106.0</td>\n",
       "      <td>TIME Magazine</td>\n",
       "      <td>2000-01-01 00:00:00</td>\n",
       "      <td>2013-08-05 00:00:00</td>\n",
       "    </tr>\n",
       "    <tr>\n",
       "      <th>3</th>\n",
       "      <td>Emanuel Levy</td>\n",
       "      <td>110.0</td>\n",
       "      <td>Variety</td>\n",
       "      <td>2000-01-01 00:00:00</td>\n",
       "      <td>2010-08-06 00:00:00</td>\n",
       "    </tr>\n",
       "    <tr>\n",
       "      <th>4</th>\n",
       "      <td>Liam Lacey</td>\n",
       "      <td>111.0</td>\n",
       "      <td>Globe and Mail</td>\n",
       "      <td>2001-08-24 00:00:00</td>\n",
       "      <td>2012-04-04 00:00:00</td>\n",
       "    </tr>\n",
       "    <tr>\n",
       "      <th>5</th>\n",
       "      <td>Lisa Schwarzbaum</td>\n",
       "      <td>117.0</td>\n",
       "      <td>Entertainment Weekly</td>\n",
       "      <td>1979-01-01 00:00:00</td>\n",
       "      <td>2012-08-15 00:00:00</td>\n",
       "    </tr>\n",
       "    <tr>\n",
       "      <th>6</th>\n",
       "      <td>Edward Guthmann</td>\n",
       "      <td>121.0</td>\n",
       "      <td>San Francisco Chronicle</td>\n",
       "      <td>2000-01-01 00:00:00</td>\n",
       "      <td>2003-04-04 00:00:00</td>\n",
       "    </tr>\n",
       "    <tr>\n",
       "      <th>7</th>\n",
       "      <td>Rick Groen</td>\n",
       "      <td>129.0</td>\n",
       "      <td>Globe and Mail</td>\n",
       "      <td>2002-03-19 00:00:00</td>\n",
       "      <td>2009-08-14 00:00:00</td>\n",
       "    </tr>\n",
       "    <tr>\n",
       "      <th>8</th>\n",
       "      <td>Bosley Crowther</td>\n",
       "      <td>137.0</td>\n",
       "      <td>New York Times</td>\n",
       "      <td>2000-01-01 00:00:00</td>\n",
       "      <td>2008-05-06 00:00:00</td>\n",
       "    </tr>\n",
       "    <tr>\n",
       "      <th>9</th>\n",
       "      <td>Peter Stack</td>\n",
       "      <td>138.0</td>\n",
       "      <td>San Francisco Chronicle</td>\n",
       "      <td>2000-01-01 00:00:00</td>\n",
       "      <td>2002-06-18 00:00:00</td>\n",
       "    </tr>\n",
       "    <tr>\n",
       "      <th>10</th>\n",
       "      <td>Kevin Thomas</td>\n",
       "      <td>145.0</td>\n",
       "      <td>Los Angeles Times</td>\n",
       "      <td>2000-01-01 00:00:00</td>\n",
       "      <td>2013-11-02 00:00:00</td>\n",
       "    </tr>\n",
       "    <tr>\n",
       "      <th>11</th>\n",
       "      <td>Derek Adams</td>\n",
       "      <td>154.0</td>\n",
       "      <td>Time Out</td>\n",
       "      <td>2006-01-26 00:00:00</td>\n",
       "      <td>2009-10-04 00:00:00</td>\n",
       "    </tr>\n",
       "    <tr>\n",
       "      <th>12</th>\n",
       "      <td>Stephen Holden</td>\n",
       "      <td>166.0</td>\n",
       "      <td>New York Times</td>\n",
       "      <td>2000-01-01 00:00:00</td>\n",
       "      <td>2009-02-06 00:00:00</td>\n",
       "    </tr>\n",
       "    <tr>\n",
       "      <th>13</th>\n",
       "      <td>Susan Stark</td>\n",
       "      <td>167.0</td>\n",
       "      <td>Detroit News</td>\n",
       "      <td>2000-01-01 00:00:00</td>\n",
       "      <td>2002-10-25 00:00:00</td>\n",
       "    </tr>\n",
       "    <tr>\n",
       "      <th>14</th>\n",
       "      <td>Hal Hinson</td>\n",
       "      <td>174.0</td>\n",
       "      <td>Washington Post</td>\n",
       "      <td>2000-01-01 00:00:00</td>\n",
       "      <td>2013-06-26 00:00:00</td>\n",
       "    </tr>\n",
       "    <tr>\n",
       "      <th>15</th>\n",
       "      <td>Vincent Canby</td>\n",
       "      <td>207.0</td>\n",
       "      <td>New York Times</td>\n",
       "      <td>2000-01-01 00:00:00</td>\n",
       "      <td>2013-07-29 00:00:00</td>\n",
       "    </tr>\n",
       "    <tr>\n",
       "      <th>16</th>\n",
       "      <td>Todd McCarthy</td>\n",
       "      <td>223.0</td>\n",
       "      <td>Variety</td>\n",
       "      <td>2000-01-01 00:00:00</td>\n",
       "      <td>2012-10-09 00:00:00</td>\n",
       "    </tr>\n",
       "    <tr>\n",
       "      <th>17</th>\n",
       "      <td>Joe Baltake</td>\n",
       "      <td>231.0</td>\n",
       "      <td>Sacramento Bee</td>\n",
       "      <td>2000-01-01 00:00:00</td>\n",
       "      <td>2013-08-04 00:00:00</td>\n",
       "    </tr>\n",
       "    <tr>\n",
       "      <th>18</th>\n",
       "      <td>Rita Kempley</td>\n",
       "      <td>236.0</td>\n",
       "      <td>Washington Post</td>\n",
       "      <td>2000-01-01 00:00:00</td>\n",
       "      <td>2013-11-02 00:00:00</td>\n",
       "    </tr>\n",
       "    <tr>\n",
       "      <th>19</th>\n",
       "      <td>Owen Gleiberman</td>\n",
       "      <td>241.0</td>\n",
       "      <td>Entertainment Weekly</td>\n",
       "      <td>1800-01-01 00:00:00</td>\n",
       "      <td>2011-09-07 00:00:00</td>\n",
       "    </tr>\n",
       "    <tr>\n",
       "      <th>20</th>\n",
       "      <td>Mick LaSalle</td>\n",
       "      <td>280.0</td>\n",
       "      <td>San Francisco Chronicle</td>\n",
       "      <td>2000-01-01 00:00:00</td>\n",
       "      <td>2009-11-25 00:00:00</td>\n",
       "    </tr>\n",
       "    <tr>\n",
       "      <th>21</th>\n",
       "      <td>Kenneth Turan</td>\n",
       "      <td>282.0</td>\n",
       "      <td>Los Angeles Times</td>\n",
       "      <td>2000-01-01 00:00:00</td>\n",
       "      <td>2013-10-05 00:00:00</td>\n",
       "    </tr>\n",
       "    <tr>\n",
       "      <th>22</th>\n",
       "      <td>Dave Kehr</td>\n",
       "      <td>360.0</td>\n",
       "      <td>Chicago Reader</td>\n",
       "      <td>2000-01-01 00:00:00</td>\n",
       "      <td>2013-11-20 00:00:00</td>\n",
       "    </tr>\n",
       "    <tr>\n",
       "      <th>23</th>\n",
       "      <td>Geoff Andrew</td>\n",
       "      <td>361.0</td>\n",
       "      <td>Time Out</td>\n",
       "      <td>2005-08-11 00:00:00</td>\n",
       "      <td>2012-04-05 00:00:00</td>\n",
       "    </tr>\n",
       "    <tr>\n",
       "      <th>24</th>\n",
       "      <td>Desson Thomson</td>\n",
       "      <td>373.0</td>\n",
       "      <td>Washington Post</td>\n",
       "      <td>2000-01-01 00:00:00</td>\n",
       "      <td>2012-10-08 00:00:00</td>\n",
       "    </tr>\n",
       "    <tr>\n",
       "      <th>25</th>\n",
       "      <td>Jonathan Rosenbaum</td>\n",
       "      <td>420.0</td>\n",
       "      <td>Chicago Reader</td>\n",
       "      <td>1988-07-11 00:00:00</td>\n",
       "      <td>2013-10-22 00:00:00</td>\n",
       "    </tr>\n",
       "    <tr>\n",
       "      <th>26</th>\n",
       "      <td>Variety Staff</td>\n",
       "      <td>449.0</td>\n",
       "      <td>Variety</td>\n",
       "      <td>2001-02-13 00:00:00</td>\n",
       "      <td>2012-08-15 00:00:00</td>\n",
       "    </tr>\n",
       "    <tr>\n",
       "      <th>27</th>\n",
       "      <td>Janet Maslin</td>\n",
       "      <td>526.0</td>\n",
       "      <td>New York Times</td>\n",
       "      <td>2000-01-01 00:00:00</td>\n",
       "      <td>2010-09-07 00:00:00</td>\n",
       "    </tr>\n",
       "    <tr>\n",
       "      <th>28</th>\n",
       "      <td>James Berardinelli</td>\n",
       "      <td>833.0</td>\n",
       "      <td>ReelViews</td>\n",
       "      <td>1800-01-01 00:00:00</td>\n",
       "      <td>2012-02-07 00:00:00</td>\n",
       "    </tr>\n",
       "    <tr>\n",
       "      <th>29</th>\n",
       "      <td>Roger Ebert</td>\n",
       "      <td>1150.0</td>\n",
       "      <td>Chicago Sun-Times</td>\n",
       "      <td>2000-01-01 00:00:00</td>\n",
       "      <td>2013-06-11 00:00:00</td>\n",
       "    </tr>\n",
       "  </tbody>\n",
       "</table>\n",
       "</div>"
      ],
      "text/plain": [
       "                critic       n              publication    first review date  \\\n",
       "0   Michael Wilmington   103.0          Chicago Tribune  2000-01-01 00:00:00   \n",
       "1      Richard Corliss   104.0            TIME Magazine  2003-12-16 00:00:00   \n",
       "2     Richard Schickel   106.0            TIME Magazine  2000-01-01 00:00:00   \n",
       "3         Emanuel Levy   110.0                  Variety  2000-01-01 00:00:00   \n",
       "4           Liam Lacey   111.0           Globe and Mail  2001-08-24 00:00:00   \n",
       "5     Lisa Schwarzbaum   117.0     Entertainment Weekly  1979-01-01 00:00:00   \n",
       "6      Edward Guthmann   121.0  San Francisco Chronicle  2000-01-01 00:00:00   \n",
       "7           Rick Groen   129.0           Globe and Mail  2002-03-19 00:00:00   \n",
       "8      Bosley Crowther   137.0           New York Times  2000-01-01 00:00:00   \n",
       "9          Peter Stack   138.0  San Francisco Chronicle  2000-01-01 00:00:00   \n",
       "10        Kevin Thomas   145.0        Los Angeles Times  2000-01-01 00:00:00   \n",
       "11         Derek Adams   154.0                 Time Out  2006-01-26 00:00:00   \n",
       "12      Stephen Holden   166.0           New York Times  2000-01-01 00:00:00   \n",
       "13         Susan Stark   167.0             Detroit News  2000-01-01 00:00:00   \n",
       "14          Hal Hinson   174.0          Washington Post  2000-01-01 00:00:00   \n",
       "15       Vincent Canby   207.0           New York Times  2000-01-01 00:00:00   \n",
       "16       Todd McCarthy   223.0                  Variety  2000-01-01 00:00:00   \n",
       "17         Joe Baltake   231.0           Sacramento Bee  2000-01-01 00:00:00   \n",
       "18        Rita Kempley   236.0          Washington Post  2000-01-01 00:00:00   \n",
       "19     Owen Gleiberman   241.0     Entertainment Weekly  1800-01-01 00:00:00   \n",
       "20        Mick LaSalle   280.0  San Francisco Chronicle  2000-01-01 00:00:00   \n",
       "21       Kenneth Turan   282.0        Los Angeles Times  2000-01-01 00:00:00   \n",
       "22           Dave Kehr   360.0           Chicago Reader  2000-01-01 00:00:00   \n",
       "23        Geoff Andrew   361.0                 Time Out  2005-08-11 00:00:00   \n",
       "24      Desson Thomson   373.0          Washington Post  2000-01-01 00:00:00   \n",
       "25  Jonathan Rosenbaum   420.0           Chicago Reader  1988-07-11 00:00:00   \n",
       "26       Variety Staff   449.0                  Variety  2001-02-13 00:00:00   \n",
       "27        Janet Maslin   526.0           New York Times  2000-01-01 00:00:00   \n",
       "28  James Berardinelli   833.0                ReelViews  1800-01-01 00:00:00   \n",
       "29         Roger Ebert  1150.0        Chicago Sun-Times  2000-01-01 00:00:00   \n",
       "\n",
       "       last review date  \n",
       "0   2013-11-21 00:00:00  \n",
       "1   2013-11-06 00:00:00  \n",
       "2   2013-08-05 00:00:00  \n",
       "3   2010-08-06 00:00:00  \n",
       "4   2012-04-04 00:00:00  \n",
       "5   2012-08-15 00:00:00  \n",
       "6   2003-04-04 00:00:00  \n",
       "7   2009-08-14 00:00:00  \n",
       "8   2008-05-06 00:00:00  \n",
       "9   2002-06-18 00:00:00  \n",
       "10  2013-11-02 00:00:00  \n",
       "11  2009-10-04 00:00:00  \n",
       "12  2009-02-06 00:00:00  \n",
       "13  2002-10-25 00:00:00  \n",
       "14  2013-06-26 00:00:00  \n",
       "15  2013-07-29 00:00:00  \n",
       "16  2012-10-09 00:00:00  \n",
       "17  2013-08-04 00:00:00  \n",
       "18  2013-11-02 00:00:00  \n",
       "19  2011-09-07 00:00:00  \n",
       "20  2009-11-25 00:00:00  \n",
       "21  2013-10-05 00:00:00  \n",
       "22  2013-11-20 00:00:00  \n",
       "23  2012-04-05 00:00:00  \n",
       "24  2012-10-08 00:00:00  \n",
       "25  2013-10-22 00:00:00  \n",
       "26  2012-08-15 00:00:00  \n",
       "27  2010-09-07 00:00:00  \n",
       "28  2012-02-07 00:00:00  \n",
       "29  2013-06-11 00:00:00  "
      ]
     },
     "execution_count": 9,
     "metadata": {},
     "output_type": "execute_result"
    }
   ],
   "source": [
    "# sort the arrays and pull out the highest 30\n",
    "sort_inds = np.argsort(unique_reviewers_n)\n",
    "unique_reviewers_most = unique_reviewers[sort_inds][-30:]\n",
    "unique_reviewers_n_most = unique_reviewers_n[sort_inds][-30:]\n",
    "\n",
    "# get the other information\n",
    "publications_most = []\n",
    "first_most = []\n",
    "last_most = []\n",
    "for i in range(len(unique_reviewers_most)):\n",
    "    this_critic = reviews[reviews['critic']==unique_reviewers_most[i]]\n",
    "    publications_most.append(this_critic['publication'].unique()[0])\n",
    "    first_most.append(np.min(this_critic['review_date']))\n",
    "    last_most.append(np.max(this_critic['review_date']))\n",
    "    \n",
    "# create dataframe\n",
    "most_reviews = pd.DataFrame({'critic':unique_reviewers_most,\n",
    "                             'n':unique_reviewers_n_most,\n",
    "                             'publication':publications_most,\n",
    "                             'first review date':first_most,\n",
    "                             'last review date':last_most})\n",
    "most_reviews"
   ]
  },
  {
   "cell_type": "markdown",
   "metadata": {},
   "source": [
    "### 1.4 Ratings over time\n",
    "\n",
    "Using the `movies` dataset, create a plot that shows how the average rating per movie (rtAllCriticsRating) has evolved over time.  Do this by creating a scatterplot where the x-axis is the year in which the movie was released and the y-axis is rtAllCriticsRating.  Drop movies with 0 or unknown values to avoid biasing your results.  Then, create a scatterplot that has one <year,rating> point for each remaining movie, and pick an appropriate size/color/transparency for these points to ensure that the graph looks professional.  In other words, do not simply use the default settings, as this will produce a dense mess of dots that will be hard to interpret.  Finally, overlay on this scatterplot a line graph in orange showing how the average movie rating (the average of rtAllCriticsRating across all movies in a year) has changed over time.  Do you notice a trend?  What do you think it means?"
   ]
  },
  {
   "cell_type": "markdown",
   "metadata": {},
   "source": [
    "> <font color='red'>The movies dataframe was already cleaned up above.</font>"
   ]
  },
  {
   "cell_type": "code",
   "execution_count": 10,
   "metadata": {},
   "outputs": [
    {
     "data": {
      "image/png": "[encoded data removed]",
      "text/plain": [
       "<Figure size 504x360 with 1 Axes>"
      ]
     },
     "metadata": {
      "needs_background": "light"
     },
     "output_type": "display_data"
    }
   ],
   "source": [
    "# get the unique years and sort\n",
    "movies_years = movies['year'].unique()\n",
    "movies_years = np.sort(movies_years)\n",
    "\n",
    "# get the mean and standard deviation for each of the years\n",
    "movies_years_means = np.zeros(len(movies_years))\n",
    "movies_years_stds = np.zeros(len(movies_years))\n",
    "for i in range(len(movies_years)):\n",
    "    avg = np.mean(movies[movies['year']==movies_years[i]]['rtAllCriticsRating'])\n",
    "    std = np.std(movies[movies['year']==movies_years[i]]['rtAllCriticsRating'])\n",
    "    movies_years_means[i] = avg\n",
    "    movies_years_stds[i] = std\n",
    "\n",
    "# plot\n",
    "fig, ax = plt.subplots(figsize=(7,5))\n",
    "\n",
    "ax.scatter(movies['year'], movies['rtAllCriticsRating'], alpha=0.05, c='C0', label='data')\n",
    "ax.plot(movies_years, movies_years_means, c='C1', label='annual mean')\n",
    "ax.plot(movies_years, movies_years_means+movies_years_stds, c='C1', ls='--', lw=0.75, label='1$\\sigma$ bounds')\n",
    "ax.plot(movies_years, movies_years_means-movies_years_stds, c='C1', ls='--', lw=0.75, label='__nolegend')\n",
    "ax.legend()\n",
    "ax.set_xlabel('year')\n",
    "ax.set_ylabel('average rating')\n",
    "\n",
    "plt.show(fig)"
   ]
  },
  {
   "cell_type": "markdown",
   "metadata": {},
   "source": [
    "> <font color='red'>As we can see from the plot above, as we move forward in time, we get more movies, decreasing annual mean ratings, and increasing standard deviations on the annual mean ratings. There are several possible explanations for these observed trends. First, it is possible that the barriers to making movies have become smaller with time (for instance through making technology better and cheaper), and thus more and generally less talented people were able to make movies as time progressed. Second, it is possible that the standard for a 'good movie' has increased with time, with an increase in the available number of movies that people can refer to as benchmarks. Third, it is possible that people have gotten meaner with time.</font>"
   ]
  },
  {
   "cell_type": "markdown",
   "metadata": {},
   "source": [
    "---\n",
    "\n",
    "## Part 2: Naive Bayes\n",
    "\n",
    "Now it gets fun!  You are going to use a [Naive Bayes classifier](https://en.wikipedia.org/wiki/Naive_Bayes_classifier) to build a prediction model for whether a review is fresh or rotten, depending on the text of the review. Review the assigned readings on Canvas, as well as the relevant lecture notes before embarking on this journey.\n",
    "\n",
    "### Using CountVectorizer\n",
    "\n",
    "One thing that may help you in the following problems is the [CountVectorizer](http://scikit-learn.org/stable/modules/generated/sklearn.feature_extraction.text.CountVectorizer.html) object in Scikit-learn.  This will help you convert your raw text fields into \"bag of words\" vectors, i.e. a data structure that tells you how many times a particular word appears in a blurb.  Here's a simple example, make sure you understand what's going on!"
   ]
  },
  {
   "cell_type": "code",
   "execution_count": 11,
   "metadata": {},
   "outputs": [
    {
     "name": "stdout",
     "output_type": "stream",
     "text": [
      "Original text is\n",
      " machine learning rocks\n",
      "machine learning rules\n",
      "rocks rocks rules\n",
      "\n",
      "Transformed text vector is \n",
      " [[1 1 1 0]\n",
      " [1 1 0 1]\n",
      " [0 0 2 1]]\n",
      "\n",
      "Words for each feature:\n",
      "['learning', 'machine', 'rocks', 'rules']\n"
     ]
    }
   ],
   "source": [
    "text = ['machine learning rocks', 'machine learning rules', 'rocks rocks rules']\n",
    "print(\"Original text is\\n\", '\\n'.join(text))\n",
    "print()\n",
    "vectorizer = CountVectorizer(min_df=0)\n",
    "\n",
    "# call `fit` to build the vocabulary\n",
    "vectorizer.fit(text)\n",
    "\n",
    "# call `transform` to convert text to a bag of words\n",
    "x = vectorizer.transform(text)\n",
    "\n",
    "# CountVectorizer uses a sparse array to save memory, but it's easier in this assignment to \n",
    "# convert back to a \"normal\" numpy array\n",
    "x = x.toarray()\n",
    "\n",
    "print(\"Transformed text vector is \\n\", x)\n",
    "print()\n",
    "# `get_feature_names` tracks which word is associated with each column of the transformed x\n",
    "print(\"Words for each feature:\")\n",
    "print(vectorizer.get_feature_names())"
   ]
  },
  {
   "cell_type": "markdown",
   "metadata": {},
   "source": [
    "### 2.1 Create your X input and Y output\n",
    "\n",
    "Using the `reviews` dataframe, compute a pair of numerical X, Y arrays where:\n",
    "    \n",
    " * X is a `(nreview, nwords)` array. Each row corresponds to a bag-of-words representation for a single review. This will be the *input* to your model.\n",
    " * Y is a `nreview`-element 1/0 array, encoding whether a review is Fresh (1) or Rotten (0). This is the desired *output* from your model.\n",
    " \n",
    "Make sure to remove items with no review text"
   ]
  },
  {
   "cell_type": "markdown",
   "metadata": {},
   "source": [
    "> <font color='red'>The reviews dataframe was already cleaned up above.</font>"
   ]
  },
  {
   "cell_type": "code",
   "execution_count": 12,
   "metadata": {},
   "outputs": [],
   "source": [
    "def make_xy(reviews, vectorizer=None):\n",
    "    \"\"\"\n",
    "    Build a bag-of-words training set for the review data.\n",
    "\n",
    "    Parameters\n",
    "    -----------\n",
    "    reviews : Pandas DataFrame\n",
    "        The review data from above\n",
    "\n",
    "    vectorizer : CountVectorizer object\n",
    "        A CountVectorizer object to use. If None,\n",
    "        then create and fit a new CountVectorizer.\n",
    "        Otherwise, re-fit the provided CountVectorizer\n",
    "        using the reviews data\n",
    "\n",
    "    Returns\n",
    "    -------\n",
    "    X : numpy array (dims: nreview, nwords)\n",
    "        Bag-of-words representation for each review.\n",
    "    Y : numpy array (dims: nreview)\n",
    "        1/0 array. 1 = fresh review, 0 = rotten review\n",
    "\n",
    "    Examples\n",
    "    --------\n",
    "    X, Y = make_xy(reviews)\n",
    "    \"\"\"\n",
    "    # get Y\n",
    "    Y = np.zeros(len(reviews.index))\n",
    "    Y[reviews['fresh']=='fresh'] = 1\n",
    "    \n",
    "    # first, get quotes\n",
    "    quotes = reviews['quote']\n",
    "    \n",
    "    # initialize the vectorizer if we need to\n",
    "    if vectorizer == None:\n",
    "        vectorizer = CountVectorizer(min_df=0)\n",
    "        \n",
    "    # fit\n",
    "    vectorizer.fit(quotes)\n",
    "    \n",
    "    # convert text to a bag of words\n",
    "    X = vectorizer.transform(quotes)\n",
    "\n",
    "    # convert back to a \"normal\" numpy array\n",
    "    X = X.toarray()\n",
    "    \n",
    "    return X, Y"
   ]
  },
  {
   "cell_type": "markdown",
   "metadata": {},
   "source": [
    "> <font color='red'>Test the function:</font>"
   ]
  },
  {
   "cell_type": "code",
   "execution_count": 13,
   "metadata": {},
   "outputs": [
    {
     "name": "stdout",
     "output_type": "stream",
     "text": [
      "(13419, 20875)\n",
      "(13419,)\n"
     ]
    }
   ],
   "source": [
    "X, Y = make_xy(reviews)\n",
    "print(np.shape(X))\n",
    "print(np.shape(Y))"
   ]
  },
  {
   "cell_type": "markdown",
   "metadata": {},
   "source": [
    "### 2.2 Test-Train split\n",
    "\n",
    "Next, randomly split the data into two groups: a training set (80%) and a validation set (20%).  You can do this manually, as you did in the prior problem set.  Or, use [`train_test_split`](http://scikit-learn.org/stable/modules/generated/sklearn.cross_validation.train_test_split.html) to do this auto-magically.  See [this guide](http://scikit-learn.org/stable/modules/cross_validation.html) for a simple example of how `train_test_split` works."
   ]
  },
  {
   "cell_type": "code",
   "execution_count": 14,
   "metadata": {},
   "outputs": [],
   "source": [
    "train, test = train_test_split(reviews, test_size=0.2, random_state=22)"
   ]
  },
  {
   "cell_type": "markdown",
   "metadata": {},
   "source": [
    "### 2.3 Naive Bayes with `MultinomialNB`\n",
    "Use the training set to train a Naive Bayes classifier using the [`MultinomialNB`](http://scikit-learn.org/stable/modules/generated/sklearn.naive_bayes.MultinomialNB.html)\n",
    " object.  Report the accuracy of this model on both the training and testing data.  What do you observe?  Interpret these results!\n",
    "\n",
    "*Hint: This shouldn't take more than 5-10 lines of code to accomplish*\n",
    "\n"
   ]
  },
  {
   "cell_type": "markdown",
   "metadata": {},
   "source": [
    "> <font color='red'>A function to compute the accuracy:</font>"
   ]
  },
  {
   "cell_type": "code",
   "execution_count": 15,
   "metadata": {},
   "outputs": [],
   "source": [
    "def compute_accuracy(predictions, yvalues):\n",
    "    \"\"\"\n",
    "    Compute the accuracy given predictions and observations.\n",
    "    \"\"\"\n",
    "    TP = sum((predictions==1) & (yvalues==1))\n",
    "    TN = sum((predictions==0) & (yvalues==0))\n",
    "    FP = sum((predictions==1) & (yvalues==0))\n",
    "    FN = sum((predictions==0) & (yvalues==1))\n",
    "    \n",
    "    accuracy = (TP + TN) / (TP + TN + FP + FN)\n",
    "    return accuracy"
   ]
  },
  {
   "cell_type": "code",
   "execution_count": 16,
   "metadata": {},
   "outputs": [
    {
     "name": "stdout",
     "output_type": "stream",
     "text": [
      "training accuracy = 0.9223\n",
      "testing  accuracy = 0.7887\n"
     ]
    }
   ],
   "source": [
    "X, Y = make_xy(reviews)\n",
    "\n",
    "# initialize and fit the model\n",
    "fitted_model = MultinomialNB()\n",
    "fitted_model.fit(X[train.index], Y[train.index])\n",
    "\n",
    "# use the model to predict\n",
    "train_Y_predict = fitted_model.predict(X[train.index])\n",
    "test_Y_predict = fitted_model.predict(X[test.index])\n",
    "\n",
    "# compute accuracy\n",
    "train_accuracy = compute_accuracy(train_Y_predict, Y[train.index])\n",
    "test_accuracy = compute_accuracy(test_Y_predict, Y[test.index])\n",
    "\n",
    "print('training accuracy = {:.4f}'.format(train_accuracy))\n",
    "print('testing  accuracy = {:.4f}'.format(test_accuracy))"
   ]
  },
  {
   "cell_type": "markdown",
   "metadata": {},
   "source": [
    "> <font color='red'>As we can see above, the accuracy for the training set is significantly lower than that for the testing set. This is expected, given that the NB model was fit on the training set.</font>"
   ]
  },
  {
   "cell_type": "markdown",
   "metadata": {},
   "source": [
    "### 2.4 (EXTRA CREDIT) Naive Bayes from Scratch!\n",
    "That was almost too easy, right?  Right.\n",
    "\n",
    "Your next mission, should you choose to accept it, is to write your own Naive Bayes classifier without relying on `MultinomialNB` or a similar pre-written package.  In addition to the lecture notes and assigned readings, I highly recommend that you review Michael Collin’s lecture notes on Naïve Bayes before starting (available on Canvas).  \n",
    "\n",
    "**Note:**\n",
    "You should do this extra credit assignment *after* you have finished the rest of the problem set.  It is very rewarding, but can also be quite time-consuming!\n",
    "\n",
    "*Hint: You will benefit most from this exercise if you attempt to write the algorithm directly from the lecture notes.  That said, if you really get stuck, Krishnamurthy Viswanathan has written a simple version of [NB in python](http://ebiquity.umbc.edu/blogger/2010/12/07/naive-bayes-classifier-in-50-lines/), which you can peek at if you really get stuck.*"
   ]
  },
  {
   "cell_type": "markdown",
   "metadata": {},
   "source": [
    "> <font color='red'>Sorry I am at a conference in China and did not have the time to do this.</font>"
   ]
  },
  {
   "cell_type": "markdown",
   "metadata": {},
   "source": [
    "---\n",
    "\n",
    "## Part 3: Evaluation\n",
    "\n",
    "### 3.1 Estimate the likelihood of your data\n",
    "\n",
    "Given a fitted model, you can compute the log-likelihood of your data as a way to assess the performance of your model.  Using `fitted_model.predict_logproba`, the idea is to write a function that computes the log-likelihood of a dataset, so that we can inspect the log-likelihood of your training and testing data given your fitted model from part 2.\n",
    "\n",
    "To help you out a little bit, we'll do this part for you. But make sure you understand it, because you'll need to use this later!"
   ]
  },
  {
   "cell_type": "code",
   "execution_count": 17,
   "metadata": {},
   "outputs": [
    {
     "data": {
      "text/plain": [
       "-1465.117431534933"
      ]
     },
     "execution_count": 17,
     "metadata": {},
     "output_type": "execute_result"
    }
   ],
   "source": [
    "def log_likelihood(model, x, y):\n",
    "    \"\"\"\n",
    "    Compute the log likelihood of a dataset according to a bayesian classifier. \n",
    "    The Log Likelihood is defined by\n",
    "\n",
    "    L = Sum_fresh(logP(fresh)) + Sum_rotten(logP(rotten))\n",
    "\n",
    "    Where Sum_fresh indicates a sum over all fresh reviews, \n",
    "    and Sum_rotten indicates a sum over rotten reviews\n",
    "\n",
    "    Parameters\n",
    "    ----------\n",
    "    model : Bayesian classifier\n",
    "    x : (nexample, nfeature) array\n",
    "        The input data\n",
    "    y : (nexample) integer array\n",
    "        Whether each review is Fresh\n",
    "    \"\"\"\n",
    "    prob = model.predict_log_proba(x)\n",
    "    rotten = y == 0\n",
    "    fresh = ~rotten\n",
    "    return prob[rotten, 0].sum() + prob[fresh, 1].sum()\n",
    "\n",
    "# output the likelihood of your test data\n",
    "log_likelihood(fitted_model, X[test.index], Y[test.index])"
   ]
  },
  {
   "cell_type": "markdown",
   "metadata": {},
   "source": [
    "### 3.2 Cross-Validation\n",
    "\n",
    "Why do we care about the log-likelihood of our data?  You guessed it: Cross-Validation.\n",
    "\n",
    "Our classifier has a few hyperparameters. The two most important are:\n",
    "\n",
    " 1. The `min_df` keyword in `CountVectorizer`, which will ignore words which appear in fewer than `min_df` fraction of reviews. Words that appear only once or twice can lead to overfitting, since words which occur only a few times might correlate very well with Fresh/Rotten reviews by chance in the training dataset.\n",
    " \n",
    " 2. The [`alpha` keyword](http://scikit-learn.org/stable/modules/naive_bayes.html#multinomial-naive-bayes) in the Bayesian classifier is a \"smoothing parameter\" -- increasing the value decreases the sensitivity to any single feature, and tends to pull prediction probabilities closer to 50%. \n",
    "\n",
    "How are we are going to use cross-validation to tune these hyperparameters?  The objective function we want to maximize is the log-likelihood of our data.  Fill in the remaining code in this block, to loop over many values of `alpha` and `min_df` to determine\n",
    "which settings are \"best\" in the sense of maximizing the cross-validated log-likelihood.\n",
    "\n",
    "*hint: sklearn has a built-in function, `sklearn.cross_validation.cross_val_score`, that might save you a lot of time here...*"
   ]
  },
  {
   "cell_type": "code",
   "execution_count": 18,
   "metadata": {},
   "outputs": [
    {
     "name": "stderr",
     "output_type": "stream",
     "text": [
      "/Users/yuempark/anaconda3/lib/python3.6/site-packages/sklearn/naive_bayes.py:480: UserWarning: alpha too small will result in numeric errors, setting alpha = 1.0e-10\n",
      "  'setting alpha = %.1e' % _ALPHA_MIN)\n",
      "/Users/yuempark/anaconda3/lib/python3.6/site-packages/sklearn/naive_bayes.py:480: UserWarning: alpha too small will result in numeric errors, setting alpha = 1.0e-10\n",
      "  'setting alpha = %.1e' % _ALPHA_MIN)\n",
      "/Users/yuempark/anaconda3/lib/python3.6/site-packages/sklearn/naive_bayes.py:480: UserWarning: alpha too small will result in numeric errors, setting alpha = 1.0e-10\n",
      "  'setting alpha = %.1e' % _ALPHA_MIN)\n",
      "/Users/yuempark/anaconda3/lib/python3.6/site-packages/sklearn/naive_bayes.py:480: UserWarning: alpha too small will result in numeric errors, setting alpha = 1.0e-10\n",
      "  'setting alpha = %.1e' % _ALPHA_MIN)\n",
      "/Users/yuempark/anaconda3/lib/python3.6/site-packages/sklearn/naive_bayes.py:480: UserWarning: alpha too small will result in numeric errors, setting alpha = 1.0e-10\n",
      "  'setting alpha = %.1e' % _ALPHA_MIN)\n"
     ]
    },
    {
     "name": "stdout",
     "output_type": "stream",
     "text": [
      "best alpha          = 5.00\n",
      "best min_df         = 0.00\n",
      "best log likelihood = -1447.51\n"
     ]
    }
   ],
   "source": [
    "#the grid of parameters to search over\n",
    "alphas = [0, .1, 1, 5, 10, 50]\n",
    "min_dfs = [1e-5, 1e-4, 1e-3, 1e-2, 1e-1]\n",
    "\n",
    "#Find the best value for alpha and min_df, and the best classifier\n",
    "best_alpha = None\n",
    "best_min_df = None\n",
    "max_loglike = -np.inf\n",
    "\n",
    "for alpha in alphas:\n",
    "    for min_df in min_dfs:       \n",
    "        # initialize the vectorizer\n",
    "        vectorizer = CountVectorizer(min_df=min_df)       \n",
    "        X, Y = make_xy(reviews, vectorizer=vectorizer)\n",
    "        \n",
    "        # initialize and fit the model\n",
    "        fitted_model = MultinomialNB(alpha=alpha)\n",
    "        fitted_model.fit(X[train.index], Y[train.index])\n",
    "        \n",
    "        # log likelihood\n",
    "        loglike = log_likelihood(fitted_model, X[test.index], Y[test.index])\n",
    "        \n",
    "        # update best values, if applicable\n",
    "        if loglike > max_loglike:\n",
    "            max_loglike = loglike\n",
    "            best_alpha = alpha\n",
    "            best_min_df = min_df\n",
    "            \n",
    "print('best alpha          = {:.2f}'.format(best_alpha))\n",
    "print('best min_df         = {:.2f}'.format(best_min_df))\n",
    "print('best log likelihood = {:.2f}'.format(max_loglike))"
   ]
  },
  {
   "cell_type": "markdown",
   "metadata": {},
   "source": [
    "> <font color='red'>Optimal values (of those tested) are printed above.</font>"
   ]
  },
  {
   "cell_type": "markdown",
   "metadata": {},
   "source": [
    "### 3.3 Putting it together\n",
    "\n",
    "Now that you've determined values for alpha and min_df that optimize the cross-validated log-likelihood, repeat the steps in 2.1-2.3 to train a final classifier with these parameters and re-evaluate the accuracy.  Discuss the various ways in which Cross-Validation has affected the model. Is the new model more or less accurate? Is overfitting better or worse?"
   ]
  },
  {
   "cell_type": "code",
   "execution_count": 19,
   "metadata": {},
   "outputs": [
    {
     "name": "stdout",
     "output_type": "stream",
     "text": [
      "training accuracy = 0.7915\n",
      "testing  accuracy = 0.7299\n"
     ]
    }
   ],
   "source": [
    "# initialize the vectorizer\n",
    "vectorizer = CountVectorizer(min_df=best_min_df)       \n",
    "X, Y = make_xy(reviews, vectorizer=vectorizer)\n",
    "\n",
    "# initialize and fit the model\n",
    "fitted_model = MultinomialNB(alpha=best_alpha)\n",
    "fitted_model.fit(X[train.index], Y[train.index])\n",
    "\n",
    "# use the model to predict\n",
    "train_Y_predict = fitted_model.predict(X[train.index])\n",
    "test_Y_predict = fitted_model.predict(X[test.index])\n",
    "\n",
    "# compute accuracy\n",
    "train_accuracy = compute_accuracy(train_Y_predict, Y[train.index])\n",
    "test_accuracy = compute_accuracy(test_Y_predict, Y[test.index])\n",
    "\n",
    "print('training accuracy = {:.4f}'.format(train_accuracy))\n",
    "print('testing  accuracy = {:.4f}'.format(test_accuracy))"
   ]
  },
  {
   "cell_type": "markdown",
   "metadata": {},
   "source": [
    "> <font color='red'>When compared to our results from part 2.4, we see that our NB model actually performs a little worse for both the training and testing datasets with the cross-validated hyperparameters. However, the difference in accuracy betwwen the training and testing datasets is much smaller here than in part 2.4. This shows that our choice of hyperparameters made the model more generalizable relative to the model in part 2.4.</font>"
   ]
  },
  {
   "cell_type": "markdown",
   "metadata": {},
   "source": [
    "### 3.4 (Extra Credit)\n",
    "\n",
    "What happens if you tried this again using a function besides the log-likelihood -- for example, the classification accuracy?  Interpret these results"
   ]
  },
  {
   "cell_type": "code",
   "execution_count": 20,
   "metadata": {},
   "outputs": [
    {
     "name": "stderr",
     "output_type": "stream",
     "text": [
      "/Users/yuempark/anaconda3/lib/python3.6/site-packages/sklearn/naive_bayes.py:480: UserWarning: alpha too small will result in numeric errors, setting alpha = 1.0e-10\n",
      "  'setting alpha = %.1e' % _ALPHA_MIN)\n",
      "/Users/yuempark/anaconda3/lib/python3.6/site-packages/sklearn/naive_bayes.py:480: UserWarning: alpha too small will result in numeric errors, setting alpha = 1.0e-10\n",
      "  'setting alpha = %.1e' % _ALPHA_MIN)\n",
      "/Users/yuempark/anaconda3/lib/python3.6/site-packages/sklearn/naive_bayes.py:480: UserWarning: alpha too small will result in numeric errors, setting alpha = 1.0e-10\n",
      "  'setting alpha = %.1e' % _ALPHA_MIN)\n",
      "/Users/yuempark/anaconda3/lib/python3.6/site-packages/sklearn/naive_bayes.py:480: UserWarning: alpha too small will result in numeric errors, setting alpha = 1.0e-10\n",
      "  'setting alpha = %.1e' % _ALPHA_MIN)\n",
      "/Users/yuempark/anaconda3/lib/python3.6/site-packages/sklearn/naive_bayes.py:480: UserWarning: alpha too small will result in numeric errors, setting alpha = 1.0e-10\n",
      "  'setting alpha = %.1e' % _ALPHA_MIN)\n"
     ]
    },
    {
     "name": "stdout",
     "output_type": "stream",
     "text": [
      "best alpha    = 1.00\n",
      "best min_df   = 0.00\n",
      "best accuracy = 0.79\n"
     ]
    }
   ],
   "source": [
    "#Find the best value for alpha and min_df, and the best classifier\n",
    "best_alpha = None\n",
    "best_min_df = None\n",
    "max_accuracy = -np.inf\n",
    "\n",
    "for alpha in alphas:\n",
    "    for min_df in min_dfs:       \n",
    "        # initialize the vectorizer\n",
    "        vectorizer = CountVectorizer(min_df=min_df)       \n",
    "        X, Y = make_xy(reviews, vectorizer=vectorizer)\n",
    "        \n",
    "        # initialize and fit the model\n",
    "        fitted_model = MultinomialNB(alpha=alpha)\n",
    "        fitted_model.fit(X[train.index], Y[train.index])\n",
    "        \n",
    "        # accuracy\n",
    "        test_Y_predict = fitted_model.predict(X[test.index])\n",
    "        accuracy = compute_accuracy(test_Y_predict, Y[test.index])\n",
    "        \n",
    "        # update best values, if applicable\n",
    "        if accuracy > max_accuracy:\n",
    "            max_accuracy = accuracy\n",
    "            best_alpha = alpha\n",
    "            best_min_df = min_df\n",
    "            \n",
    "print('best alpha    = {:.2f}'.format(best_alpha))\n",
    "print('best min_df   = {:.2f}'.format(best_min_df))\n",
    "print('best accuracy = {:.2f}'.format(max_accuracy))"
   ]
  },
  {
   "cell_type": "code",
   "execution_count": 21,
   "metadata": {},
   "outputs": [
    {
     "name": "stdout",
     "output_type": "stream",
     "text": [
      "training accuracy = 0.9223\n",
      "testing  accuracy = 0.7887\n"
     ]
    }
   ],
   "source": [
    "# initialize the vectorizer\n",
    "vectorizer = CountVectorizer(min_df=best_min_df)       \n",
    "X, Y = make_xy(reviews, vectorizer=vectorizer)\n",
    "\n",
    "# initialize and fit the model\n",
    "fitted_model = MultinomialNB(alpha=best_alpha)\n",
    "fitted_model.fit(X[train.index], Y[train.index])\n",
    "\n",
    "# use the model to predict\n",
    "train_Y_predict = fitted_model.predict(X[train.index])\n",
    "test_Y_predict = fitted_model.predict(X[test.index])\n",
    "\n",
    "# compute accuracy\n",
    "train_accuracy = compute_accuracy(train_Y_predict, Y[train.index])\n",
    "test_accuracy = compute_accuracy(test_Y_predict, Y[test.index])\n",
    "\n",
    "print('training accuracy = {:.4f}'.format(train_accuracy))\n",
    "print('testing  accuracy = {:.4f}'.format(test_accuracy))"
   ]
  },
  {
   "cell_type": "markdown",
   "metadata": {},
   "source": [
    "> <font color='red'>When we instead optimize for classification accuracy, we find that the optimal hyperparameters end up being the same as those for part 2.3, and thus we end up with the same training and testing accuracies. Notably, these optimal hyperparameters are different from the optimal hyperparameters that were obtained when optimizing for the log likelihood, which demonstrates that the choice of what we are optimizing for is can lead to a significant difference in model output, and thus interpretation.</font>"
   ]
  },
  {
   "cell_type": "markdown",
   "metadata": {},
   "source": [
    "### 3.5 Interpretation\n",
    "\n",
    "What words best predict a fresh or rotten review?  Using your classifier and the `vectorizer.get_feature_names` method, determine which words best predict a positive or negative review. Print the 10 words that best predict a \"fresh\" review, and the 10 words that best predict a \"rotten\" review. For each word, what is the model's probability of freshness if the word appears one time?\n",
    "\n",
    "#### Hints\n",
    "* In thinking about how to measure the impact of a word on freshness rating, consider computing the classification probability for a feature vector which consists of all 0s, except for a single 1. What does this probability refer to?\n",
    "* `numpy.identity` generates an identity matrix, where all values are zero except the diagonal elements which have a value of one"
   ]
  },
  {
   "cell_type": "markdown",
   "metadata": {},
   "source": [
    "> <font color='red'>Measure the impact of each word by using the method described above - computing the classification probability for a feature vector which consists of all 0s, except for a single 1. This probability refers to a scenario in which a review consists of only a single word, and thus is one way of measuring the impact of that particular word on a freshness rating. In other words, it is effectively asking the question: in the absence of all other information, how well does this one single word predict freshness?</font>"
   ]
  },
  {
   "cell_type": "code",
   "execution_count": 22,
   "metadata": {},
   "outputs": [
    {
     "name": "stdout",
     "output_type": "stream",
     "text": [
      "10 words that best predict a FRESH review:\n",
      "     1) probability = 0.979, word = delight\n",
      "     2) probability = 0.966, word = intimate\n",
      "     3) probability = 0.964, word = captures\n",
      "     4) probability = 0.961, word = childhood\n",
      "     5) probability = 0.961, word = myth\n",
      "     6) probability = 0.959, word = rousing\n",
      "     7) probability = 0.957, word = seductive\n",
      "     8) probability = 0.955, word = expertly\n",
      "     9) probability = 0.955, word = unforgettable\n",
      "    10) probability = 0.953, word = astonishing\n",
      " \n",
      "10 words that best predict a ROTTEN review:\n",
      "     1) probability = 0.962, word = lame\n",
      "     2) probability = 0.961, word = pointless\n",
      "     3) probability = 0.954, word = unfortunately\n",
      "     4) probability = 0.954, word = uninspired\n",
      "     5) probability = 0.941, word = sadly\n",
      "     6) probability = 0.941, word = tiresome\n",
      "     7) probability = 0.929, word = disappointingly\n",
      "     8) probability = 0.924, word = obnoxious\n",
      "     9) probability = 0.924, word = witless\n",
      "    10) probability = 0.924, word = sluggish\n",
      " \n"
     ]
    }
   ],
   "source": [
    "# first, redo the model using the default hyperparameters, as in part 2.3, but using all the data\n",
    "vectorizer = CountVectorizer(min_df=0)  \n",
    "X, Y = make_xy(reviews, vectorizer=vectorizer)\n",
    "\n",
    "# get the words\n",
    "words_fresh = vectorizer.get_feature_names()\n",
    "words_rotten = vectorizer.get_feature_names()\n",
    "\n",
    "# initialize and fit the model\n",
    "fitted_model = MultinomialNB()\n",
    "fitted_model.fit(X, Y)\n",
    "\n",
    "# storage vectors\n",
    "impact_fresh = np.zeros(np.shape(X)[1])\n",
    "impact_rotten = np.zeros(np.shape(X)[1])\n",
    "\n",
    "# loop over each word\n",
    "for i in range(np.shape(X)[1]):\n",
    "    \n",
    "    # create a vector that is all zeros except for the word we are interested in\n",
    "    test_vector = np.zeros((1,np.shape(X)[1]))\n",
    "    test_vector[0,i] = 1\n",
    "    \n",
    "    # get the probability for this vector\n",
    "    probability = fitted_model.predict_proba(test_vector)\n",
    "    \n",
    "    # store\n",
    "    impact_fresh[i] = probability[0,1]\n",
    "    impact_rotten[i] = probability[0,0]\n",
    "    \n",
    "# sort the impact vectors and the feature names vector\n",
    "sort_inds = np.argsort(impact_fresh)\n",
    "impact_fresh = impact_fresh[sort_inds]\n",
    "words_fresh = [words_fresh[i] for i in sort_inds]\n",
    "\n",
    "sort_inds = np.argsort(impact_rotten)\n",
    "impact_rotten = impact_rotten[sort_inds]\n",
    "words_rotten = [words_rotten[i] for i in sort_inds]\n",
    "\n",
    "# print top 10\n",
    "print('10 words that best predict a FRESH review:')\n",
    "for i in range(10):\n",
    "    print('    {:2}) probability = {:.3f}, word = {}'.format(i+1, impact_fresh[-i-1], words_fresh[-i-1]))\n",
    "print(' ')\n",
    "\n",
    "# print worst 10\n",
    "print('10 words that best predict a ROTTEN review:')\n",
    "for i in range(10):\n",
    "    print('    {:2}) probability = {:.3f}, word = {}'.format(i+1, impact_rotten[-i-1], words_rotten[-i-1]))\n",
    "print(' ')"
   ]
  },
  {
   "cell_type": "markdown",
   "metadata": {},
   "source": [
    "### 3.6 Error Analysis\n",
    "\n",
    "One of the best sources for inspiration when trying to improve a model is to look at examples where the model performs poorly.  Find 5 fresh and rotten reviews where your model performs particularly poorly. Print each review.\n",
    "\n",
    "What do you notice about these mis-predictions? Naive Bayes classifiers assume that every word affects the probability independently of other words. In what way is this a bad assumption? In your answer, report your classifier's Freshness probability for the review \"This movie is not remarkable, touching, or superb in any way\"."
   ]
  },
  {
   "cell_type": "markdown",
   "metadata": {},
   "source": [
    "> <font color='red'>To answer this question, I find the reviews that received a probability score that was the furthest away from its actual classification (for example, if a review was actually fresh, I would find the reviews that generated the lowest classification probablity for fresh).\n",
    ">\n",
    "> First do fresh:</font>"
   ]
  },
  {
   "cell_type": "code",
   "execution_count": 23,
   "metadata": {},
   "outputs": [
    {
     "name": "stdout",
     "output_type": "stream",
     "text": [
      "fresh probability = 0.002\n",
      "review: Some of the gags don't work, but fewer than in any previous Brooks film that I've seen, and when the jokes are meant to be bad, they are riotously poor. What more can one ask of Mel Brooks?\n",
      " \n",
      "fresh probability = 0.003\n",
      "review: There's too much talent and too strong a story to mess it up. There was potential for more here, but this incarnation is nothing to be ashamed of, and some of the actors answer the bell.\n",
      " \n",
      "fresh probability = 0.009\n",
      "review: The gangland plot is flimsy (bad guy Peter Greene wears too much eyeliner), and the jokes are erratic, but it's a far better showcase for Carrey's comic-from-Uranus talent than Ace Ventura.\n",
      " \n",
      "fresh probability = 0.010\n",
      "review: A kind of insane logic seems to connect the sketches, if you look hard enough, but mostly the movie seems to exist in the present and be willing to try anything for a laugh.\n",
      " \n",
      "fresh probability = 0.011\n",
      "review: There is only one problem with the excitement generated by this film. After it is over, you will walk out of the theater and, as I did, curse the tedium of your own life. I kept looking for someone who I could throw up against a wall.\n",
      " \n"
     ]
    }
   ],
   "source": [
    "# pull out fresh reviews\n",
    "reviews_fresh = reviews[reviews['fresh']=='fresh'].copy()\n",
    "reviews_fresh.reset_index(drop=True, inplace=True)\n",
    "X_fresh = X[Y==1]\n",
    "\n",
    "# storage vector\n",
    "fresh_probability = np.zeros(np.shape(X_fresh)[0])\n",
    "\n",
    "# iterate over each review\n",
    "for i in range(np.shape(X_fresh)[0]):\n",
    "    \n",
    "    # get probability and store\n",
    "    probability = fitted_model.predict_proba(X_fresh[i,:].reshape(1,-1))\n",
    "    fresh_probability[i] = probability[0,1]\n",
    "    \n",
    "# pull out the worst performing ones and print\n",
    "sort_inds = np.argsort(fresh_probability)\n",
    "for i in range(5):\n",
    "    print('fresh probability = {:.3f}'.format(fresh_probability[sort_inds[i]]))\n",
    "    print('review: {}'.format(reviews_fresh['quote'][sort_inds[i]]))\n",
    "    print(' ')"
   ]
  },
  {
   "cell_type": "markdown",
   "metadata": {},
   "source": [
    "> <font color='red'>Then do the same for rotten:</font>"
   ]
  },
  {
   "cell_type": "code",
   "execution_count": 24,
   "metadata": {},
   "outputs": [
    {
     "name": "stdout",
     "output_type": "stream",
     "text": [
      "rotten probability = 0.001\n",
      "review: The Waterboy is arguably Sandler's most enjoyable motion picture to date, but it's still far from a masterpiece.\n",
      " \n",
      "rotten probability = 0.001\n",
      "review: It's a sad day when an actor who's totally, beautifully in touch with his dark side finds himself stuck in a movie that's scared of its own shadow.\n",
      " \n",
      "rotten probability = 0.001\n",
      "review: This pacifist spirit of brotherhood echoes the heroics in Princess Mononoke and other anime titles, but the artistic gap between the Miyazaki masterpiece and this project is huge.\n",
      " \n",
      "rotten probability = 0.001\n",
      "review: What if this lesser-known chapter of German resistance had been more deeply captured? What if the moral conflicts running through this movie about love of country and revolt said more about Germany, war and, yes, genocide?\n",
      " \n",
      "rotten probability = 0.002\n",
      "review: If it's to be experienced at all, Return to Paradise is best seen as a lively piece of pulp, not a profound exploration of the vagaries of the human soul.\n",
      " \n"
     ]
    }
   ],
   "source": [
    "# pull out rotten reviews\n",
    "reviews_rotten = reviews[reviews['fresh']=='rotten'].copy()\n",
    "reviews_rotten.reset_index(drop=True, inplace=True)\n",
    "X_rotten = X[Y==0]\n",
    "\n",
    "# storage vector\n",
    "rotten_probability = np.zeros(np.shape(X_rotten)[0])\n",
    "\n",
    "# iterate over each review\n",
    "for i in range(np.shape(X_rotten)[0]):\n",
    "    \n",
    "    # get probability and store\n",
    "    probability = fitted_model.predict_proba(X_rotten[i,:].reshape(1,-1))\n",
    "    rotten_probability[i] = probability[0,0]\n",
    "    \n",
    "# pull out the worst performing ones and print\n",
    "sort_inds = np.argsort(rotten_probability)\n",
    "for i in range(5):\n",
    "    print('rotten probability = {:.3f}'.format(rotten_probability[sort_inds[i]]))\n",
    "    print('review: {}'.format(reviews_rotten['quote'][sort_inds[i]]))\n",
    "    print(' ')"
   ]
  },
  {
   "cell_type": "markdown",
   "metadata": {},
   "source": [
    "> <font color='red'>Then do the test vector from the prompt:</font>"
   ]
  },
  {
   "cell_type": "code",
   "execution_count": 25,
   "metadata": {},
   "outputs": [
    {
     "name": "stdout",
     "output_type": "stream",
     "text": [
      "fresh probability = 0.999\n"
     ]
    }
   ],
   "source": [
    "# first convert the quote into the correct format\n",
    "trial_quote = ['This movie is not remarkable, touching, or superb in any way']\n",
    "trial_X = vectorizer.transform(trial_quote)\n",
    "trial_X = trial_X.toarray()\n",
    "\n",
    "# then get the freshness probability\n",
    "probability = fitted_model.predict_proba(trial_X[0,:].reshape(1,-1))\n",
    "print('fresh probability = {:.3f}'.format(probability[0,1]))"
   ]
  },
  {
   "cell_type": "markdown",
   "metadata": {},
   "source": [
    "> <font color='red'>As we can see from the analyses above, in the case of bad false negatives (i.e. cases where the model was almost certain that a review was rotten, when in fact it was fresh), we can generally see that the reviews are using negative words (when considered in isolation) to actually praise the movie, or are borderline reviews that end up opting to pick fresh in the binary classification.\n",
    ">\n",
    "> In the case of the bad false positives (i.e. cases where the model was almost certain that a review was fresh, when in fact it was rotten), we can see that the reviews are using positive words (when considered in isolation) to actually critique the movie, are sarcastic, or are using the negative prior to these positive words. The latter of these scenarios is clearly exemplified in the test vector from the prompt.\n",
    ">\n",
    "> Overall, these examples clearly point out the main flaw with the Naive Bayes approach: the approach assumes independence of words, when the English language often relies heavily on the interplay of words to convey thought correctly. For example, in the English language, words such as 'not' lead to an interpretation of the following adjective that is actually the opposite of the interpretation of that same adjective in isolation. Such dependence of interpretation is not accounted for in Naive Bayes.</font>"
   ]
  }
 ],
 "metadata": {
  "anaconda-cloud": {},
  "kernelspec": {
   "display_name": "Python 3",
   "language": "python",
   "name": "python3"
  },
  "language_info": {
   "codemirror_mode": {
    "name": "ipython",
    "version": 3
   },
   "file_extension": ".py",
   "mimetype": "text/x-python",
   "name": "python",
   "nbconvert_exporter": "python",
   "pygments_lexer": "ipython3",
   "version": "3.6.6"
  },
  "toc": {
   "nav_menu": {},
   "number_sections": false,
   "sideBar": true,
   "skip_h1_title": false,
   "title_cell": "Table of Contents",
   "title_sidebar": "Contents",
   "toc_cell": false,
   "toc_position": {
    "height": "calc(100% - 180px)",
    "left": "10px",
    "top": "150px",
    "width": "211px"
   },
   "toc_section_display": true,
   "toc_window_display": true
  }
 },
 "nbformat": 4,
 "nbformat_minor": 1
}
