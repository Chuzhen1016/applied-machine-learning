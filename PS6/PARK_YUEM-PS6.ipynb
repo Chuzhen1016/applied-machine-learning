{
 "cells": [
  {
   "cell_type": "markdown",
   "metadata": {},
   "source": [
    "# Problem Set 6, due Nov 19 at 11:59pm.\n"
   ]
  },
  {
   "cell_type": "markdown",
   "metadata": {},
   "source": [
    "## Part 1: Exploring the Titanic\n",
    "\n",
    "Your mission for this problem set is to use your knowledge of supervised machine learning to try to predict which passengers aboard the Titanic were most likely to survive. The prompts for this part of the problem set are deliberately vague - the goal is to leave it up to you how to structure (most of) your analysis.\n",
    "\n",
    "To get started, read about the prediction problem on [Kaggle](https://www.kaggle.com/c/titanic). Then, download the data [here](https://www.kaggle.com/c/titanic/data) - you'll at the very least need the train.csv data.\n",
    "\n",
    "> <font color='red'>Some helpful information from the website above:</font>\n",
    "\n",
    "| Variable | Definition | Key |\n",
    "|----------|------------|-----|\n",
    "| survival | Survival | 0 = No, 1 = Yes |\n",
    "| pclass | Ticket class | 1 = 1st, 2 = 2nd, 3 = 3rd |\n",
    "| sex | Sex | |\n",
    "| Age | Age | in years |\n",
    "| sibsp | # of siblings / spouses aboard the Titanic | |\n",
    "| parch | # of parents / children aboard the Titanic | |\n",
    "| ticket | Ticket number | |\n",
    "| fare | Passenger fare | |\n",
    "| cabin | Cabin number | |\n",
    "| embarked | Port of Embarkation | C = Cherbourg, Q = Queenstown, S = Southampton |\n",
    "\n",
    "**Variable Notes**\n",
    "\n",
    "pclass: A proxy for socio-economic status (SES)\n",
    "* 1st = Upper\n",
    "* 2nd = Middle\n",
    "* 3rd = Lower\n",
    "\n",
    "age: Age is fractional if less than 1. If the age is estimated, is it in the form of xx.5\n",
    "\n",
    "sibsp: The dataset defines family relations in this way...\n",
    "* Sibling = brother, sister, stepbrother, stepsister\n",
    "* Spouse = husband, wife (mistresses and fiancés were ignored)\n",
    "\n",
    "parch: The dataset defines family relations in this way...\n",
    "* Parent = mother, father\n",
    "* Child = daughter, son, stepdaughter, stepson\n",
    "* Some children travelled only with a nanny, therefore parch=0 for them.\n",
    "\n",
    "### 1.1 Exploratory data analysis\n",
    "\n",
    "Create 2-3 figures and tables that help give you a feel for the data. Make sure to at least check the data type of each variable, to understand which variables have missing observations, and to understand the distribution of each variable (and determine whether the variables should be normalized or not). Are any of the potential predictor variables (i.e., anything execpt for survival) collinear or highly correlated? "
   ]
  },
  {
   "cell_type": "markdown",
   "metadata": {},
   "source": [
    "> <font color='red'>Import necessary modules:</font>"
   ]
  },
  {
   "cell_type": "code",
   "execution_count": 1,
   "metadata": {},
   "outputs": [],
   "source": [
    "import pandas as pd\n",
    "import numpy as np\n",
    "import matplotlib.pyplot as plt\n",
    "from tqdm import tqdm_notebook\n",
    "from scipy import stats"
   ]
  },
  {
   "cell_type": "markdown",
   "metadata": {},
   "source": [
    "> <font color='red'>Read in data files:</font>"
   ]
  },
  {
   "cell_type": "code",
   "execution_count": 2,
   "metadata": {},
   "outputs": [],
   "source": [
    "train = pd.read_csv('train.csv')\n",
    "test = pd.read_csv('test.csv')"
   ]
  },
  {
   "cell_type": "markdown",
   "metadata": {},
   "source": [
    "> <font color='red'>Get a sense of the training dataframe using the `DataFrame.info()` method:</font>"
   ]
  },
  {
   "cell_type": "code",
   "execution_count": 3,
   "metadata": {
    "scrolled": false
   },
   "outputs": [
    {
     "name": "stdout",
     "output_type": "stream",
     "text": [
      "<class 'pandas.core.frame.DataFrame'>\n",
      "RangeIndex: 891 entries, 0 to 890\n",
      "Data columns (total 12 columns):\n",
      "PassengerId    891 non-null int64\n",
      "Survived       891 non-null int64\n",
      "Pclass         891 non-null int64\n",
      "Name           891 non-null object\n",
      "Sex            891 non-null object\n",
      "Age            714 non-null float64\n",
      "SibSp          891 non-null int64\n",
      "Parch          891 non-null int64\n",
      "Ticket         891 non-null object\n",
      "Fare           891 non-null float64\n",
      "Cabin          204 non-null object\n",
      "Embarked       889 non-null object\n",
      "dtypes: float64(2), int64(5), object(5)\n",
      "memory usage: 83.6+ KB\n"
     ]
    }
   ],
   "source": [
    "train.info()"
   ]
  },
  {
   "cell_type": "markdown",
   "metadata": {},
   "source": [
    "> <font color='red'>Convert `Sex` numeric, with:\n",
    "> * male = 0, female = 1</font>"
   ]
  },
  {
   "cell_type": "code",
   "execution_count": 4,
   "metadata": {},
   "outputs": [],
   "source": [
    "# Sex\n",
    "numeric_Sex = np.array([])\n",
    "for i in range(len(train.index)):\n",
    "    if train['Sex'][i] == 'male':\n",
    "        numeric_Sex = np.append(numeric_Sex, 0)\n",
    "    else:\n",
    "        numeric_Sex = np.append(numeric_Sex, 1)\n",
    "        \n",
    "train['Sex'] = numeric_Sex.astype(np.int64)"
   ]
  },
  {
   "cell_type": "markdown",
   "metadata": {},
   "source": [
    "> <font color='red'>Convert `Embarked` into three binary categories:</font>"
   ]
  },
  {
   "cell_type": "code",
   "execution_count": 5,
   "metadata": {},
   "outputs": [],
   "source": [
    "# embarked\n",
    "for i in range(len(train.index)):\n",
    "    if train['Embarked'][i] == 'C':\n",
    "        train.loc[i, 'Embarked_C'] = 1\n",
    "        train.loc[i, 'Embarked_Q'] = 0\n",
    "        train.loc[i, 'Embarked_S'] = 0\n",
    "    elif train['Embarked'][i] == 'Q':\n",
    "        train.loc[i, 'Embarked_C'] = 0\n",
    "        train.loc[i, 'Embarked_Q'] = 1\n",
    "        train.loc[i, 'Embarked_S'] = 0\n",
    "    elif train['Embarked'][i] == 'S':\n",
    "        train.loc[i, 'Embarked_C'] = 0\n",
    "        train.loc[i, 'Embarked_Q'] = 0\n",
    "        train.loc[i, 'Embarked_S'] = 1\n",
    "    else:\n",
    "        train.loc[i, 'Embarked_C'] = np.nan\n",
    "        train.loc[i, 'Embarked_Q'] = np.nan\n",
    "        train.loc[i, 'Embarked_S'] = np.nan\n",
    "        \n",
    "# drop the original row\n",
    "train.drop(columns=['Embarked'], inplace=True)"
   ]
  },
  {
   "cell_type": "markdown",
   "metadata": {},
   "source": [
    "> <font color='red'>Get a sense of the range and distribution of the variables using the `DataFrame.describe()` and `pandas.plotting.scatter_matrix()` methods:</font>"
   ]
  },
  {
   "cell_type": "code",
   "execution_count": 6,
   "metadata": {},
   "outputs": [
    {
     "data": {
      "text/html": [
       "<div>\n",
       "<style scoped>\n",
       "    .dataframe tbody tr th:only-of-type {\n",
       "        vertical-align: middle;\n",
       "    }\n",
       "\n",
       "    .dataframe tbody tr th {\n",
       "        vertical-align: top;\n",
       "    }\n",
       "\n",
       "    .dataframe thead th {\n",
       "        text-align: right;\n",
       "    }\n",
       "</style>\n",
       "<table border=\"1\" class=\"dataframe\">\n",
       "  <thead>\n",
       "    <tr style=\"text-align: right;\">\n",
       "      <th></th>\n",
       "      <th>PassengerId</th>\n",
       "      <th>Survived</th>\n",
       "      <th>Pclass</th>\n",
       "      <th>Sex</th>\n",
       "      <th>Age</th>\n",
       "      <th>SibSp</th>\n",
       "      <th>Parch</th>\n",
       "      <th>Fare</th>\n",
       "      <th>Embarked_C</th>\n",
       "      <th>Embarked_Q</th>\n",
       "      <th>Embarked_S</th>\n",
       "    </tr>\n",
       "  </thead>\n",
       "  <tbody>\n",
       "    <tr>\n",
       "      <th>count</th>\n",
       "      <td>891.000000</td>\n",
       "      <td>891.000000</td>\n",
       "      <td>891.000000</td>\n",
       "      <td>891.000000</td>\n",
       "      <td>714.000000</td>\n",
       "      <td>891.000000</td>\n",
       "      <td>891.000000</td>\n",
       "      <td>891.000000</td>\n",
       "      <td>889.000000</td>\n",
       "      <td>889.000000</td>\n",
       "      <td>889.000000</td>\n",
       "    </tr>\n",
       "    <tr>\n",
       "      <th>mean</th>\n",
       "      <td>446.000000</td>\n",
       "      <td>0.383838</td>\n",
       "      <td>2.308642</td>\n",
       "      <td>0.352413</td>\n",
       "      <td>29.699118</td>\n",
       "      <td>0.523008</td>\n",
       "      <td>0.381594</td>\n",
       "      <td>32.204208</td>\n",
       "      <td>0.188976</td>\n",
       "      <td>0.086614</td>\n",
       "      <td>0.724409</td>\n",
       "    </tr>\n",
       "    <tr>\n",
       "      <th>std</th>\n",
       "      <td>257.353842</td>\n",
       "      <td>0.486592</td>\n",
       "      <td>0.836071</td>\n",
       "      <td>0.477990</td>\n",
       "      <td>14.526497</td>\n",
       "      <td>1.102743</td>\n",
       "      <td>0.806057</td>\n",
       "      <td>49.693429</td>\n",
       "      <td>0.391710</td>\n",
       "      <td>0.281427</td>\n",
       "      <td>0.447063</td>\n",
       "    </tr>\n",
       "    <tr>\n",
       "      <th>min</th>\n",
       "      <td>1.000000</td>\n",
       "      <td>0.000000</td>\n",
       "      <td>1.000000</td>\n",
       "      <td>0.000000</td>\n",
       "      <td>0.420000</td>\n",
       "      <td>0.000000</td>\n",
       "      <td>0.000000</td>\n",
       "      <td>0.000000</td>\n",
       "      <td>0.000000</td>\n",
       "      <td>0.000000</td>\n",
       "      <td>0.000000</td>\n",
       "    </tr>\n",
       "    <tr>\n",
       "      <th>25%</th>\n",
       "      <td>223.500000</td>\n",
       "      <td>0.000000</td>\n",
       "      <td>2.000000</td>\n",
       "      <td>0.000000</td>\n",
       "      <td>20.125000</td>\n",
       "      <td>0.000000</td>\n",
       "      <td>0.000000</td>\n",
       "      <td>7.910400</td>\n",
       "      <td>0.000000</td>\n",
       "      <td>0.000000</td>\n",
       "      <td>0.000000</td>\n",
       "    </tr>\n",
       "    <tr>\n",
       "      <th>50%</th>\n",
       "      <td>446.000000</td>\n",
       "      <td>0.000000</td>\n",
       "      <td>3.000000</td>\n",
       "      <td>0.000000</td>\n",
       "      <td>28.000000</td>\n",
       "      <td>0.000000</td>\n",
       "      <td>0.000000</td>\n",
       "      <td>14.454200</td>\n",
       "      <td>0.000000</td>\n",
       "      <td>0.000000</td>\n",
       "      <td>1.000000</td>\n",
       "    </tr>\n",
       "    <tr>\n",
       "      <th>75%</th>\n",
       "      <td>668.500000</td>\n",
       "      <td>1.000000</td>\n",
       "      <td>3.000000</td>\n",
       "      <td>1.000000</td>\n",
       "      <td>38.000000</td>\n",
       "      <td>1.000000</td>\n",
       "      <td>0.000000</td>\n",
       "      <td>31.000000</td>\n",
       "      <td>0.000000</td>\n",
       "      <td>0.000000</td>\n",
       "      <td>1.000000</td>\n",
       "    </tr>\n",
       "    <tr>\n",
       "      <th>max</th>\n",
       "      <td>891.000000</td>\n",
       "      <td>1.000000</td>\n",
       "      <td>3.000000</td>\n",
       "      <td>1.000000</td>\n",
       "      <td>80.000000</td>\n",
       "      <td>8.000000</td>\n",
       "      <td>6.000000</td>\n",
       "      <td>512.329200</td>\n",
       "      <td>1.000000</td>\n",
       "      <td>1.000000</td>\n",
       "      <td>1.000000</td>\n",
       "    </tr>\n",
       "  </tbody>\n",
       "</table>\n",
       "</div>"
      ],
      "text/plain": [
       "       PassengerId    Survived      Pclass         Sex         Age  \\\n",
       "count   891.000000  891.000000  891.000000  891.000000  714.000000   \n",
       "mean    446.000000    0.383838    2.308642    0.352413   29.699118   \n",
       "std     257.353842    0.486592    0.836071    0.477990   14.526497   \n",
       "min       1.000000    0.000000    1.000000    0.000000    0.420000   \n",
       "25%     223.500000    0.000000    2.000000    0.000000   20.125000   \n",
       "50%     446.000000    0.000000    3.000000    0.000000   28.000000   \n",
       "75%     668.500000    1.000000    3.000000    1.000000   38.000000   \n",
       "max     891.000000    1.000000    3.000000    1.000000   80.000000   \n",
       "\n",
       "            SibSp       Parch        Fare  Embarked_C  Embarked_Q  Embarked_S  \n",
       "count  891.000000  891.000000  891.000000  889.000000  889.000000  889.000000  \n",
       "mean     0.523008    0.381594   32.204208    0.188976    0.086614    0.724409  \n",
       "std      1.102743    0.806057   49.693429    0.391710    0.281427    0.447063  \n",
       "min      0.000000    0.000000    0.000000    0.000000    0.000000    0.000000  \n",
       "25%      0.000000    0.000000    7.910400    0.000000    0.000000    0.000000  \n",
       "50%      0.000000    0.000000   14.454200    0.000000    0.000000    1.000000  \n",
       "75%      1.000000    0.000000   31.000000    0.000000    0.000000    1.000000  \n",
       "max      8.000000    6.000000  512.329200    1.000000    1.000000    1.000000  "
      ]
     },
     "execution_count": 6,
     "metadata": {},
     "output_type": "execute_result"
    }
   ],
   "source": [
    "train.describe()"
   ]
  },
  {
   "cell_type": "code",
   "execution_count": 7,
   "metadata": {},
   "outputs": [
    {
     "data": {
      "image/png": "[encoded data removed]",
      "text/plain": [
       "<Figure size 936x936 with 121 Axes>"
      ]
     },
     "metadata": {
      "needs_background": "light"
     },
     "output_type": "display_data"
    }
   ],
   "source": [
    "fig = pd.plotting.scatter_matrix(train, figsize=(13,13), alpha=0.2)"
   ]
  },
  {
   "cell_type": "markdown",
   "metadata": {},
   "source": [
    "> <font color='red'>As we can see from the scatterplot matrix and summary tables above, `Age`, `Cabin`, and `Embarked` have missing data. Clearly, the data needs to be normalized in order to prevent overweighting of any single variable, since the range of values is very different depending on the category. Finally, the scatter plots above do not reveal any obvious strong collinearity among predictor variables. However, we do observe slight to moderate collinearity between `Age` and `SibSp` (which makes sense, since typically you travel with your siblings when you are young, but only your partner as you get older), between `Age` and `Parch` (which makes sense, because you can only have a maximum of two parents when you are young, but you can have any number of children when you are old), between `Pclass` and `Fare` (which makes sense, because upper class tickets are more expensive), between `Fare` and `SibSp` (which makes sense, since wealthy families tend to have smaller families), and between `Fare` and `Parch` (which makes sense, again since wealthy families tend to have smaller families).</font>"
   ]
  },
  {
   "cell_type": "markdown",
   "metadata": {},
   "source": [
    "### 1.2 Correlates of survival\n",
    "\n",
    "Use whatever methods you can think of to try and figure out what factors seem to determine whether or not a person would survive the sinking of the Titanic. What do you conclude?"
   ]
  },
  {
   "cell_type": "markdown",
   "metadata": {},
   "source": [
    "> <font color='red'>I choose to simply implement a t-test between survivors and non-survivors for each variable. This method does not identify collinearity, but does provide a first-order prediction as to what factors correlate with survival.</font>"
   ]
  },
  {
   "cell_type": "code",
   "execution_count": 8,
   "metadata": {},
   "outputs": [
    {
     "data": {
      "text/html": [
       "<div>\n",
       "<style scoped>\n",
       "    .dataframe tbody tr th:only-of-type {\n",
       "        vertical-align: middle;\n",
       "    }\n",
       "\n",
       "    .dataframe tbody tr th {\n",
       "        vertical-align: top;\n",
       "    }\n",
       "\n",
       "    .dataframe thead th {\n",
       "        text-align: right;\n",
       "    }\n",
       "</style>\n",
       "<table border=\"1\" class=\"dataframe\">\n",
       "  <thead>\n",
       "    <tr style=\"text-align: right;\">\n",
       "      <th></th>\n",
       "      <th>variable</th>\n",
       "      <th>stat</th>\n",
       "      <th>pval</th>\n",
       "      <th>significant?</th>\n",
       "    </tr>\n",
       "  </thead>\n",
       "  <tbody>\n",
       "    <tr>\n",
       "      <th>0</th>\n",
       "      <td>PassengerId</td>\n",
       "      <td>0.150406</td>\n",
       "      <td>8.804853e-01</td>\n",
       "      <td>False</td>\n",
       "    </tr>\n",
       "    <tr>\n",
       "      <th>1</th>\n",
       "      <td>Pclass</td>\n",
       "      <td>10.336953</td>\n",
       "      <td>2.911155e-23</td>\n",
       "      <td>True</td>\n",
       "    </tr>\n",
       "    <tr>\n",
       "      <th>2</th>\n",
       "      <td>Sex</td>\n",
       "      <td>-18.134563</td>\n",
       "      <td>1.243794e-58</td>\n",
       "      <td>True</td>\n",
       "    </tr>\n",
       "    <tr>\n",
       "      <th>3</th>\n",
       "      <td>Age</td>\n",
       "      <td>2.046030</td>\n",
       "      <td>4.118965e-02</td>\n",
       "      <td>True</td>\n",
       "    </tr>\n",
       "    <tr>\n",
       "      <th>4</th>\n",
       "      <td>SibSp</td>\n",
       "      <td>1.194353</td>\n",
       "      <td>2.326626e-01</td>\n",
       "      <td>False</td>\n",
       "    </tr>\n",
       "    <tr>\n",
       "      <th>5</th>\n",
       "      <td>Parch</td>\n",
       "      <td>-2.478908</td>\n",
       "      <td>1.339484e-02</td>\n",
       "      <td>True</td>\n",
       "    </tr>\n",
       "    <tr>\n",
       "      <th>6</th>\n",
       "      <td>Fare</td>\n",
       "      <td>-6.839099</td>\n",
       "      <td>2.699332e-11</td>\n",
       "      <td>True</td>\n",
       "    </tr>\n",
       "    <tr>\n",
       "      <th>7</th>\n",
       "      <td>Embarked_C</td>\n",
       "      <td>-4.836518</td>\n",
       "      <td>1.691747e-06</td>\n",
       "      <td>True</td>\n",
       "    </tr>\n",
       "    <tr>\n",
       "      <th>8</th>\n",
       "      <td>Embarked_Q</td>\n",
       "      <td>-0.134635</td>\n",
       "      <td>8.929382e-01</td>\n",
       "      <td>False</td>\n",
       "    </tr>\n",
       "    <tr>\n",
       "      <th>9</th>\n",
       "      <td>Embarked_S</td>\n",
       "      <td>4.420475</td>\n",
       "      <td>1.156630e-05</td>\n",
       "      <td>True</td>\n",
       "    </tr>\n",
       "  </tbody>\n",
       "</table>\n",
       "</div>"
      ],
      "text/plain": [
       "      variable       stat          pval  significant?\n",
       "0  PassengerId   0.150406  8.804853e-01         False\n",
       "1       Pclass  10.336953  2.911155e-23          True\n",
       "2          Sex -18.134563  1.243794e-58          True\n",
       "3          Age   2.046030  4.118965e-02          True\n",
       "4        SibSp   1.194353  2.326626e-01         False\n",
       "5        Parch  -2.478908  1.339484e-02          True\n",
       "6         Fare  -6.839099  2.699332e-11          True\n",
       "7   Embarked_C  -4.836518  1.691747e-06          True\n",
       "8   Embarked_Q  -0.134635  8.929382e-01         False\n",
       "9   Embarked_S   4.420475  1.156630e-05          True"
      ]
     },
     "execution_count": 8,
     "metadata": {},
     "output_type": "execute_result"
    }
   ],
   "source": [
    "# import necessary module\n",
    "from scipy import stats\n",
    "\n",
    "# variables we want to test\n",
    "ttest_vars = ['PassengerId','Pclass','Sex','Age','SibSp','Parch','Fare','Embarked_C','Embarked_Q','Embarked_S']\n",
    "\n",
    "# separate survived and non-survived\n",
    "train_survived_0 = train[train['Survived']==0].copy()\n",
    "train_survived_1 = train[train['Survived']==1].copy()\n",
    "\n",
    "# storage vectors\n",
    "stat_vec = np.zeros(len(ttest_vars))\n",
    "pval_vec = np.zeros(len(ttest_vars))\n",
    "pass_vec = []\n",
    "\n",
    "# iterate through the variables\n",
    "for i in range(len(ttest_vars)):\n",
    "    \n",
    "    # do the t-test, dropping empty rows\n",
    "    stat, pval = stats.ttest_ind(train_survived_0[ttest_vars[i]].dropna(),\n",
    "                                 train_survived_1[ttest_vars[i]].dropna(),\n",
    "                                 equal_var=False)\n",
    "    \n",
    "    # store\n",
    "    stat_vec[i] = stat\n",
    "    pval_vec[i] = pval\n",
    "    if pval < 0.05:\n",
    "        pass_vec.append(True)\n",
    "    else:\n",
    "        pass_vec.append(False)\n",
    "    \n",
    "# create a table\n",
    "ttest_df = pd.DataFrame({'variable':ttest_vars,'stat':stat_vec,'pval':pval_vec,'significant?':pass_vec})\n",
    "ttest_df"
   ]
  },
  {
   "cell_type": "markdown",
   "metadata": {},
   "source": [
    "> <font color='red'>As we can see from the results of the t-test above, many of the variables seem to be significantly correlated (at the 95% confidence level) with survival. In particular, `Pclass`, `Sex`, `Age`, `Parch`, `Fare`, `Embarked_C`, and `Embarked_S` all correlate with survival. However, as discussed in part 1.1, we can see that several of these variables are correlated with one another, so it is not clear from this analysis alone which of these variables are actually 'causal' for survival.</font>"
   ]
  },
  {
   "cell_type": "markdown",
   "metadata": {},
   "source": [
    "## Part 2: Decision Trees\n",
    "### 2.1 Decision Tree\n",
    "Using the basic [Decision Tree](http://scikit-learn.org/stable/modules/tree.html#tree) library in sklearn, fit a model to predict titanic survival. Make sure you come up with an appropriate way of handling each of the input variables before feeding them in to the decision tree. You can use the [DecisionTreeClassifier](http://scikit-learn.org/stable/modules/generated/sklearn.tree.DecisionTreeClassifier.html#sklearn.tree.DecisionTreeClassifier) method to implement 10-fold cross-validation.\n",
    "\n",
    "For this any the following problems, you should set aside some of your training data as held-out test data, prior to cross-validation. Report the average training and testing accuracy across your 10 folds, and show a diagram of the tree (at least the first three levels). Finally, select the best-performing decision tree (i.e., the one that achieved the highest cross-validated performance) and report the performance of the fitted model on the held-out test data -- how does it compare to the cross-validated accuracy?"
   ]
  },
  {
   "cell_type": "markdown",
   "metadata": {},
   "source": [
    "> <font color='red'>Get rid of useless columns:</font>"
   ]
  },
  {
   "cell_type": "code",
   "execution_count": 9,
   "metadata": {},
   "outputs": [],
   "source": [
    "# columns that we actually want\n",
    "keep_vars = ['PassengerId','Pclass','Sex','Age','SibSp','Parch','Fare','Embarked_C','Embarked_Q','Embarked_S',\n",
    "             'Survived']\n",
    "train = train[keep_vars]"
   ]
  },
  {
   "cell_type": "markdown",
   "metadata": {},
   "source": [
    "> <font color='red'>A function for normalizing, slightly modified from problem set 3:</font>"
   ]
  },
  {
   "cell_type": "code",
   "execution_count": 10,
   "metadata": {},
   "outputs": [],
   "source": [
    "def normalize(array):\n",
    "    \"\"\"\n",
    "    Normalize an array\n",
    "\n",
    "    Parameters\n",
    "    ----------\n",
    "    array : array\n",
    "        Original array.\n",
    "\n",
    "    Returns\n",
    "    -------\n",
    "    norm_array : array\n",
    "        Normalized input array.\n",
    "    \"\"\"\n",
    "    # if the array is just one variable\n",
    "    if array.ndim==1:\n",
    "        norm_array = (array - np.nanmean(array))/np.nanstd(array)\n",
    "        \n",
    "    # if more than one variable\n",
    "    else:\n",
    "        norm_array = (array - np.nanmean(array, axis=0))/np.nanstd(array, axis=0)\n",
    "    \n",
    "    return norm_array"
   ]
  },
  {
   "cell_type": "markdown",
   "metadata": {},
   "source": [
    "> <font color='red'>Normalize everything except for the target, and drop rows with NaN for now:</font>"
   ]
  },
  {
   "cell_type": "code",
   "execution_count": 11,
   "metadata": {},
   "outputs": [],
   "source": [
    "# normalize\n",
    "train_norm = train.copy()\n",
    "for col in train.columns:\n",
    "    if col!='Survived':\n",
    "        train_norm[col] = normalize(train[col].values)\n",
    "        \n",
    "# drop NaNs\n",
    "train_norm.dropna(inplace=True)\n",
    "train_norm.reset_index(drop=True, inplace=True)"
   ]
  },
  {
   "cell_type": "markdown",
   "metadata": {},
   "source": [
    "> <font color='red'>Also change `Survived` into -1 and 1, for input into `DecisionTreeClassifier`:</font>"
   ]
  },
  {
   "cell_type": "code",
   "execution_count": 12,
   "metadata": {},
   "outputs": [],
   "source": [
    "for i in range(len(train_norm.index)):\n",
    "    if train_norm['Survived'][i] == 0:\n",
    "        train_norm.loc[i, 'Survived'] = -1"
   ]
  },
  {
   "cell_type": "markdown",
   "metadata": {},
   "source": [
    "> <font color='red'>Split into training and testing:</font>"
   ]
  },
  {
   "cell_type": "code",
   "execution_count": 13,
   "metadata": {},
   "outputs": [],
   "source": [
    "#import necessary module\n",
    "from sklearn.model_selection import train_test_split\n",
    "\n",
    "# get X and Y\n",
    "feature_names = ['PassengerId','Pclass','Sex','Age','SibSp','Parch','Fare','Embarked_C','Embarked_Q','Embarked_S']\n",
    "X = train_norm[feature_names].values\n",
    "Y = train_norm['Survived'].values\n",
    "\n",
    "# training and testing\n",
    "X_train, X_test, Y_train, Y_test = train_test_split(X, Y, test_size=0.33, random_state=np.random.seed(22))"
   ]
  },
  {
   "cell_type": "markdown",
   "metadata": {},
   "source": [
    "> <font color='red'>A function for calculating accuracy:</font>"
   ]
  },
  {
   "cell_type": "code",
   "execution_count": 14,
   "metadata": {},
   "outputs": [],
   "source": [
    "def compute_accuracy(predicted, observed):\n",
    "    \"\"\"\n",
    "    Compute accuracy.\n",
    "\n",
    "    Parameters\n",
    "    ----------\n",
    "    predicted : array\n",
    "        Predicted values.\n",
    "        \n",
    "    observed : array\n",
    "        Observed values.\n",
    "\n",
    "    Returns\n",
    "    -------\n",
    "    accuracy : float\n",
    "        The accuracy.\n",
    "    \"\"\"\n",
    "    TP = sum((predicted==1) & (observed==1))\n",
    "    TN = sum((predicted==-1) & (observed==-1))\n",
    "    FP = sum((predicted==1) & (observed==-1))\n",
    "    FN = sum((predicted==-1) & (observed==1))\n",
    "    \n",
    "    accuracy = (TP + TN) / (TP + TN + FP + FN)\n",
    "    return accuracy"
   ]
  },
  {
   "cell_type": "markdown",
   "metadata": {},
   "source": [
    "> <font color='red'>The decision tree with cross-validation:</font>"
   ]
  },
  {
   "cell_type": "code",
   "execution_count": 15,
   "metadata": {},
   "outputs": [
    {
     "data": {
      "image/png": "[encoded data removed]",
      "text/plain": [
       "<Figure size 504x504 with 2 Axes>"
      ]
     },
     "metadata": {
      "needs_background": "light"
     },
     "output_type": "display_data"
    }
   ],
   "source": [
    "# import necessary modules\n",
    "from sklearn import tree\n",
    "from sklearn.model_selection import KFold\n",
    "\n",
    "# set up the 10-fold cross validation\n",
    "kf = KFold(n_splits=10, shuffle=True, random_state=np.random.seed(22))\n",
    "\n",
    "# get the training and testing indexes\n",
    "kf_train_inds = []\n",
    "kf_test_inds = []\n",
    "for kf_train_ind, kf_test_ind in kf.split(X_train):\n",
    "    kf_train_inds.append(kf_train_ind)\n",
    "    kf_test_inds.append(kf_test_ind)\n",
    "    \n",
    "# storage vectors\n",
    "kf_train_accuracies = np.zeros(10)\n",
    "kf_test_accuracies = np.zeros(10)\n",
    "\n",
    "# iterate through folds\n",
    "for i in range(10):\n",
    "    \n",
    "    # fit the tree\n",
    "    clf = tree.DecisionTreeClassifier()\n",
    "    clf = clf.fit(X_train[kf_train_inds[i]], Y_train[kf_train_inds[i]])\n",
    "    \n",
    "    # predicted values\n",
    "    Y_kf_train_predicted = clf.predict(X_train[kf_train_inds[i]])\n",
    "    Y_kf_test_predicted = clf.predict(X_train[kf_test_inds[i]])\n",
    "    \n",
    "    # accuracies\n",
    "    kf_train_accuracies[i] = compute_accuracy(Y_kf_train_predicted, Y_train[kf_train_inds[i]])\n",
    "    kf_test_accuracies[i] = compute_accuracy(Y_kf_test_predicted, Y_train[kf_test_inds[i]])\n",
    "    \n",
    "# plot the results\n",
    "fig, ax = plt.subplots(ncols=1, nrows=2, figsize=(7,7), sharex=True)\n",
    "\n",
    "ax[0].bar(np.arange(10)+1, kf_train_accuracies)\n",
    "mean_kf_train_accuracies = np.mean(kf_train_accuracies)\n",
    "std_kf_train_accuracies = np.std(kf_train_accuracies)\n",
    "ax[0].axhline(mean_kf_train_accuracies, c='C7')\n",
    "ax[0].axhline(mean_kf_train_accuracies+std_kf_train_accuracies, c='C7', ls='--')\n",
    "ax[0].axhline(mean_kf_train_accuracies-std_kf_train_accuracies, c='C7', ls='--')\n",
    "ax[0].text(1.1,0.9,'mean = {:.2f}'.format(mean_kf_train_accuracies),\n",
    "           horizontalalignment='center', verticalalignment='center', transform=ax[0].transAxes)\n",
    "ax[0].text(1.1,0.8,'std = {:.2f}'.format(std_kf_train_accuracies),\n",
    "           horizontalalignment='center', verticalalignment='center', transform=ax[0].transAxes)\n",
    "ax[0].set_ylabel('training accuracy')\n",
    "\n",
    "ax[1].bar(np.arange(10)+1, kf_test_accuracies)\n",
    "mean_kf_test_accuracies = np.mean(kf_test_accuracies)\n",
    "std_kf_test_accuracies = np.std(kf_test_accuracies)\n",
    "ax[1].axhline(mean_kf_test_accuracies, c='C7')\n",
    "ax[1].axhline(mean_kf_test_accuracies+std_kf_test_accuracies, c='C7', ls='--')\n",
    "ax[1].axhline(mean_kf_test_accuracies-std_kf_test_accuracies, c='C7', ls='--')\n",
    "ax[1].text(1.1,0.9,'mean = {:.2f}'.format(mean_kf_test_accuracies),\n",
    "           horizontalalignment='center', verticalalignment='center', transform=ax[1].transAxes)\n",
    "ax[1].text(1.1,0.8,'std = {:.2f}'.format(std_kf_test_accuracies),\n",
    "           horizontalalignment='center', verticalalignment='center', transform=ax[1].transAxes)\n",
    "ax[1].set_ylabel('testing accuracy')\n",
    "ax[1].set_xlabel('fold')\n",
    "ax[1].set_xticks(np.arange(10)+1)\n",
    "\n",
    "plt.show(fig)"
   ]
  },
  {
   "cell_type": "markdown",
   "metadata": {},
   "source": [
    "> <font color='red'>I was a little confused by what this question was asking... above, I split the training data into 10 folds, and for each of the iterations in the cross-validation I fit a new decision tree to 9 of these folds. This created 10 decision trees, which perfectly predicted the training folds on each iteration, but did variably well for the testing fold on each iteration. Therefore I take \"the best perfoming decision tree\" to be the one that achieved the highest accuracy on its testing fold (0.79), which in this case ends up being fold 8. Now I use that tree to predict values on the held-out (testing) data:</font>"
   ]
  },
  {
   "cell_type": "code",
   "execution_count": 16,
   "metadata": {},
   "outputs": [
    {
     "name": "stdout",
     "output_type": "stream",
     "text": [
      "accuracy on held-out data = 0.75\n"
     ]
    }
   ],
   "source": [
    "# fit the tree on fold 8\n",
    "clf = tree.DecisionTreeClassifier()\n",
    "clf = clf.fit(X_train[kf_train_inds[7]], Y_train[kf_train_inds[7]])\n",
    "\n",
    "# predict on the held-out data\n",
    "Y_test_predicted = clf.predict(X_test)\n",
    "\n",
    "# accuracy\n",
    "accuracy = compute_accuracy(Y_test_predicted, Y_test)\n",
    "print('accuracy on held-out data = {:.2f}'.format(accuracy))"
   ]
  },
  {
   "cell_type": "markdown",
   "metadata": {},
   "source": [
    "> <font color='red'>As we can see, the model does worse on the held-out test data compared to the testing fold. Now plot that tree (only showing to a depth of 3):</font>"
   ]
  },
  {
   "cell_type": "code",
   "execution_count": 17,
   "metadata": {},
   "outputs": [
    {
     "data": {
      "image/svg+xml": [
       "<?xml version=\"1.0\" encoding=\"UTF-8\" standalone=\"no\"?>\n",
       "<!DOCTYPE svg PUBLIC \"-//W3C//DTD SVG 1.1//EN\"\n",
       " \"http://www.w3.org/Graphics/SVG/1.1/DTD/svg11.dtd\">\n",
       "<!-- Generated by graphviz version 2.40.1 (20161225.0304)\n",
       " -->\n",
       "<!-- Title: Tree Pages: 1 -->\n",
       "<svg width=\"1090pt\" height=\"520pt\"\n",
       " viewBox=\"0.00 0.00 1089.50 520.00\" xmlns=\"http://www.w3.org/2000/svg\" xmlns:xlink=\"http://www.w3.org/1999/xlink\">\n",
       "<g id=\"graph0\" class=\"graph\" transform=\"scale(1 1) rotate(0) translate(4 516)\">\n",
       "<title>Tree</title>\n",
       "<polygon fill=\"#ffffff\" stroke=\"transparent\" points=\"-4,4 -4,-516 1085.5,-516 1085.5,4 -4,4\"/>\n",
       "<!-- 0 -->\n",
       "<g id=\"node1\" class=\"node\">\n",
       "<title>0</title>\n",
       "<path fill=\"#e58139\" fill-opacity=\"0.278431\" stroke=\"#000000\" d=\"M594.5,-512C594.5,-512 490.5,-512 490.5,-512 484.5,-512 478.5,-506 478.5,-500 478.5,-500 478.5,-441 478.5,-441 478.5,-435 484.5,-429 490.5,-429 490.5,-429 594.5,-429 594.5,-429 600.5,-429 606.5,-435 606.5,-441 606.5,-441 606.5,-500 606.5,-500 606.5,-506 600.5,-512 594.5,-512\"/>\n",
       "<text text-anchor=\"start\" x=\"505\" y=\"-496.8\" font-family=\"Helvetica,sans-Serif\" font-size=\"14.00\" fill=\"#000000\">Sex ≤ 0.309</text>\n",
       "<text text-anchor=\"start\" x=\"506\" y=\"-481.8\" font-family=\"Helvetica,sans-Serif\" font-size=\"14.00\" fill=\"#000000\">gini = 0.487</text>\n",
       "<text text-anchor=\"start\" x=\"496.5\" y=\"-466.8\" font-family=\"Helvetica,sans-Serif\" font-size=\"14.00\" fill=\"#000000\">samples = 430</text>\n",
       "<text text-anchor=\"start\" x=\"486.5\" y=\"-451.8\" font-family=\"Helvetica,sans-Serif\" font-size=\"14.00\" fill=\"#000000\">value = [250, 180]</text>\n",
       "<text text-anchor=\"start\" x=\"513.5\" y=\"-436.8\" font-family=\"Helvetica,sans-Serif\" font-size=\"14.00\" fill=\"#000000\">class = S</text>\n",
       "</g>\n",
       "<!-- 1 -->\n",
       "<g id=\"node2\" class=\"node\">\n",
       "<title>1</title>\n",
       "<path fill=\"#e58139\" fill-opacity=\"0.678431\" stroke=\"#000000\" d=\"M436.5,-393C436.5,-393 340.5,-393 340.5,-393 334.5,-393 328.5,-387 328.5,-381 328.5,-381 328.5,-322 328.5,-322 328.5,-316 334.5,-310 340.5,-310 340.5,-310 436.5,-310 436.5,-310 442.5,-310 448.5,-316 448.5,-322 448.5,-322 448.5,-381 448.5,-381 448.5,-387 442.5,-393 436.5,-393\"/>\n",
       "<text text-anchor=\"start\" x=\"348\" y=\"-377.8\" font-family=\"Helvetica,sans-Serif\" font-size=\"14.00\" fill=\"#000000\">Age ≤ &#45;1.081</text>\n",
       "<text text-anchor=\"start\" x=\"352\" y=\"-362.8\" font-family=\"Helvetica,sans-Serif\" font-size=\"14.00\" fill=\"#000000\">gini = 0.369</text>\n",
       "<text text-anchor=\"start\" x=\"342.5\" y=\"-347.8\" font-family=\"Helvetica,sans-Serif\" font-size=\"14.00\" fill=\"#000000\">samples = 287</text>\n",
       "<text text-anchor=\"start\" x=\"336.5\" y=\"-332.8\" font-family=\"Helvetica,sans-Serif\" font-size=\"14.00\" fill=\"#000000\">value = [217, 70]</text>\n",
       "<text text-anchor=\"start\" x=\"359.5\" y=\"-317.8\" font-family=\"Helvetica,sans-Serif\" font-size=\"14.00\" fill=\"#000000\">class = S</text>\n",
       "</g>\n",
       "<!-- 0&#45;&gt;1 -->\n",
       "<g id=\"edge1\" class=\"edge\">\n",
       "<title>0&#45;&gt;1</title>\n",
       "<path fill=\"none\" stroke=\"#000000\" d=\"M488.6383,-428.8796C476.3291,-419.368 463.1503,-409.1843 450.5296,-399.432\"/>\n",
       "<polygon fill=\"#000000\" stroke=\"#000000\" points=\"452.3843,-396.4419 442.3313,-393.0969 448.1041,-401.9809 452.3843,-396.4419\"/>\n",
       "<text text-anchor=\"middle\" x=\"445.5104\" y=\"-414.194\" font-family=\"Helvetica,sans-Serif\" font-size=\"14.00\" fill=\"#000000\">True</text>\n",
       "</g>\n",
       "<!-- 130 -->\n",
       "<g id=\"node15\" class=\"node\">\n",
       "<title>130</title>\n",
       "<path fill=\"#399de5\" fill-opacity=\"0.701961\" stroke=\"#000000\" d=\"M728.5,-393C728.5,-393 632.5,-393 632.5,-393 626.5,-393 620.5,-387 620.5,-381 620.5,-381 620.5,-322 620.5,-322 620.5,-316 626.5,-310 632.5,-310 632.5,-310 728.5,-310 728.5,-310 734.5,-310 740.5,-316 740.5,-322 740.5,-322 740.5,-381 740.5,-381 740.5,-387 734.5,-393 728.5,-393\"/>\n",
       "<text text-anchor=\"start\" x=\"634.5\" y=\"-377.8\" font-family=\"Helvetica,sans-Serif\" font-size=\"14.00\" fill=\"#000000\">Pclass ≤ 0.229</text>\n",
       "<text text-anchor=\"start\" x=\"644\" y=\"-362.8\" font-family=\"Helvetica,sans-Serif\" font-size=\"14.00\" fill=\"#000000\">gini = 0.355</text>\n",
       "<text text-anchor=\"start\" x=\"634.5\" y=\"-347.8\" font-family=\"Helvetica,sans-Serif\" font-size=\"14.00\" fill=\"#000000\">samples = 143</text>\n",
       "<text text-anchor=\"start\" x=\"628.5\" y=\"-332.8\" font-family=\"Helvetica,sans-Serif\" font-size=\"14.00\" fill=\"#000000\">value = [33, 110]</text>\n",
       "<text text-anchor=\"start\" x=\"652.5\" y=\"-317.8\" font-family=\"Helvetica,sans-Serif\" font-size=\"14.00\" fill=\"#000000\">class = u</text>\n",
       "</g>\n",
       "<!-- 0&#45;&gt;130 -->\n",
       "<g id=\"edge14\" class=\"edge\">\n",
       "<title>0&#45;&gt;130</title>\n",
       "<path fill=\"none\" stroke=\"#000000\" d=\"M590.7657,-428.8796C601.6278,-419.513 613.2456,-409.4948 624.3973,-399.8784\"/>\n",
       "<polygon fill=\"#000000\" stroke=\"#000000\" points=\"626.7408,-402.4792 632.0283,-393.2981 622.1694,-397.178 626.7408,-402.4792\"/>\n",
       "<text text-anchor=\"middle\" x=\"630.1851\" y=\"-414.53\" font-family=\"Helvetica,sans-Serif\" font-size=\"14.00\" fill=\"#000000\">False</text>\n",
       "</g>\n",
       "<!-- 2 -->\n",
       "<g id=\"node3\" class=\"node\">\n",
       "<title>2</title>\n",
       "<path fill=\"#399de5\" fill-opacity=\"0.498039\" stroke=\"#000000\" d=\"M212,-274C212,-274 131,-274 131,-274 125,-274 119,-268 119,-262 119,-262 119,-203 119,-203 119,-197 125,-191 131,-191 131,-191 212,-191 212,-191 218,-191 224,-197 224,-203 224,-203 224,-262 224,-262 224,-268 218,-274 212,-274\"/>\n",
       "<text text-anchor=\"start\" x=\"127.5\" y=\"-258.8\" font-family=\"Helvetica,sans-Serif\" font-size=\"14.00\" fill=\"#000000\">SibSp ≤ 1.794</text>\n",
       "<text text-anchor=\"start\" x=\"135\" y=\"-243.8\" font-family=\"Helvetica,sans-Serif\" font-size=\"14.00\" fill=\"#000000\">gini = 0.444</text>\n",
       "<text text-anchor=\"start\" x=\"129.5\" y=\"-228.8\" font-family=\"Helvetica,sans-Serif\" font-size=\"14.00\" fill=\"#000000\">samples = 24</text>\n",
       "<text text-anchor=\"start\" x=\"127\" y=\"-213.8\" font-family=\"Helvetica,sans-Serif\" font-size=\"14.00\" fill=\"#000000\">value = [8, 16]</text>\n",
       "<text text-anchor=\"start\" x=\"143.5\" y=\"-198.8\" font-family=\"Helvetica,sans-Serif\" font-size=\"14.00\" fill=\"#000000\">class = u</text>\n",
       "</g>\n",
       "<!-- 1&#45;&gt;2 -->\n",
       "<g id=\"edge2\" class=\"edge\">\n",
       "<title>1&#45;&gt;2</title>\n",
       "<path fill=\"none\" stroke=\"#000000\" d=\"M328.3416,-318.5099C298.6735,-302.2403 262.944,-282.6467 233.0853,-266.2726\"/>\n",
       "<polygon fill=\"#000000\" stroke=\"#000000\" points=\"234.4715,-263.0411 224.0205,-261.3015 231.1057,-269.1788 234.4715,-263.0411\"/>\n",
       "</g>\n",
       "<!-- 9 -->\n",
       "<g id=\"node8\" class=\"node\">\n",
       "<title>9</title>\n",
       "<path fill=\"#e58139\" fill-opacity=\"0.741176\" stroke=\"#000000\" d=\"M436.5,-274C436.5,-274 340.5,-274 340.5,-274 334.5,-274 328.5,-268 328.5,-262 328.5,-262 328.5,-203 328.5,-203 328.5,-197 334.5,-191 340.5,-191 340.5,-191 436.5,-191 436.5,-191 442.5,-191 448.5,-197 448.5,-203 448.5,-203 448.5,-262 448.5,-262 448.5,-268 442.5,-274 436.5,-274\"/>\n",
       "<text text-anchor=\"start\" x=\"340\" y=\"-258.8\" font-family=\"Helvetica,sans-Serif\" font-size=\"14.00\" fill=\"#000000\">Pclass ≤ &#45;0.968</text>\n",
       "<text text-anchor=\"start\" x=\"352\" y=\"-243.8\" font-family=\"Helvetica,sans-Serif\" font-size=\"14.00\" fill=\"#000000\">gini = 0.326</text>\n",
       "<text text-anchor=\"start\" x=\"342.5\" y=\"-228.8\" font-family=\"Helvetica,sans-Serif\" font-size=\"14.00\" fill=\"#000000\">samples = 263</text>\n",
       "<text text-anchor=\"start\" x=\"336.5\" y=\"-213.8\" font-family=\"Helvetica,sans-Serif\" font-size=\"14.00\" fill=\"#000000\">value = [209, 54]</text>\n",
       "<text text-anchor=\"start\" x=\"359.5\" y=\"-198.8\" font-family=\"Helvetica,sans-Serif\" font-size=\"14.00\" fill=\"#000000\">class = S</text>\n",
       "</g>\n",
       "<!-- 1&#45;&gt;9 -->\n",
       "<g id=\"edge7\" class=\"edge\">\n",
       "<title>1&#45;&gt;9</title>\n",
       "<path fill=\"none\" stroke=\"#000000\" d=\"M388.5,-309.8796C388.5,-301.6838 388.5,-292.9891 388.5,-284.5013\"/>\n",
       "<polygon fill=\"#000000\" stroke=\"#000000\" points=\"392.0001,-284.298 388.5,-274.2981 385.0001,-284.2981 392.0001,-284.298\"/>\n",
       "</g>\n",
       "<!-- 3 -->\n",
       "<g id=\"node4\" class=\"node\">\n",
       "<title>3</title>\n",
       "<path fill=\"#399de5\" stroke=\"#000000\" d=\"M93,-147.5C93,-147.5 12,-147.5 12,-147.5 6,-147.5 0,-141.5 0,-135.5 0,-135.5 0,-91.5 0,-91.5 0,-85.5 6,-79.5 12,-79.5 12,-79.5 93,-79.5 93,-79.5 99,-79.5 105,-85.5 105,-91.5 105,-91.5 105,-135.5 105,-135.5 105,-141.5 99,-147.5 93,-147.5\"/>\n",
       "<text text-anchor=\"start\" x=\"23.5\" y=\"-132.3\" font-family=\"Helvetica,sans-Serif\" font-size=\"14.00\" fill=\"#000000\">gini = 0.0</text>\n",
       "<text text-anchor=\"start\" x=\"10.5\" y=\"-117.3\" font-family=\"Helvetica,sans-Serif\" font-size=\"14.00\" fill=\"#000000\">samples = 15</text>\n",
       "<text text-anchor=\"start\" x=\"8\" y=\"-102.3\" font-family=\"Helvetica,sans-Serif\" font-size=\"14.00\" fill=\"#000000\">value = [0, 15]</text>\n",
       "<text text-anchor=\"start\" x=\"24.5\" y=\"-87.3\" font-family=\"Helvetica,sans-Serif\" font-size=\"14.00\" fill=\"#000000\">class = u</text>\n",
       "</g>\n",
       "<!-- 2&#45;&gt;3 -->\n",
       "<g id=\"edge3\" class=\"edge\">\n",
       "<title>2&#45;&gt;3</title>\n",
       "<path fill=\"none\" stroke=\"#000000\" d=\"M129.8796,-190.8796C118.2237,-179.2237 105.5587,-166.5587 93.9148,-154.9148\"/>\n",
       "<polygon fill=\"#000000\" stroke=\"#000000\" points=\"96.3609,-152.4111 86.8149,-147.8149 91.4111,-157.3609 96.3609,-152.4111\"/>\n",
       "</g>\n",
       "<!-- 4 -->\n",
       "<g id=\"node5\" class=\"node\">\n",
       "<title>4</title>\n",
       "<path fill=\"#e58139\" fill-opacity=\"0.874510\" stroke=\"#000000\" d=\"M208,-155C208,-155 135,-155 135,-155 129,-155 123,-149 123,-143 123,-143 123,-84 123,-84 123,-78 129,-72 135,-72 135,-72 208,-72 208,-72 214,-72 220,-78 220,-84 220,-84 220,-143 220,-143 220,-149 214,-155 208,-155\"/>\n",
       "<text text-anchor=\"start\" x=\"131\" y=\"-139.8\" font-family=\"Helvetica,sans-Serif\" font-size=\"14.00\" fill=\"#000000\">Age ≤ &#45;1.805</text>\n",
       "<text text-anchor=\"start\" x=\"135\" y=\"-124.8\" font-family=\"Helvetica,sans-Serif\" font-size=\"14.00\" fill=\"#000000\">gini = 0.198</text>\n",
       "<text text-anchor=\"start\" x=\"133.5\" y=\"-109.8\" font-family=\"Helvetica,sans-Serif\" font-size=\"14.00\" fill=\"#000000\">samples = 9</text>\n",
       "<text text-anchor=\"start\" x=\"131\" y=\"-94.8\" font-family=\"Helvetica,sans-Serif\" font-size=\"14.00\" fill=\"#000000\">value = [8, 1]</text>\n",
       "<text text-anchor=\"start\" x=\"142.5\" y=\"-79.8\" font-family=\"Helvetica,sans-Serif\" font-size=\"14.00\" fill=\"#000000\">class = S</text>\n",
       "</g>\n",
       "<!-- 2&#45;&gt;4 -->\n",
       "<g id=\"edge4\" class=\"edge\">\n",
       "<title>2&#45;&gt;4</title>\n",
       "<path fill=\"none\" stroke=\"#000000\" d=\"M171.5,-190.8796C171.5,-182.6838 171.5,-173.9891 171.5,-165.5013\"/>\n",
       "<polygon fill=\"#000000\" stroke=\"#000000\" points=\"175.0001,-165.298 171.5,-155.2981 168.0001,-165.2981 175.0001,-165.298\"/>\n",
       "</g>\n",
       "<!-- 5 -->\n",
       "<g id=\"node6\" class=\"node\">\n",
       "<title>5</title>\n",
       "<path fill=\"#c0c0c0\" stroke=\"#000000\" d=\"M131.5,-36C131.5,-36 101.5,-36 101.5,-36 95.5,-36 89.5,-30 89.5,-24 89.5,-24 89.5,-12 89.5,-12 89.5,-6 95.5,0 101.5,0 101.5,0 131.5,0 131.5,0 137.5,0 143.5,-6 143.5,-12 143.5,-12 143.5,-24 143.5,-24 143.5,-30 137.5,-36 131.5,-36\"/>\n",
       "<text text-anchor=\"middle\" x=\"116.5\" y=\"-14.3\" font-family=\"Helvetica,sans-Serif\" font-size=\"14.00\" fill=\"#000000\">(...)</text>\n",
       "</g>\n",
       "<!-- 4&#45;&gt;5 -->\n",
       "<g id=\"edge5\" class=\"edge\">\n",
       "<title>4&#45;&gt;5</title>\n",
       "<path fill=\"none\" stroke=\"#000000\" d=\"M147.5362,-71.8901C142.3201,-62.8331 136.9315,-53.4765 132.1378,-45.1528\"/>\n",
       "<polygon fill=\"#000000\" stroke=\"#000000\" points=\"135.0429,-43.184 127.0192,-36.2651 128.9769,-46.6775 135.0429,-43.184\"/>\n",
       "</g>\n",
       "<!-- 8 -->\n",
       "<g id=\"node7\" class=\"node\">\n",
       "<title>8</title>\n",
       "<path fill=\"#c0c0c0\" stroke=\"#000000\" d=\"M203.5,-36C203.5,-36 173.5,-36 173.5,-36 167.5,-36 161.5,-30 161.5,-24 161.5,-24 161.5,-12 161.5,-12 161.5,-6 167.5,0 173.5,0 173.5,0 203.5,0 203.5,0 209.5,0 215.5,-6 215.5,-12 215.5,-12 215.5,-24 215.5,-24 215.5,-30 209.5,-36 203.5,-36\"/>\n",
       "<text text-anchor=\"middle\" x=\"188.5\" y=\"-14.3\" font-family=\"Helvetica,sans-Serif\" font-size=\"14.00\" fill=\"#000000\">(...)</text>\n",
       "</g>\n",
       "<!-- 4&#45;&gt;8 -->\n",
       "<g id=\"edge6\" class=\"edge\">\n",
       "<title>4&#45;&gt;8</title>\n",
       "<path fill=\"none\" stroke=\"#000000\" d=\"M178.907,-71.8901C180.4499,-63.2227 182.0416,-54.2808 183.4743,-46.2325\"/>\n",
       "<polygon fill=\"#000000\" stroke=\"#000000\" points=\"186.9418,-46.7238 185.2486,-36.2651 180.0502,-45.4969 186.9418,-46.7238\"/>\n",
       "</g>\n",
       "<!-- 10 -->\n",
       "<g id=\"node9\" class=\"node\">\n",
       "<title>10</title>\n",
       "<path fill=\"#e58139\" fill-opacity=\"0.305882\" stroke=\"#000000\" d=\"M372.5,-155C372.5,-155 250.5,-155 250.5,-155 244.5,-155 238.5,-149 238.5,-143 238.5,-143 238.5,-84 238.5,-84 238.5,-78 244.5,-72 250.5,-72 250.5,-72 372.5,-72 372.5,-72 378.5,-72 384.5,-78 384.5,-84 384.5,-84 384.5,-143 384.5,-143 384.5,-149 378.5,-155 372.5,-155\"/>\n",
       "<text text-anchor=\"start\" x=\"246.5\" y=\"-139.8\" font-family=\"Helvetica,sans-Serif\" font-size=\"14.00\" fill=\"#000000\">PassengerId ≤ 0.441</text>\n",
       "<text text-anchor=\"start\" x=\"275\" y=\"-124.8\" font-family=\"Helvetica,sans-Serif\" font-size=\"14.00\" fill=\"#000000\">gini = 0.484</text>\n",
       "<text text-anchor=\"start\" x=\"269.5\" y=\"-109.8\" font-family=\"Helvetica,sans-Serif\" font-size=\"14.00\" fill=\"#000000\">samples = 61</text>\n",
       "<text text-anchor=\"start\" x=\"263\" y=\"-94.8\" font-family=\"Helvetica,sans-Serif\" font-size=\"14.00\" fill=\"#000000\">value = [36, 25]</text>\n",
       "<text text-anchor=\"start\" x=\"282.5\" y=\"-79.8\" font-family=\"Helvetica,sans-Serif\" font-size=\"14.00\" fill=\"#000000\">class = S</text>\n",
       "</g>\n",
       "<!-- 9&#45;&gt;10 -->\n",
       "<g id=\"edge8\" class=\"edge\">\n",
       "<title>9&#45;&gt;10</title>\n",
       "<path fill=\"none\" stroke=\"#000000\" d=\"M361.5691,-190.8796C355.9163,-182.1434 349.8967,-172.8404 344.0634,-163.8253\"/>\n",
       "<polygon fill=\"#000000\" stroke=\"#000000\" points=\"346.9169,-161.7924 338.5458,-155.2981 341.0399,-165.5952 346.9169,-161.7924\"/>\n",
       "</g>\n",
       "<!-- 49 -->\n",
       "<g id=\"node12\" class=\"node\">\n",
       "<title>49</title>\n",
       "<path fill=\"#e58139\" fill-opacity=\"0.831373\" stroke=\"#000000\" d=\"M536.5,-155C536.5,-155 414.5,-155 414.5,-155 408.5,-155 402.5,-149 402.5,-143 402.5,-143 402.5,-84 402.5,-84 402.5,-78 408.5,-72 414.5,-72 414.5,-72 536.5,-72 536.5,-72 542.5,-72 548.5,-78 548.5,-84 548.5,-84 548.5,-143 548.5,-143 548.5,-149 542.5,-155 536.5,-155\"/>\n",
       "<text text-anchor=\"start\" x=\"410.5\" y=\"-139.8\" font-family=\"Helvetica,sans-Serif\" font-size=\"14.00\" fill=\"#000000\">PassengerId ≤ 0.527</text>\n",
       "<text text-anchor=\"start\" x=\"439\" y=\"-124.8\" font-family=\"Helvetica,sans-Serif\" font-size=\"14.00\" fill=\"#000000\">gini = 0.246</text>\n",
       "<text text-anchor=\"start\" x=\"429.5\" y=\"-109.8\" font-family=\"Helvetica,sans-Serif\" font-size=\"14.00\" fill=\"#000000\">samples = 202</text>\n",
       "<text text-anchor=\"start\" x=\"423.5\" y=\"-94.8\" font-family=\"Helvetica,sans-Serif\" font-size=\"14.00\" fill=\"#000000\">value = [173, 29]</text>\n",
       "<text text-anchor=\"start\" x=\"446.5\" y=\"-79.8\" font-family=\"Helvetica,sans-Serif\" font-size=\"14.00\" fill=\"#000000\">class = S</text>\n",
       "</g>\n",
       "<!-- 9&#45;&gt;49 -->\n",
       "<g id=\"edge11\" class=\"edge\">\n",
       "<title>9&#45;&gt;49</title>\n",
       "<path fill=\"none\" stroke=\"#000000\" d=\"M418.9284,-190.8796C425.3811,-182.0534 432.257,-172.6485 438.9113,-163.5466\"/>\n",
       "<polygon fill=\"#000000\" stroke=\"#000000\" points=\"441.8653,-165.4364 444.9417,-155.2981 436.2144,-161.3051 441.8653,-165.4364\"/>\n",
       "</g>\n",
       "<!-- 11 -->\n",
       "<g id=\"node10\" class=\"node\">\n",
       "<title>11</title>\n",
       "<path fill=\"#c0c0c0\" stroke=\"#000000\" d=\"M309.5,-36C309.5,-36 279.5,-36 279.5,-36 273.5,-36 267.5,-30 267.5,-24 267.5,-24 267.5,-12 267.5,-12 267.5,-6 273.5,0 279.5,0 279.5,0 309.5,0 309.5,0 315.5,0 321.5,-6 321.5,-12 321.5,-12 321.5,-24 321.5,-24 321.5,-30 315.5,-36 309.5,-36\"/>\n",
       "<text text-anchor=\"middle\" x=\"294.5\" y=\"-14.3\" font-family=\"Helvetica,sans-Serif\" font-size=\"14.00\" fill=\"#000000\">(...)</text>\n",
       "</g>\n",
       "<!-- 10&#45;&gt;11 -->\n",
       "<g id=\"edge9\" class=\"edge\">\n",
       "<title>10&#45;&gt;11</title>\n",
       "<path fill=\"none\" stroke=\"#000000\" d=\"M304.093,-71.8901C302.5501,-63.2227 300.9584,-54.2808 299.5257,-46.2325\"/>\n",
       "<polygon fill=\"#000000\" stroke=\"#000000\" points=\"302.9498,-45.4969 297.7514,-36.2651 296.0582,-46.7238 302.9498,-45.4969\"/>\n",
       "</g>\n",
       "<!-- 30 -->\n",
       "<g id=\"node11\" class=\"node\">\n",
       "<title>30</title>\n",
       "<path fill=\"#c0c0c0\" stroke=\"#000000\" d=\"M381.5,-36C381.5,-36 351.5,-36 351.5,-36 345.5,-36 339.5,-30 339.5,-24 339.5,-24 339.5,-12 339.5,-12 339.5,-6 345.5,0 351.5,0 351.5,0 381.5,0 381.5,0 387.5,0 393.5,-6 393.5,-12 393.5,-12 393.5,-24 393.5,-24 393.5,-30 387.5,-36 381.5,-36\"/>\n",
       "<text text-anchor=\"middle\" x=\"366.5\" y=\"-14.3\" font-family=\"Helvetica,sans-Serif\" font-size=\"14.00\" fill=\"#000000\">(...)</text>\n",
       "</g>\n",
       "<!-- 10&#45;&gt;30 -->\n",
       "<g id=\"edge10\" class=\"edge\">\n",
       "<title>10&#45;&gt;30</title>\n",
       "<path fill=\"none\" stroke=\"#000000\" d=\"M335.4638,-71.8901C340.6799,-62.8331 346.0685,-53.4765 350.8622,-45.1528\"/>\n",
       "<polygon fill=\"#000000\" stroke=\"#000000\" points=\"354.0231,-46.6775 355.9808,-36.2651 347.9571,-43.184 354.0231,-46.6775\"/>\n",
       "</g>\n",
       "<!-- 50 -->\n",
       "<g id=\"node13\" class=\"node\">\n",
       "<title>50</title>\n",
       "<path fill=\"#c0c0c0\" stroke=\"#000000\" d=\"M480.5,-36C480.5,-36 450.5,-36 450.5,-36 444.5,-36 438.5,-30 438.5,-24 438.5,-24 438.5,-12 438.5,-12 438.5,-6 444.5,0 450.5,0 450.5,0 480.5,0 480.5,0 486.5,0 492.5,-6 492.5,-12 492.5,-12 492.5,-24 492.5,-24 492.5,-30 486.5,-36 480.5,-36\"/>\n",
       "<text text-anchor=\"middle\" x=\"465.5\" y=\"-14.3\" font-family=\"Helvetica,sans-Serif\" font-size=\"14.00\" fill=\"#000000\">(...)</text>\n",
       "</g>\n",
       "<!-- 49&#45;&gt;50 -->\n",
       "<g id=\"edge12\" class=\"edge\">\n",
       "<title>49&#45;&gt;50</title>\n",
       "<path fill=\"none\" stroke=\"#000000\" d=\"M471.1429,-71.8901C470.2354,-63.2227 469.299,-54.2808 468.4563,-46.2325\"/>\n",
       "<polygon fill=\"#000000\" stroke=\"#000000\" points=\"471.9351,-45.8462 467.4126,-36.2651 464.9731,-46.5753 471.9351,-45.8462\"/>\n",
       "</g>\n",
       "<!-- 109 -->\n",
       "<g id=\"node14\" class=\"node\">\n",
       "<title>109</title>\n",
       "<path fill=\"#c0c0c0\" stroke=\"#000000\" d=\"M552.5,-36C552.5,-36 522.5,-36 522.5,-36 516.5,-36 510.5,-30 510.5,-24 510.5,-24 510.5,-12 510.5,-12 510.5,-6 516.5,0 522.5,0 522.5,0 552.5,0 552.5,0 558.5,0 564.5,-6 564.5,-12 564.5,-12 564.5,-24 564.5,-24 564.5,-30 558.5,-36 552.5,-36\"/>\n",
       "<text text-anchor=\"middle\" x=\"537.5\" y=\"-14.3\" font-family=\"Helvetica,sans-Serif\" font-size=\"14.00\" fill=\"#000000\">(...)</text>\n",
       "</g>\n",
       "<!-- 49&#45;&gt;109 -->\n",
       "<g id=\"edge13\" class=\"edge\">\n",
       "<title>49&#45;&gt;109</title>\n",
       "<path fill=\"none\" stroke=\"#000000\" d=\"M502.5137,-71.8901C508.4569,-62.7357 514.5988,-53.2752 520.0461,-44.8847\"/>\n",
       "<polygon fill=\"#000000\" stroke=\"#000000\" points=\"523.1323,-46.5584 525.642,-36.2651 517.2611,-42.7467 523.1323,-46.5584\"/>\n",
       "</g>\n",
       "<!-- 131 -->\n",
       "<g id=\"node16\" class=\"node\">\n",
       "<title>131</title>\n",
       "<path fill=\"#399de5\" fill-opacity=\"0.952941\" stroke=\"#000000\" d=\"M721,-274C721,-274 640,-274 640,-274 634,-274 628,-268 628,-262 628,-262 628,-203 628,-203 628,-197 634,-191 640,-191 640,-191 721,-191 721,-191 727,-191 733,-197 733,-203 733,-203 733,-262 733,-262 733,-268 727,-274 721,-274\"/>\n",
       "<text text-anchor=\"start\" x=\"638.5\" y=\"-258.8\" font-family=\"Helvetica,sans-Serif\" font-size=\"14.00\" fill=\"#000000\">Fare ≤ &#45;0.057</text>\n",
       "<text text-anchor=\"start\" x=\"644\" y=\"-243.8\" font-family=\"Helvetica,sans-Serif\" font-size=\"14.00\" fill=\"#000000\">gini = 0.085</text>\n",
       "<text text-anchor=\"start\" x=\"638.5\" y=\"-228.8\" font-family=\"Helvetica,sans-Serif\" font-size=\"14.00\" fill=\"#000000\">samples = 90</text>\n",
       "<text text-anchor=\"start\" x=\"636\" y=\"-213.8\" font-family=\"Helvetica,sans-Serif\" font-size=\"14.00\" fill=\"#000000\">value = [4, 86]</text>\n",
       "<text text-anchor=\"start\" x=\"652.5\" y=\"-198.8\" font-family=\"Helvetica,sans-Serif\" font-size=\"14.00\" fill=\"#000000\">class = u</text>\n",
       "</g>\n",
       "<!-- 130&#45;&gt;131 -->\n",
       "<g id=\"edge15\" class=\"edge\">\n",
       "<title>130&#45;&gt;131</title>\n",
       "<path fill=\"none\" stroke=\"#000000\" d=\"M680.5,-309.8796C680.5,-301.6838 680.5,-292.9891 680.5,-284.5013\"/>\n",
       "<polygon fill=\"#000000\" stroke=\"#000000\" points=\"684.0001,-284.298 680.5,-274.2981 677.0001,-284.2981 684.0001,-284.298\"/>\n",
       "</g>\n",
       "<!-- 148 -->\n",
       "<g id=\"node21\" class=\"node\">\n",
       "<title>148</title>\n",
       "<path fill=\"#e58139\" fill-opacity=\"0.172549\" stroke=\"#000000\" d=\"M914,-274C914,-274 825,-274 825,-274 819,-274 813,-268 813,-262 813,-262 813,-203 813,-203 813,-197 819,-191 825,-191 825,-191 914,-191 914,-191 920,-191 926,-197 926,-203 926,-203 926,-262 926,-262 926,-268 920,-274 914,-274\"/>\n",
       "<text text-anchor=\"start\" x=\"827.5\" y=\"-258.8\" font-family=\"Helvetica,sans-Serif\" font-size=\"14.00\" fill=\"#000000\">Fare ≤ &#45;0.232</text>\n",
       "<text text-anchor=\"start\" x=\"833\" y=\"-243.8\" font-family=\"Helvetica,sans-Serif\" font-size=\"14.00\" fill=\"#000000\">gini = 0.496</text>\n",
       "<text text-anchor=\"start\" x=\"827.5\" y=\"-228.8\" font-family=\"Helvetica,sans-Serif\" font-size=\"14.00\" fill=\"#000000\">samples = 53</text>\n",
       "<text text-anchor=\"start\" x=\"821\" y=\"-213.8\" font-family=\"Helvetica,sans-Serif\" font-size=\"14.00\" fill=\"#000000\">value = [29, 24]</text>\n",
       "<text text-anchor=\"start\" x=\"840.5\" y=\"-198.8\" font-family=\"Helvetica,sans-Serif\" font-size=\"14.00\" fill=\"#000000\">class = S</text>\n",
       "</g>\n",
       "<!-- 130&#45;&gt;148 -->\n",
       "<g id=\"edge20\" class=\"edge\">\n",
       "<title>130&#45;&gt;148</title>\n",
       "<path fill=\"none\" stroke=\"#000000\" d=\"M740.5605,-313.6841C760.8003,-300.9406 783.4818,-286.6596 804.112,-273.6702\"/>\n",
       "<polygon fill=\"#000000\" stroke=\"#000000\" points=\"806.2173,-276.4807 812.8148,-268.1907 802.4876,-270.5571 806.2173,-276.4807\"/>\n",
       "</g>\n",
       "<!-- 132 -->\n",
       "<g id=\"node17\" class=\"node\">\n",
       "<title>132</title>\n",
       "<path fill=\"#399de5\" fill-opacity=\"0.886275\" stroke=\"#000000\" d=\"M660,-155C660,-155 579,-155 579,-155 573,-155 567,-149 567,-143 567,-143 567,-84 567,-84 567,-78 573,-72 579,-72 579,-72 660,-72 660,-72 666,-72 672,-78 672,-84 672,-84 672,-143 672,-143 672,-149 666,-155 660,-155\"/>\n",
       "<text text-anchor=\"start\" x=\"577.5\" y=\"-139.8\" font-family=\"Helvetica,sans-Serif\" font-size=\"14.00\" fill=\"#000000\">Fare ≤ &#45;0.088</text>\n",
       "<text text-anchor=\"start\" x=\"583\" y=\"-124.8\" font-family=\"Helvetica,sans-Serif\" font-size=\"14.00\" fill=\"#000000\">gini = 0.184</text>\n",
       "<text text-anchor=\"start\" x=\"577.5\" y=\"-109.8\" font-family=\"Helvetica,sans-Serif\" font-size=\"14.00\" fill=\"#000000\">samples = 39</text>\n",
       "<text text-anchor=\"start\" x=\"575\" y=\"-94.8\" font-family=\"Helvetica,sans-Serif\" font-size=\"14.00\" fill=\"#000000\">value = [4, 35]</text>\n",
       "<text text-anchor=\"start\" x=\"591.5\" y=\"-79.8\" font-family=\"Helvetica,sans-Serif\" font-size=\"14.00\" fill=\"#000000\">class = u</text>\n",
       "</g>\n",
       "<!-- 131&#45;&gt;132 -->\n",
       "<g id=\"edge16\" class=\"edge\">\n",
       "<title>131&#45;&gt;132</title>\n",
       "<path fill=\"none\" stroke=\"#000000\" d=\"M659.1652,-190.8796C654.7793,-182.3236 650.1147,-173.2238 645.583,-164.3833\"/>\n",
       "<polygon fill=\"#000000\" stroke=\"#000000\" points=\"648.6022,-162.6004 640.9259,-155.2981 642.373,-165.7936 648.6022,-162.6004\"/>\n",
       "</g>\n",
       "<!-- 147 -->\n",
       "<g id=\"node20\" class=\"node\">\n",
       "<title>147</title>\n",
       "<path fill=\"#399de5\" stroke=\"#000000\" d=\"M783,-147.5C783,-147.5 702,-147.5 702,-147.5 696,-147.5 690,-141.5 690,-135.5 690,-135.5 690,-91.5 690,-91.5 690,-85.5 696,-79.5 702,-79.5 702,-79.5 783,-79.5 783,-79.5 789,-79.5 795,-85.5 795,-91.5 795,-91.5 795,-135.5 795,-135.5 795,-141.5 789,-147.5 783,-147.5\"/>\n",
       "<text text-anchor=\"start\" x=\"713.5\" y=\"-132.3\" font-family=\"Helvetica,sans-Serif\" font-size=\"14.00\" fill=\"#000000\">gini = 0.0</text>\n",
       "<text text-anchor=\"start\" x=\"700.5\" y=\"-117.3\" font-family=\"Helvetica,sans-Serif\" font-size=\"14.00\" fill=\"#000000\">samples = 51</text>\n",
       "<text text-anchor=\"start\" x=\"698\" y=\"-102.3\" font-family=\"Helvetica,sans-Serif\" font-size=\"14.00\" fill=\"#000000\">value = [0, 51]</text>\n",
       "<text text-anchor=\"start\" x=\"714.5\" y=\"-87.3\" font-family=\"Helvetica,sans-Serif\" font-size=\"14.00\" fill=\"#000000\">class = u</text>\n",
       "</g>\n",
       "<!-- 131&#45;&gt;147 -->\n",
       "<g id=\"edge19\" class=\"edge\">\n",
       "<title>131&#45;&gt;147</title>\n",
       "<path fill=\"none\" stroke=\"#000000\" d=\"M702.1846,-190.8796C707.9136,-179.8835 714.1106,-167.9893 719.8874,-156.9015\"/>\n",
       "<polygon fill=\"#000000\" stroke=\"#000000\" points=\"723.105,-158.3007 724.6216,-147.8149 716.897,-155.0662 723.105,-158.3007\"/>\n",
       "</g>\n",
       "<!-- 133 -->\n",
       "<g id=\"node18\" class=\"node\">\n",
       "<title>133</title>\n",
       "<path fill=\"#c0c0c0\" stroke=\"#000000\" d=\"M629.5,-36C629.5,-36 599.5,-36 599.5,-36 593.5,-36 587.5,-30 587.5,-24 587.5,-24 587.5,-12 587.5,-12 587.5,-6 593.5,0 599.5,0 599.5,0 629.5,0 629.5,0 635.5,0 641.5,-6 641.5,-12 641.5,-12 641.5,-24 641.5,-24 641.5,-30 635.5,-36 629.5,-36\"/>\n",
       "<text text-anchor=\"middle\" x=\"614.5\" y=\"-14.3\" font-family=\"Helvetica,sans-Serif\" font-size=\"14.00\" fill=\"#000000\">(...)</text>\n",
       "</g>\n",
       "<!-- 132&#45;&gt;133 -->\n",
       "<g id=\"edge17\" class=\"edge\">\n",
       "<title>132&#45;&gt;133</title>\n",
       "<path fill=\"none\" stroke=\"#000000\" d=\"M617.3215,-71.8901C616.8728,-63.3201 616.41,-54.4817 615.9924,-46.5041\"/>\n",
       "<polygon fill=\"#000000\" stroke=\"#000000\" points=\"619.4744,-46.0684 615.4563,-36.2651 612.484,-46.4345 619.4744,-46.0684\"/>\n",
       "</g>\n",
       "<!-- 146 -->\n",
       "<g id=\"node19\" class=\"node\">\n",
       "<title>146</title>\n",
       "<path fill=\"#c0c0c0\" stroke=\"#000000\" d=\"M701.5,-36C701.5,-36 671.5,-36 671.5,-36 665.5,-36 659.5,-30 659.5,-24 659.5,-24 659.5,-12 659.5,-12 659.5,-6 665.5,0 671.5,0 671.5,0 701.5,0 701.5,0 707.5,0 713.5,-6 713.5,-12 713.5,-12 713.5,-24 713.5,-24 713.5,-30 707.5,-36 701.5,-36\"/>\n",
       "<text text-anchor=\"middle\" x=\"686.5\" y=\"-14.3\" font-family=\"Helvetica,sans-Serif\" font-size=\"14.00\" fill=\"#000000\">(...)</text>\n",
       "</g>\n",
       "<!-- 132&#45;&gt;146 -->\n",
       "<g id=\"edge18\" class=\"edge\">\n",
       "<title>132&#45;&gt;146</title>\n",
       "<path fill=\"none\" stroke=\"#000000\" d=\"M648.6923,-71.8901C655.183,-62.6384 661.8932,-53.0739 667.8261,-44.6173\"/>\n",
       "<polygon fill=\"#000000\" stroke=\"#000000\" points=\"670.8077,-46.4615 673.6857,-36.2651 665.0772,-42.4412 670.8077,-46.4615\"/>\n",
       "</g>\n",
       "<!-- 149 -->\n",
       "<g id=\"node22\" class=\"node\">\n",
       "<title>149</title>\n",
       "<path fill=\"#399de5\" fill-opacity=\"0.172549\" stroke=\"#000000\" d=\"M914,-155C914,-155 825,-155 825,-155 819,-155 813,-149 813,-143 813,-143 813,-84 813,-84 813,-78 819,-72 825,-72 825,-72 914,-72 914,-72 920,-72 926,-78 926,-84 926,-84 926,-143 926,-143 926,-149 920,-155 914,-155\"/>\n",
       "<text text-anchor=\"start\" x=\"829\" y=\"-139.8\" font-family=\"Helvetica,sans-Serif\" font-size=\"14.00\" fill=\"#000000\">Age ≤ &#45;0.703</text>\n",
       "<text text-anchor=\"start\" x=\"833\" y=\"-124.8\" font-family=\"Helvetica,sans-Serif\" font-size=\"14.00\" fill=\"#000000\">gini = 0.495</text>\n",
       "<text text-anchor=\"start\" x=\"827.5\" y=\"-109.8\" font-family=\"Helvetica,sans-Serif\" font-size=\"14.00\" fill=\"#000000\">samples = 42</text>\n",
       "<text text-anchor=\"start\" x=\"821\" y=\"-94.8\" font-family=\"Helvetica,sans-Serif\" font-size=\"14.00\" fill=\"#000000\">value = [19, 23]</text>\n",
       "<text text-anchor=\"start\" x=\"841.5\" y=\"-79.8\" font-family=\"Helvetica,sans-Serif\" font-size=\"14.00\" fill=\"#000000\">class = u</text>\n",
       "</g>\n",
       "<!-- 148&#45;&gt;149 -->\n",
       "<g id=\"edge21\" class=\"edge\">\n",
       "<title>148&#45;&gt;149</title>\n",
       "<path fill=\"none\" stroke=\"#000000\" d=\"M869.5,-190.8796C869.5,-182.6838 869.5,-173.9891 869.5,-165.5013\"/>\n",
       "<polygon fill=\"#000000\" stroke=\"#000000\" points=\"873.0001,-165.298 869.5,-155.2981 866.0001,-165.2981 873.0001,-165.298\"/>\n",
       "</g>\n",
       "<!-- 180 -->\n",
       "<g id=\"node25\" class=\"node\">\n",
       "<title>180</title>\n",
       "<path fill=\"#e58139\" fill-opacity=\"0.901961\" stroke=\"#000000\" d=\"M1037,-155C1037,-155 956,-155 956,-155 950,-155 944,-149 944,-143 944,-143 944,-84 944,-84 944,-78 950,-72 956,-72 956,-72 1037,-72 1037,-72 1043,-72 1049,-78 1049,-84 1049,-84 1049,-143 1049,-143 1049,-149 1043,-155 1037,-155\"/>\n",
       "<text text-anchor=\"start\" x=\"956\" y=\"-139.8\" font-family=\"Helvetica,sans-Serif\" font-size=\"14.00\" fill=\"#000000\">Age ≤ &#45;1.495</text>\n",
       "<text text-anchor=\"start\" x=\"960\" y=\"-124.8\" font-family=\"Helvetica,sans-Serif\" font-size=\"14.00\" fill=\"#000000\">gini = 0.165</text>\n",
       "<text text-anchor=\"start\" x=\"954.5\" y=\"-109.8\" font-family=\"Helvetica,sans-Serif\" font-size=\"14.00\" fill=\"#000000\">samples = 11</text>\n",
       "<text text-anchor=\"start\" x=\"952\" y=\"-94.8\" font-family=\"Helvetica,sans-Serif\" font-size=\"14.00\" fill=\"#000000\">value = [10, 1]</text>\n",
       "<text text-anchor=\"start\" x=\"967.5\" y=\"-79.8\" font-family=\"Helvetica,sans-Serif\" font-size=\"14.00\" fill=\"#000000\">class = S</text>\n",
       "</g>\n",
       "<!-- 148&#45;&gt;180 -->\n",
       "<g id=\"edge24\" class=\"edge\">\n",
       "<title>148&#45;&gt;180</title>\n",
       "<path fill=\"none\" stroke=\"#000000\" d=\"M913.9184,-190.8796C923.8186,-181.6031 934.4009,-171.6874 944.5731,-162.1559\"/>\n",
       "<polygon fill=\"#000000\" stroke=\"#000000\" points=\"946.9879,-164.6896 951.892,-155.2981 942.2016,-159.5816 946.9879,-164.6896\"/>\n",
       "</g>\n",
       "<!-- 150 -->\n",
       "<g id=\"node23\" class=\"node\">\n",
       "<title>150</title>\n",
       "<path fill=\"#c0c0c0\" stroke=\"#000000\" d=\"M826.5,-36C826.5,-36 796.5,-36 796.5,-36 790.5,-36 784.5,-30 784.5,-24 784.5,-24 784.5,-12 784.5,-12 784.5,-6 790.5,0 796.5,0 796.5,0 826.5,0 826.5,0 832.5,0 838.5,-6 838.5,-12 838.5,-12 838.5,-24 838.5,-24 838.5,-30 832.5,-36 826.5,-36\"/>\n",
       "<text text-anchor=\"middle\" x=\"811.5\" y=\"-14.3\" font-family=\"Helvetica,sans-Serif\" font-size=\"14.00\" fill=\"#000000\">(...)</text>\n",
       "</g>\n",
       "<!-- 149&#45;&gt;150 -->\n",
       "<g id=\"edge22\" class=\"edge\">\n",
       "<title>149&#45;&gt;150</title>\n",
       "<path fill=\"none\" stroke=\"#000000\" d=\"M844.2291,-71.8901C838.6694,-62.7357 832.9237,-53.2752 827.8279,-44.8847\"/>\n",
       "<polygon fill=\"#000000\" stroke=\"#000000\" points=\"830.7755,-42.9954 822.5929,-36.2651 824.7924,-46.6291 830.7755,-42.9954\"/>\n",
       "</g>\n",
       "<!-- 163 -->\n",
       "<g id=\"node24\" class=\"node\">\n",
       "<title>163</title>\n",
       "<path fill=\"#c0c0c0\" stroke=\"#000000\" d=\"M898.5,-36C898.5,-36 868.5,-36 868.5,-36 862.5,-36 856.5,-30 856.5,-24 856.5,-24 856.5,-12 856.5,-12 856.5,-6 862.5,0 868.5,0 868.5,0 898.5,0 898.5,0 904.5,0 910.5,-6 910.5,-12 910.5,-12 910.5,-24 910.5,-24 910.5,-30 904.5,-36 898.5,-36\"/>\n",
       "<text text-anchor=\"middle\" x=\"883.5\" y=\"-14.3\" font-family=\"Helvetica,sans-Serif\" font-size=\"14.00\" fill=\"#000000\">(...)</text>\n",
       "</g>\n",
       "<!-- 149&#45;&gt;163 -->\n",
       "<g id=\"edge23\" class=\"edge\">\n",
       "<title>149&#45;&gt;163</title>\n",
       "<path fill=\"none\" stroke=\"#000000\" d=\"M875.5999,-71.8901C876.8705,-63.2227 878.1813,-54.2808 879.3612,-46.2325\"/>\n",
       "<polygon fill=\"#000000\" stroke=\"#000000\" points=\"882.8348,-46.667 880.8224,-36.2651 875.9089,-45.6517 882.8348,-46.667\"/>\n",
       "</g>\n",
       "<!-- 181 -->\n",
       "<g id=\"node26\" class=\"node\">\n",
       "<title>181</title>\n",
       "<path fill=\"#c0c0c0\" stroke=\"#000000\" d=\"M997.5,-36C997.5,-36 967.5,-36 967.5,-36 961.5,-36 955.5,-30 955.5,-24 955.5,-24 955.5,-12 955.5,-12 955.5,-6 961.5,0 967.5,0 967.5,0 997.5,0 997.5,0 1003.5,0 1009.5,-6 1009.5,-12 1009.5,-12 1009.5,-24 1009.5,-24 1009.5,-30 1003.5,-36 997.5,-36\"/>\n",
       "<text text-anchor=\"middle\" x=\"982.5\" y=\"-14.3\" font-family=\"Helvetica,sans-Serif\" font-size=\"14.00\" fill=\"#000000\">(...)</text>\n",
       "</g>\n",
       "<!-- 180&#45;&gt;181 -->\n",
       "<g id=\"edge25\" class=\"edge\">\n",
       "<title>180&#45;&gt;181</title>\n",
       "<path fill=\"none\" stroke=\"#000000\" d=\"M990.4001,-71.8901C989.1295,-63.2227 987.8187,-54.2808 986.6388,-46.2325\"/>\n",
       "<polygon fill=\"#000000\" stroke=\"#000000\" points=\"990.0911,-45.6517 985.1776,-36.2651 983.1652,-46.667 990.0911,-45.6517\"/>\n",
       "</g>\n",
       "<!-- 184 -->\n",
       "<g id=\"node27\" class=\"node\">\n",
       "<title>184</title>\n",
       "<path fill=\"#c0c0c0\" stroke=\"#000000\" d=\"M1069.5,-36C1069.5,-36 1039.5,-36 1039.5,-36 1033.5,-36 1027.5,-30 1027.5,-24 1027.5,-24 1027.5,-12 1027.5,-12 1027.5,-6 1033.5,0 1039.5,0 1039.5,0 1069.5,0 1069.5,0 1075.5,0 1081.5,-6 1081.5,-12 1081.5,-12 1081.5,-24 1081.5,-24 1081.5,-30 1075.5,-36 1069.5,-36\"/>\n",
       "<text text-anchor=\"middle\" x=\"1054.5\" y=\"-14.3\" font-family=\"Helvetica,sans-Serif\" font-size=\"14.00\" fill=\"#000000\">(...)</text>\n",
       "</g>\n",
       "<!-- 180&#45;&gt;184 -->\n",
       "<g id=\"edge26\" class=\"edge\">\n",
       "<title>180&#45;&gt;184</title>\n",
       "<path fill=\"none\" stroke=\"#000000\" d=\"M1021.7709,-71.8901C1027.3306,-62.7357 1033.0763,-53.2752 1038.1721,-44.8847\"/>\n",
       "<polygon fill=\"#000000\" stroke=\"#000000\" points=\"1041.2076,-46.6291 1043.4071,-36.2651 1035.2245,-42.9954 1041.2076,-46.6291\"/>\n",
       "</g>\n",
       "</g>\n",
       "</svg>\n"
      ],
      "text/plain": [
       "<graphviz.files.Source at 0x1a18355cf8>"
      ]
     },
     "execution_count": 17,
     "metadata": {},
     "output_type": "execute_result"
    }
   ],
   "source": [
    "import graphviz\n",
    "dot_data = tree.export_graphviz(clf, out_file=None, max_depth=3,\n",
    "                                feature_names=feature_names,class_names='Survived',\n",
    "                                filled=True, rounded=True, special_characters=True)\n",
    "graph = graphviz.Source(dot_data)\n",
    "graph"
   ]
  },
  {
   "cell_type": "markdown",
   "metadata": {},
   "source": [
    "### 2.2 Tree tuning\n",
    "\n",
    "Use all of the data (minus the held-out data) to re-fit a single decision tree with max_depth = 4 (i.e., no cross-validation). Show the tree diagram and also plot the feature importances. What do you observe?"
   ]
  },
  {
   "cell_type": "markdown",
   "metadata": {},
   "source": [
    "> <font color='red'>Fit the tree:</font>"
   ]
  },
  {
   "cell_type": "code",
   "execution_count": 18,
   "metadata": {},
   "outputs": [
    {
     "name": "stdout",
     "output_type": "stream",
     "text": [
      "accuracy on training data = 0.83\n",
      "accuracy on held-out data = 0.84\n"
     ]
    }
   ],
   "source": [
    "# fit the tree with max_depth=4\n",
    "clf = tree.DecisionTreeClassifier(max_depth=4)\n",
    "clf = clf.fit(X_train, Y_train)\n",
    "\n",
    "# predict on the training and held-out data\n",
    "Y_train_predicted = clf.predict(X_train)\n",
    "Y_test_predicted = clf.predict(X_test)\n",
    "\n",
    "# accuracy\n",
    "train_accuracy = compute_accuracy(Y_train_predicted, Y_train)\n",
    "test_accuracy = compute_accuracy(Y_test_predicted, Y_test)\n",
    "print('accuracy on training data = {:.2f}'.format(train_accuracy))\n",
    "print('accuracy on held-out data = {:.2f}'.format(test_accuracy))"
   ]
  },
  {
   "cell_type": "markdown",
   "metadata": {},
   "source": [
    "> <font color='red'>Plot it:</font>"
   ]
  },
  {
   "cell_type": "code",
   "execution_count": 19,
   "metadata": {},
   "outputs": [
    {
     "data": {
      "image/svg+xml": [
       "<?xml version=\"1.0\" encoding=\"UTF-8\" standalone=\"no\"?>\n",
       "<!DOCTYPE svg PUBLIC \"-//W3C//DTD SVG 1.1//EN\"\n",
       " \"http://www.w3.org/Graphics/SVG/1.1/DTD/svg11.dtd\">\n",
       "<!-- Generated by graphviz version 2.40.1 (20161225.0304)\n",
       " -->\n",
       "<!-- Title: Tree Pages: 1 -->\n",
       "<svg width=\"1720pt\" height=\"552pt\"\n",
       " viewBox=\"0.00 0.00 1720.00 552.00\" xmlns=\"http://www.w3.org/2000/svg\" xmlns:xlink=\"http://www.w3.org/1999/xlink\">\n",
       "<g id=\"graph0\" class=\"graph\" transform=\"scale(1 1) rotate(0) translate(4 548)\">\n",
       "<title>Tree</title>\n",
       "<polygon fill=\"#ffffff\" stroke=\"transparent\" points=\"-4,4 -4,-548 1716,-548 1716,4 -4,4\"/>\n",
       "<!-- 0 -->\n",
       "<g id=\"node1\" class=\"node\">\n",
       "<title>0</title>\n",
       "<path fill=\"#e58139\" fill-opacity=\"0.301961\" stroke=\"#000000\" d=\"M801.5,-544C801.5,-544 697.5,-544 697.5,-544 691.5,-544 685.5,-538 685.5,-532 685.5,-532 685.5,-473 685.5,-473 685.5,-467 691.5,-461 697.5,-461 697.5,-461 801.5,-461 801.5,-461 807.5,-461 813.5,-467 813.5,-473 813.5,-473 813.5,-532 813.5,-532 813.5,-538 807.5,-544 801.5,-544\"/>\n",
       "<text text-anchor=\"start\" x=\"712\" y=\"-528.8\" font-family=\"Helvetica,sans-Serif\" font-size=\"14.00\" fill=\"#000000\">Sex ≤ 0.309</text>\n",
       "<text text-anchor=\"start\" x=\"713\" y=\"-513.8\" font-family=\"Helvetica,sans-Serif\" font-size=\"14.00\" fill=\"#000000\">gini = 0.484</text>\n",
       "<text text-anchor=\"start\" x=\"703.5\" y=\"-498.8\" font-family=\"Helvetica,sans-Serif\" font-size=\"14.00\" fill=\"#000000\">samples = 477</text>\n",
       "<text text-anchor=\"start\" x=\"693.5\" y=\"-483.8\" font-family=\"Helvetica,sans-Serif\" font-size=\"14.00\" fill=\"#000000\">value = [281, 196]</text>\n",
       "<text text-anchor=\"start\" x=\"720.5\" y=\"-468.8\" font-family=\"Helvetica,sans-Serif\" font-size=\"14.00\" fill=\"#000000\">class = S</text>\n",
       "</g>\n",
       "<!-- 1 -->\n",
       "<g id=\"node2\" class=\"node\">\n",
       "<title>1</title>\n",
       "<path fill=\"#e58139\" fill-opacity=\"0.698039\" stroke=\"#000000\" d=\"M545.5,-425C545.5,-425 449.5,-425 449.5,-425 443.5,-425 437.5,-419 437.5,-413 437.5,-413 437.5,-354 437.5,-354 437.5,-348 443.5,-342 449.5,-342 449.5,-342 545.5,-342 545.5,-342 551.5,-342 557.5,-348 557.5,-354 557.5,-354 557.5,-413 557.5,-413 557.5,-419 551.5,-425 545.5,-425\"/>\n",
       "<text text-anchor=\"start\" x=\"461\" y=\"-409.8\" font-family=\"Helvetica,sans-Serif\" font-size=\"14.00\" fill=\"#000000\">Age ≤ &#45;1.15</text>\n",
       "<text text-anchor=\"start\" x=\"461\" y=\"-394.8\" font-family=\"Helvetica,sans-Serif\" font-size=\"14.00\" fill=\"#000000\">gini = 0.356</text>\n",
       "<text text-anchor=\"start\" x=\"451.5\" y=\"-379.8\" font-family=\"Helvetica,sans-Serif\" font-size=\"14.00\" fill=\"#000000\">samples = 311</text>\n",
       "<text text-anchor=\"start\" x=\"445.5\" y=\"-364.8\" font-family=\"Helvetica,sans-Serif\" font-size=\"14.00\" fill=\"#000000\">value = [239, 72]</text>\n",
       "<text text-anchor=\"start\" x=\"468.5\" y=\"-349.8\" font-family=\"Helvetica,sans-Serif\" font-size=\"14.00\" fill=\"#000000\">class = S</text>\n",
       "</g>\n",
       "<!-- 0&#45;&gt;1 -->\n",
       "<g id=\"edge1\" class=\"edge\">\n",
       "<title>0&#45;&gt;1</title>\n",
       "<path fill=\"none\" stroke=\"#000000\" d=\"M685.2577,-472.1634C649.0959,-455.087 603.9177,-433.7528 566.9403,-416.2912\"/>\n",
       "<polygon fill=\"#000000\" stroke=\"#000000\" points=\"568.2634,-413.0455 557.7264,-411.9402 565.2744,-419.3752 568.2634,-413.0455\"/>\n",
       "<text text-anchor=\"middle\" x=\"566.1629\" y=\"-431.7737\" font-family=\"Helvetica,sans-Serif\" font-size=\"14.00\" fill=\"#000000\">True</text>\n",
       "</g>\n",
       "<!-- 14 -->\n",
       "<g id=\"node15\" class=\"node\">\n",
       "<title>14</title>\n",
       "<path fill=\"#399de5\" fill-opacity=\"0.662745\" stroke=\"#000000\" d=\"M1044.5,-425C1044.5,-425 948.5,-425 948.5,-425 942.5,-425 936.5,-419 936.5,-413 936.5,-413 936.5,-354 936.5,-354 936.5,-348 942.5,-342 948.5,-342 948.5,-342 1044.5,-342 1044.5,-342 1050.5,-342 1056.5,-348 1056.5,-354 1056.5,-354 1056.5,-413 1056.5,-413 1056.5,-419 1050.5,-425 1044.5,-425\"/>\n",
       "<text text-anchor=\"start\" x=\"950.5\" y=\"-409.8\" font-family=\"Helvetica,sans-Serif\" font-size=\"14.00\" fill=\"#000000\">Pclass ≤ 0.229</text>\n",
       "<text text-anchor=\"start\" x=\"960\" y=\"-394.8\" font-family=\"Helvetica,sans-Serif\" font-size=\"14.00\" fill=\"#000000\">gini = 0.378</text>\n",
       "<text text-anchor=\"start\" x=\"950.5\" y=\"-379.8\" font-family=\"Helvetica,sans-Serif\" font-size=\"14.00\" fill=\"#000000\">samples = 166</text>\n",
       "<text text-anchor=\"start\" x=\"944.5\" y=\"-364.8\" font-family=\"Helvetica,sans-Serif\" font-size=\"14.00\" fill=\"#000000\">value = [42, 124]</text>\n",
       "<text text-anchor=\"start\" x=\"968.5\" y=\"-349.8\" font-family=\"Helvetica,sans-Serif\" font-size=\"14.00\" fill=\"#000000\">class = u</text>\n",
       "</g>\n",
       "<!-- 0&#45;&gt;14 -->\n",
       "<g id=\"edge14\" class=\"edge\">\n",
       "<title>0&#45;&gt;14</title>\n",
       "<path fill=\"none\" stroke=\"#000000\" d=\"M813.7516,-471.5448C848.5232,-454.7924 891.507,-434.0837 927.05,-416.9597\"/>\n",
       "<polygon fill=\"#000000\" stroke=\"#000000\" points=\"928.8993,-419.9538 936.3892,-412.4603 925.861,-413.6476 928.8993,-419.9538\"/>\n",
       "<text text-anchor=\"middle\" x=\"928.1361\" y=\"-432.3588\" font-family=\"Helvetica,sans-Serif\" font-size=\"14.00\" fill=\"#000000\">False</text>\n",
       "</g>\n",
       "<!-- 2 -->\n",
       "<g id=\"node3\" class=\"node\">\n",
       "<title>2</title>\n",
       "<path fill=\"#399de5\" fill-opacity=\"0.411765\" stroke=\"#000000\" d=\"M220,-306C220,-306 131,-306 131,-306 125,-306 119,-300 119,-294 119,-294 119,-235 119,-235 119,-229 125,-223 131,-223 131,-223 220,-223 220,-223 226,-223 232,-229 232,-235 232,-235 232,-294 232,-294 232,-300 226,-306 220,-306\"/>\n",
       "<text text-anchor=\"start\" x=\"131.5\" y=\"-290.8\" font-family=\"Helvetica,sans-Serif\" font-size=\"14.00\" fill=\"#000000\">SibSp ≤ 1.794</text>\n",
       "<text text-anchor=\"start\" x=\"139\" y=\"-275.8\" font-family=\"Helvetica,sans-Serif\" font-size=\"14.00\" fill=\"#000000\">gini = 0.466</text>\n",
       "<text text-anchor=\"start\" x=\"133.5\" y=\"-260.8\" font-family=\"Helvetica,sans-Serif\" font-size=\"14.00\" fill=\"#000000\">samples = 27</text>\n",
       "<text text-anchor=\"start\" x=\"127\" y=\"-245.8\" font-family=\"Helvetica,sans-Serif\" font-size=\"14.00\" fill=\"#000000\">value = [10, 17]</text>\n",
       "<text text-anchor=\"start\" x=\"147.5\" y=\"-230.8\" font-family=\"Helvetica,sans-Serif\" font-size=\"14.00\" fill=\"#000000\">class = u</text>\n",
       "</g>\n",
       "<!-- 1&#45;&gt;2 -->\n",
       "<g id=\"edge2\" class=\"edge\">\n",
       "<title>1&#45;&gt;2</title>\n",
       "<path fill=\"none\" stroke=\"#000000\" d=\"M437.312,-361.2566C381.7322,-340.7163 299.3315,-310.2638 241.8663,-289.0267\"/>\n",
       "<polygon fill=\"#000000\" stroke=\"#000000\" points=\"242.7467,-285.6207 232.1534,-285.4371 240.3201,-292.1867 242.7467,-285.6207\"/>\n",
       "</g>\n",
       "<!-- 7 -->\n",
       "<g id=\"node8\" class=\"node\">\n",
       "<title>7</title>\n",
       "<path fill=\"#e58139\" fill-opacity=\"0.760784\" stroke=\"#000000\" d=\"M545.5,-306C545.5,-306 449.5,-306 449.5,-306 443.5,-306 437.5,-300 437.5,-294 437.5,-294 437.5,-235 437.5,-235 437.5,-229 443.5,-223 449.5,-223 449.5,-223 545.5,-223 545.5,-223 551.5,-223 557.5,-229 557.5,-235 557.5,-235 557.5,-294 557.5,-294 557.5,-300 551.5,-306 545.5,-306\"/>\n",
       "<text text-anchor=\"start\" x=\"449\" y=\"-290.8\" font-family=\"Helvetica,sans-Serif\" font-size=\"14.00\" fill=\"#000000\">Pclass ≤ &#45;0.968</text>\n",
       "<text text-anchor=\"start\" x=\"461\" y=\"-275.8\" font-family=\"Helvetica,sans-Serif\" font-size=\"14.00\" fill=\"#000000\">gini = 0.312</text>\n",
       "<text text-anchor=\"start\" x=\"451.5\" y=\"-260.8\" font-family=\"Helvetica,sans-Serif\" font-size=\"14.00\" fill=\"#000000\">samples = 284</text>\n",
       "<text text-anchor=\"start\" x=\"445.5\" y=\"-245.8\" font-family=\"Helvetica,sans-Serif\" font-size=\"14.00\" fill=\"#000000\">value = [229, 55]</text>\n",
       "<text text-anchor=\"start\" x=\"468.5\" y=\"-230.8\" font-family=\"Helvetica,sans-Serif\" font-size=\"14.00\" fill=\"#000000\">class = S</text>\n",
       "</g>\n",
       "<!-- 1&#45;&gt;7 -->\n",
       "<g id=\"edge7\" class=\"edge\">\n",
       "<title>1&#45;&gt;7</title>\n",
       "<path fill=\"none\" stroke=\"#000000\" d=\"M497.5,-341.8796C497.5,-333.6838 497.5,-324.9891 497.5,-316.5013\"/>\n",
       "<polygon fill=\"#000000\" stroke=\"#000000\" points=\"501.0001,-316.298 497.5,-306.2981 494.0001,-316.2981 501.0001,-316.298\"/>\n",
       "</g>\n",
       "<!-- 3 -->\n",
       "<g id=\"node4\" class=\"node\">\n",
       "<title>3</title>\n",
       "<path fill=\"#399de5\" stroke=\"#000000\" d=\"M93,-179.5C93,-179.5 12,-179.5 12,-179.5 6,-179.5 0,-173.5 0,-167.5 0,-167.5 0,-123.5 0,-123.5 0,-117.5 6,-111.5 12,-111.5 12,-111.5 93,-111.5 93,-111.5 99,-111.5 105,-117.5 105,-123.5 105,-123.5 105,-167.5 105,-167.5 105,-173.5 99,-179.5 93,-179.5\"/>\n",
       "<text text-anchor=\"start\" x=\"23.5\" y=\"-164.3\" font-family=\"Helvetica,sans-Serif\" font-size=\"14.00\" fill=\"#000000\">gini = 0.0</text>\n",
       "<text text-anchor=\"start\" x=\"10.5\" y=\"-149.3\" font-family=\"Helvetica,sans-Serif\" font-size=\"14.00\" fill=\"#000000\">samples = 16</text>\n",
       "<text text-anchor=\"start\" x=\"8\" y=\"-134.3\" font-family=\"Helvetica,sans-Serif\" font-size=\"14.00\" fill=\"#000000\">value = [0, 16]</text>\n",
       "<text text-anchor=\"start\" x=\"24.5\" y=\"-119.3\" font-family=\"Helvetica,sans-Serif\" font-size=\"14.00\" fill=\"#000000\">class = u</text>\n",
       "</g>\n",
       "<!-- 2&#45;&gt;3 -->\n",
       "<g id=\"edge3\" class=\"edge\">\n",
       "<title>2&#45;&gt;3</title>\n",
       "<path fill=\"none\" stroke=\"#000000\" d=\"M132.4806,-222.8796C120.4329,-211.2237 107.3422,-198.5587 95.3069,-186.9148\"/>\n",
       "<polygon fill=\"#000000\" stroke=\"#000000\" points=\"97.589,-184.2528 87.9684,-179.8149 92.7217,-189.2837 97.589,-184.2528\"/>\n",
       "</g>\n",
       "<!-- 4 -->\n",
       "<g id=\"node5\" class=\"node\">\n",
       "<title>4</title>\n",
       "<path fill=\"#e58139\" fill-opacity=\"0.901961\" stroke=\"#000000\" d=\"M216,-187C216,-187 135,-187 135,-187 129,-187 123,-181 123,-175 123,-175 123,-116 123,-116 123,-110 129,-104 135,-104 135,-104 216,-104 216,-104 222,-104 228,-110 228,-116 228,-116 228,-175 228,-175 228,-181 222,-187 216,-187\"/>\n",
       "<text text-anchor=\"start\" x=\"135\" y=\"-171.8\" font-family=\"Helvetica,sans-Serif\" font-size=\"14.00\" fill=\"#000000\">Age ≤ &#45;1.805</text>\n",
       "<text text-anchor=\"start\" x=\"139\" y=\"-156.8\" font-family=\"Helvetica,sans-Serif\" font-size=\"14.00\" fill=\"#000000\">gini = 0.165</text>\n",
       "<text text-anchor=\"start\" x=\"133.5\" y=\"-141.8\" font-family=\"Helvetica,sans-Serif\" font-size=\"14.00\" fill=\"#000000\">samples = 11</text>\n",
       "<text text-anchor=\"start\" x=\"131\" y=\"-126.8\" font-family=\"Helvetica,sans-Serif\" font-size=\"14.00\" fill=\"#000000\">value = [10, 1]</text>\n",
       "<text text-anchor=\"start\" x=\"146.5\" y=\"-111.8\" font-family=\"Helvetica,sans-Serif\" font-size=\"14.00\" fill=\"#000000\">class = S</text>\n",
       "</g>\n",
       "<!-- 2&#45;&gt;4 -->\n",
       "<g id=\"edge4\" class=\"edge\">\n",
       "<title>2&#45;&gt;4</title>\n",
       "<path fill=\"none\" stroke=\"#000000\" d=\"M175.5,-222.8796C175.5,-214.6838 175.5,-205.9891 175.5,-197.5013\"/>\n",
       "<polygon fill=\"#000000\" stroke=\"#000000\" points=\"179.0001,-197.298 175.5,-187.2981 172.0001,-197.2981 179.0001,-197.298\"/>\n",
       "</g>\n",
       "<!-- 5 -->\n",
       "<g id=\"node6\" class=\"node\">\n",
       "<title>5</title>\n",
       "<path fill=\"#e58139\" fill-opacity=\"0.666667\" stroke=\"#000000\" d=\"M97,-68C97,-68 24,-68 24,-68 18,-68 12,-62 12,-56 12,-56 12,-12 12,-12 12,-6 18,0 24,0 24,0 97,0 97,0 103,0 109,-6 109,-12 109,-12 109,-56 109,-56 109,-62 103,-68 97,-68\"/>\n",
       "<text text-anchor=\"start\" x=\"24\" y=\"-52.8\" font-family=\"Helvetica,sans-Serif\" font-size=\"14.00\" fill=\"#000000\">gini = 0.375</text>\n",
       "<text text-anchor=\"start\" x=\"22.5\" y=\"-37.8\" font-family=\"Helvetica,sans-Serif\" font-size=\"14.00\" fill=\"#000000\">samples = 4</text>\n",
       "<text text-anchor=\"start\" x=\"20\" y=\"-22.8\" font-family=\"Helvetica,sans-Serif\" font-size=\"14.00\" fill=\"#000000\">value = [3, 1]</text>\n",
       "<text text-anchor=\"start\" x=\"31.5\" y=\"-7.8\" font-family=\"Helvetica,sans-Serif\" font-size=\"14.00\" fill=\"#000000\">class = S</text>\n",
       "</g>\n",
       "<!-- 4&#45;&gt;5 -->\n",
       "<g id=\"edge5\" class=\"edge\">\n",
       "<title>4&#45;&gt;5</title>\n",
       "<path fill=\"none\" stroke=\"#000000\" d=\"M132.6782,-103.9815C123.0095,-94.607 112.7473,-84.6572 103.0882,-75.2921\"/>\n",
       "<polygon fill=\"#000000\" stroke=\"#000000\" points=\"105.4551,-72.7118 95.8392,-68.2637 100.5824,-77.7375 105.4551,-72.7118\"/>\n",
       "</g>\n",
       "<!-- 6 -->\n",
       "<g id=\"node7\" class=\"node\">\n",
       "<title>6</title>\n",
       "<path fill=\"#e58139\" stroke=\"#000000\" d=\"M212,-68C212,-68 139,-68 139,-68 133,-68 127,-62 127,-56 127,-56 127,-12 127,-12 127,-6 133,0 139,0 139,0 212,0 212,0 218,0 224,-6 224,-12 224,-12 224,-56 224,-56 224,-62 218,-68 212,-68\"/>\n",
       "<text text-anchor=\"start\" x=\"146.5\" y=\"-52.8\" font-family=\"Helvetica,sans-Serif\" font-size=\"14.00\" fill=\"#000000\">gini = 0.0</text>\n",
       "<text text-anchor=\"start\" x=\"137.5\" y=\"-37.8\" font-family=\"Helvetica,sans-Serif\" font-size=\"14.00\" fill=\"#000000\">samples = 7</text>\n",
       "<text text-anchor=\"start\" x=\"135\" y=\"-22.8\" font-family=\"Helvetica,sans-Serif\" font-size=\"14.00\" fill=\"#000000\">value = [7, 0]</text>\n",
       "<text text-anchor=\"start\" x=\"146.5\" y=\"-7.8\" font-family=\"Helvetica,sans-Serif\" font-size=\"14.00\" fill=\"#000000\">class = S</text>\n",
       "</g>\n",
       "<!-- 4&#45;&gt;6 -->\n",
       "<g id=\"edge6\" class=\"edge\">\n",
       "<title>4&#45;&gt;6</title>\n",
       "<path fill=\"none\" stroke=\"#000000\" d=\"M175.5,-103.9815C175.5,-95.618 175.5,-86.7965 175.5,-78.3409\"/>\n",
       "<polygon fill=\"#000000\" stroke=\"#000000\" points=\"179.0001,-78.2636 175.5,-68.2637 172.0001,-78.2637 179.0001,-78.2636\"/>\n",
       "</g>\n",
       "<!-- 8 -->\n",
       "<g id=\"node9\" class=\"node\">\n",
       "<title>8</title>\n",
       "<path fill=\"#e58139\" fill-opacity=\"0.392157\" stroke=\"#000000\" d=\"M476.5,-187C476.5,-187 354.5,-187 354.5,-187 348.5,-187 342.5,-181 342.5,-175 342.5,-175 342.5,-116 342.5,-116 342.5,-110 348.5,-104 354.5,-104 354.5,-104 476.5,-104 476.5,-104 482.5,-104 488.5,-110 488.5,-116 488.5,-116 488.5,-175 488.5,-175 488.5,-181 482.5,-187 476.5,-187\"/>\n",
       "<text text-anchor=\"start\" x=\"350.5\" y=\"-171.8\" font-family=\"Helvetica,sans-Serif\" font-size=\"14.00\" fill=\"#000000\">PassengerId ≤ 0.441</text>\n",
       "<text text-anchor=\"start\" x=\"379\" y=\"-156.8\" font-family=\"Helvetica,sans-Serif\" font-size=\"14.00\" fill=\"#000000\">gini = 0.471</text>\n",
       "<text text-anchor=\"start\" x=\"373.5\" y=\"-141.8\" font-family=\"Helvetica,sans-Serif\" font-size=\"14.00\" fill=\"#000000\">samples = 66</text>\n",
       "<text text-anchor=\"start\" x=\"367\" y=\"-126.8\" font-family=\"Helvetica,sans-Serif\" font-size=\"14.00\" fill=\"#000000\">value = [41, 25]</text>\n",
       "<text text-anchor=\"start\" x=\"386.5\" y=\"-111.8\" font-family=\"Helvetica,sans-Serif\" font-size=\"14.00\" fill=\"#000000\">class = S</text>\n",
       "</g>\n",
       "<!-- 7&#45;&gt;8 -->\n",
       "<g id=\"edge8\" class=\"edge\">\n",
       "<title>7&#45;&gt;8</title>\n",
       "<path fill=\"none\" stroke=\"#000000\" d=\"M468.8204,-222.8796C462.7385,-214.0534 456.2578,-204.6485 449.9859,-195.5466\"/>\n",
       "<polygon fill=\"#000000\" stroke=\"#000000\" points=\"452.8582,-193.5465 444.302,-187.2981 447.0941,-197.5184 452.8582,-193.5465\"/>\n",
       "</g>\n",
       "<!-- 11 -->\n",
       "<g id=\"node12\" class=\"node\">\n",
       "<title>11</title>\n",
       "<path fill=\"#e58139\" fill-opacity=\"0.839216\" stroke=\"#000000\" d=\"M640.5,-187C640.5,-187 518.5,-187 518.5,-187 512.5,-187 506.5,-181 506.5,-175 506.5,-175 506.5,-116 506.5,-116 506.5,-110 512.5,-104 518.5,-104 518.5,-104 640.5,-104 640.5,-104 646.5,-104 652.5,-110 652.5,-116 652.5,-116 652.5,-175 652.5,-175 652.5,-181 646.5,-187 640.5,-187\"/>\n",
       "<text text-anchor=\"start\" x=\"514.5\" y=\"-171.8\" font-family=\"Helvetica,sans-Serif\" font-size=\"14.00\" fill=\"#000000\">PassengerId ≤ 0.527</text>\n",
       "<text text-anchor=\"start\" x=\"543\" y=\"-156.8\" font-family=\"Helvetica,sans-Serif\" font-size=\"14.00\" fill=\"#000000\">gini = 0.237</text>\n",
       "<text text-anchor=\"start\" x=\"533.5\" y=\"-141.8\" font-family=\"Helvetica,sans-Serif\" font-size=\"14.00\" fill=\"#000000\">samples = 218</text>\n",
       "<text text-anchor=\"start\" x=\"527.5\" y=\"-126.8\" font-family=\"Helvetica,sans-Serif\" font-size=\"14.00\" fill=\"#000000\">value = [188, 30]</text>\n",
       "<text text-anchor=\"start\" x=\"550.5\" y=\"-111.8\" font-family=\"Helvetica,sans-Serif\" font-size=\"14.00\" fill=\"#000000\">class = S</text>\n",
       "</g>\n",
       "<!-- 7&#45;&gt;11 -->\n",
       "<g id=\"edge11\" class=\"edge\">\n",
       "<title>7&#45;&gt;11</title>\n",
       "<path fill=\"none\" stroke=\"#000000\" d=\"M526.1796,-222.8796C532.2615,-214.0534 538.7422,-204.6485 545.0141,-195.5466\"/>\n",
       "<polygon fill=\"#000000\" stroke=\"#000000\" points=\"547.9059,-197.5184 550.698,-187.2981 542.1418,-193.5465 547.9059,-197.5184\"/>\n",
       "</g>\n",
       "<!-- 9 -->\n",
       "<g id=\"node10\" class=\"node\">\n",
       "<title>9</title>\n",
       "<path fill=\"#e58139\" fill-opacity=\"0.654902\" stroke=\"#000000\" d=\"M343,-68C343,-68 254,-68 254,-68 248,-68 242,-62 242,-56 242,-56 242,-12 242,-12 242,-6 248,0 254,0 254,0 343,0 343,0 349,0 355,-6 355,-12 355,-12 355,-56 355,-56 355,-62 349,-68 343,-68\"/>\n",
       "<text text-anchor=\"start\" x=\"262\" y=\"-52.8\" font-family=\"Helvetica,sans-Serif\" font-size=\"14.00\" fill=\"#000000\">gini = 0.381</text>\n",
       "<text text-anchor=\"start\" x=\"256.5\" y=\"-37.8\" font-family=\"Helvetica,sans-Serif\" font-size=\"14.00\" fill=\"#000000\">samples = 39</text>\n",
       "<text text-anchor=\"start\" x=\"250\" y=\"-22.8\" font-family=\"Helvetica,sans-Serif\" font-size=\"14.00\" fill=\"#000000\">value = [29, 10]</text>\n",
       "<text text-anchor=\"start\" x=\"269.5\" y=\"-7.8\" font-family=\"Helvetica,sans-Serif\" font-size=\"14.00\" fill=\"#000000\">class = S</text>\n",
       "</g>\n",
       "<!-- 8&#45;&gt;9 -->\n",
       "<g id=\"edge9\" class=\"edge\">\n",
       "<title>8&#45;&gt;9</title>\n",
       "<path fill=\"none\" stroke=\"#000000\" d=\"M371.9335,-103.9815C362.0966,-94.607 351.656,-84.6572 341.8289,-75.2921\"/>\n",
       "<polygon fill=\"#000000\" stroke=\"#000000\" points=\"344.1076,-72.6289 334.4538,-68.2637 339.2784,-77.6963 344.1076,-72.6289\"/>\n",
       "</g>\n",
       "<!-- 10 -->\n",
       "<g id=\"node11\" class=\"node\">\n",
       "<title>10</title>\n",
       "<path fill=\"#399de5\" fill-opacity=\"0.200000\" stroke=\"#000000\" d=\"M474,-68C474,-68 385,-68 385,-68 379,-68 373,-62 373,-56 373,-56 373,-12 373,-12 373,-6 379,0 385,0 385,0 474,0 474,0 480,0 486,-6 486,-12 486,-12 486,-56 486,-56 486,-62 480,-68 474,-68\"/>\n",
       "<text text-anchor=\"start\" x=\"393\" y=\"-52.8\" font-family=\"Helvetica,sans-Serif\" font-size=\"14.00\" fill=\"#000000\">gini = 0.494</text>\n",
       "<text text-anchor=\"start\" x=\"387.5\" y=\"-37.8\" font-family=\"Helvetica,sans-Serif\" font-size=\"14.00\" fill=\"#000000\">samples = 27</text>\n",
       "<text text-anchor=\"start\" x=\"381\" y=\"-22.8\" font-family=\"Helvetica,sans-Serif\" font-size=\"14.00\" fill=\"#000000\">value = [12, 15]</text>\n",
       "<text text-anchor=\"start\" x=\"401.5\" y=\"-7.8\" font-family=\"Helvetica,sans-Serif\" font-size=\"14.00\" fill=\"#000000\">class = u</text>\n",
       "</g>\n",
       "<!-- 8&#45;&gt;10 -->\n",
       "<g id=\"edge10\" class=\"edge\">\n",
       "<title>8&#45;&gt;10</title>\n",
       "<path fill=\"none\" stroke=\"#000000\" d=\"M420.7131,-103.9815C421.7632,-95.618 422.8708,-86.7965 423.9325,-78.3409\"/>\n",
       "<polygon fill=\"#000000\" stroke=\"#000000\" points=\"427.4247,-78.6218 425.1978,-68.2637 420.4792,-77.7497 427.4247,-78.6218\"/>\n",
       "</g>\n",
       "<!-- 12 -->\n",
       "<g id=\"node13\" class=\"node\">\n",
       "<title>12</title>\n",
       "<path fill=\"#e58139\" fill-opacity=\"0.784314\" stroke=\"#000000\" d=\"M612.5,-68C612.5,-68 516.5,-68 516.5,-68 510.5,-68 504.5,-62 504.5,-56 504.5,-56 504.5,-12 504.5,-12 504.5,-6 510.5,0 516.5,0 516.5,0 612.5,0 612.5,0 618.5,0 624.5,-6 624.5,-12 624.5,-12 624.5,-56 624.5,-56 624.5,-62 618.5,-68 612.5,-68\"/>\n",
       "<text text-anchor=\"start\" x=\"528\" y=\"-52.8\" font-family=\"Helvetica,sans-Serif\" font-size=\"14.00\" fill=\"#000000\">gini = 0.293</text>\n",
       "<text text-anchor=\"start\" x=\"518.5\" y=\"-37.8\" font-family=\"Helvetica,sans-Serif\" font-size=\"14.00\" fill=\"#000000\">samples = 129</text>\n",
       "<text text-anchor=\"start\" x=\"512.5\" y=\"-22.8\" font-family=\"Helvetica,sans-Serif\" font-size=\"14.00\" fill=\"#000000\">value = [106, 23]</text>\n",
       "<text text-anchor=\"start\" x=\"535.5\" y=\"-7.8\" font-family=\"Helvetica,sans-Serif\" font-size=\"14.00\" fill=\"#000000\">class = S</text>\n",
       "</g>\n",
       "<!-- 11&#45;&gt;12 -->\n",
       "<g id=\"edge12\" class=\"edge\">\n",
       "<title>11&#45;&gt;12</title>\n",
       "<path fill=\"none\" stroke=\"#000000\" d=\"M573.9146,-103.9815C572.7894,-95.618 571.6027,-86.7965 570.4651,-78.3409\"/>\n",
       "<polygon fill=\"#000000\" stroke=\"#000000\" points=\"573.9116,-77.7077 569.1095,-68.2637 566.9741,-78.6411 573.9116,-77.7077\"/>\n",
       "</g>\n",
       "<!-- 13 -->\n",
       "<g id=\"node14\" class=\"node\">\n",
       "<title>13</title>\n",
       "<path fill=\"#e58139\" fill-opacity=\"0.913725\" stroke=\"#000000\" d=\"M736,-68C736,-68 655,-68 655,-68 649,-68 643,-62 643,-56 643,-56 643,-12 643,-12 643,-6 649,0 655,0 655,0 736,0 736,0 742,0 748,-6 748,-12 748,-12 748,-56 748,-56 748,-62 742,-68 736,-68\"/>\n",
       "<text text-anchor=\"start\" x=\"659\" y=\"-52.8\" font-family=\"Helvetica,sans-Serif\" font-size=\"14.00\" fill=\"#000000\">gini = 0.145</text>\n",
       "<text text-anchor=\"start\" x=\"653.5\" y=\"-37.8\" font-family=\"Helvetica,sans-Serif\" font-size=\"14.00\" fill=\"#000000\">samples = 89</text>\n",
       "<text text-anchor=\"start\" x=\"651\" y=\"-22.8\" font-family=\"Helvetica,sans-Serif\" font-size=\"14.00\" fill=\"#000000\">value = [82, 7]</text>\n",
       "<text text-anchor=\"start\" x=\"666.5\" y=\"-7.8\" font-family=\"Helvetica,sans-Serif\" font-size=\"14.00\" fill=\"#000000\">class = S</text>\n",
       "</g>\n",
       "<!-- 11&#45;&gt;13 -->\n",
       "<g id=\"edge13\" class=\"edge\">\n",
       "<title>11&#45;&gt;13</title>\n",
       "<path fill=\"none\" stroke=\"#000000\" d=\"M622.6941,-103.9815C632.4469,-94.607 642.7983,-84.6572 652.5414,-75.2921\"/>\n",
       "<polygon fill=\"#000000\" stroke=\"#000000\" points=\"655.0694,-77.7169 659.8535,-68.2637 650.2185,-72.6702 655.0694,-77.7169\"/>\n",
       "</g>\n",
       "<!-- 15 -->\n",
       "<g id=\"node16\" class=\"node\">\n",
       "<title>15</title>\n",
       "<path fill=\"#399de5\" fill-opacity=\"0.937255\" stroke=\"#000000\" d=\"M1038.5,-306C1038.5,-306 954.5,-306 954.5,-306 948.5,-306 942.5,-300 942.5,-294 942.5,-294 942.5,-235 942.5,-235 942.5,-229 948.5,-223 954.5,-223 954.5,-223 1038.5,-223 1038.5,-223 1044.5,-223 1050.5,-229 1050.5,-235 1050.5,-235 1050.5,-294 1050.5,-294 1050.5,-300 1044.5,-306 1038.5,-306\"/>\n",
       "<text text-anchor=\"start\" x=\"954.5\" y=\"-290.8\" font-family=\"Helvetica,sans-Serif\" font-size=\"14.00\" fill=\"#000000\">Fare ≤ &#45;0.057</text>\n",
       "<text text-anchor=\"start\" x=\"960\" y=\"-275.8\" font-family=\"Helvetica,sans-Serif\" font-size=\"14.00\" fill=\"#000000\">gini = 0.112</text>\n",
       "<text text-anchor=\"start\" x=\"950.5\" y=\"-260.8\" font-family=\"Helvetica,sans-Serif\" font-size=\"14.00\" fill=\"#000000\">samples = 101</text>\n",
       "<text text-anchor=\"start\" x=\"952\" y=\"-245.8\" font-family=\"Helvetica,sans-Serif\" font-size=\"14.00\" fill=\"#000000\">value = [6, 95]</text>\n",
       "<text text-anchor=\"start\" x=\"968.5\" y=\"-230.8\" font-family=\"Helvetica,sans-Serif\" font-size=\"14.00\" fill=\"#000000\">class = u</text>\n",
       "</g>\n",
       "<!-- 14&#45;&gt;15 -->\n",
       "<g id=\"edge15\" class=\"edge\">\n",
       "<title>14&#45;&gt;15</title>\n",
       "<path fill=\"none\" stroke=\"#000000\" d=\"M996.5,-341.8796C996.5,-333.6838 996.5,-324.9891 996.5,-316.5013\"/>\n",
       "<polygon fill=\"#000000\" stroke=\"#000000\" points=\"1000.0001,-316.298 996.5,-306.2981 993.0001,-316.2981 1000.0001,-316.298\"/>\n",
       "</g>\n",
       "<!-- 22 -->\n",
       "<g id=\"node23\" class=\"node\">\n",
       "<title>22</title>\n",
       "<path fill=\"#e58139\" fill-opacity=\"0.196078\" stroke=\"#000000\" d=\"M1402,-306C1402,-306 1313,-306 1313,-306 1307,-306 1301,-300 1301,-294 1301,-294 1301,-235 1301,-235 1301,-229 1307,-223 1313,-223 1313,-223 1402,-223 1402,-223 1408,-223 1414,-229 1414,-235 1414,-235 1414,-294 1414,-294 1414,-300 1408,-306 1402,-306\"/>\n",
       "<text text-anchor=\"start\" x=\"1315.5\" y=\"-290.8\" font-family=\"Helvetica,sans-Serif\" font-size=\"14.00\" fill=\"#000000\">Fare ≤ &#45;0.232</text>\n",
       "<text text-anchor=\"start\" x=\"1321\" y=\"-275.8\" font-family=\"Helvetica,sans-Serif\" font-size=\"14.00\" fill=\"#000000\">gini = 0.494</text>\n",
       "<text text-anchor=\"start\" x=\"1315.5\" y=\"-260.8\" font-family=\"Helvetica,sans-Serif\" font-size=\"14.00\" fill=\"#000000\">samples = 65</text>\n",
       "<text text-anchor=\"start\" x=\"1309\" y=\"-245.8\" font-family=\"Helvetica,sans-Serif\" font-size=\"14.00\" fill=\"#000000\">value = [36, 29]</text>\n",
       "<text text-anchor=\"start\" x=\"1328.5\" y=\"-230.8\" font-family=\"Helvetica,sans-Serif\" font-size=\"14.00\" fill=\"#000000\">class = S</text>\n",
       "</g>\n",
       "<!-- 14&#45;&gt;22 -->\n",
       "<g id=\"edge22\" class=\"edge\">\n",
       "<title>14&#45;&gt;22</title>\n",
       "<path fill=\"none\" stroke=\"#000000\" d=\"M1056.517,-363.716C1121.2979,-342.3616 1224.1832,-308.4465 1291.2805,-286.3286\"/>\n",
       "<polygon fill=\"#000000\" stroke=\"#000000\" points=\"1292.5101,-289.6086 1300.9116,-283.1538 1290.3185,-282.9605 1292.5101,-289.6086\"/>\n",
       "</g>\n",
       "<!-- 16 -->\n",
       "<g id=\"node17\" class=\"node\">\n",
       "<title>16</title>\n",
       "<path fill=\"#399de5\" fill-opacity=\"0.874510\" stroke=\"#000000\" d=\"M976,-187C976,-187 895,-187 895,-187 889,-187 883,-181 883,-175 883,-175 883,-116 883,-116 883,-110 889,-104 895,-104 895,-104 976,-104 976,-104 982,-104 988,-110 988,-116 988,-116 988,-175 988,-175 988,-181 982,-187 976,-187\"/>\n",
       "<text text-anchor=\"start\" x=\"893.5\" y=\"-171.8\" font-family=\"Helvetica,sans-Serif\" font-size=\"14.00\" fill=\"#000000\">Fare ≤ &#45;0.088</text>\n",
       "<text text-anchor=\"start\" x=\"899\" y=\"-156.8\" font-family=\"Helvetica,sans-Serif\" font-size=\"14.00\" fill=\"#000000\">gini = 0.198</text>\n",
       "<text text-anchor=\"start\" x=\"893.5\" y=\"-141.8\" font-family=\"Helvetica,sans-Serif\" font-size=\"14.00\" fill=\"#000000\">samples = 45</text>\n",
       "<text text-anchor=\"start\" x=\"891\" y=\"-126.8\" font-family=\"Helvetica,sans-Serif\" font-size=\"14.00\" fill=\"#000000\">value = [5, 40]</text>\n",
       "<text text-anchor=\"start\" x=\"907.5\" y=\"-111.8\" font-family=\"Helvetica,sans-Serif\" font-size=\"14.00\" fill=\"#000000\">class = u</text>\n",
       "</g>\n",
       "<!-- 15&#45;&gt;16 -->\n",
       "<g id=\"edge16\" class=\"edge\">\n",
       "<title>15&#45;&gt;16</title>\n",
       "<path fill=\"none\" stroke=\"#000000\" d=\"M975.1652,-222.8796C970.7793,-214.3236 966.1147,-205.2238 961.583,-196.3833\"/>\n",
       "<polygon fill=\"#000000\" stroke=\"#000000\" points=\"964.6022,-194.6004 956.9259,-187.2981 958.373,-197.7936 964.6022,-194.6004\"/>\n",
       "</g>\n",
       "<!-- 19 -->\n",
       "<g id=\"node20\" class=\"node\">\n",
       "<title>19</title>\n",
       "<path fill=\"#399de5\" fill-opacity=\"0.980392\" stroke=\"#000000\" d=\"M1099,-187C1099,-187 1018,-187 1018,-187 1012,-187 1006,-181 1006,-175 1006,-175 1006,-116 1006,-116 1006,-110 1012,-104 1018,-104 1018,-104 1099,-104 1099,-104 1105,-104 1111,-110 1111,-116 1111,-116 1111,-175 1111,-175 1111,-181 1105,-187 1099,-187\"/>\n",
       "<text text-anchor=\"start\" x=\"1014.5\" y=\"-171.8\" font-family=\"Helvetica,sans-Serif\" font-size=\"14.00\" fill=\"#000000\">Parch ≤ 1.388</text>\n",
       "<text text-anchor=\"start\" x=\"1022\" y=\"-156.8\" font-family=\"Helvetica,sans-Serif\" font-size=\"14.00\" fill=\"#000000\">gini = 0.035</text>\n",
       "<text text-anchor=\"start\" x=\"1016.5\" y=\"-141.8\" font-family=\"Helvetica,sans-Serif\" font-size=\"14.00\" fill=\"#000000\">samples = 56</text>\n",
       "<text text-anchor=\"start\" x=\"1014\" y=\"-126.8\" font-family=\"Helvetica,sans-Serif\" font-size=\"14.00\" fill=\"#000000\">value = [1, 55]</text>\n",
       "<text text-anchor=\"start\" x=\"1030.5\" y=\"-111.8\" font-family=\"Helvetica,sans-Serif\" font-size=\"14.00\" fill=\"#000000\">class = u</text>\n",
       "</g>\n",
       "<!-- 15&#45;&gt;19 -->\n",
       "<g id=\"edge19\" class=\"edge\">\n",
       "<title>15&#45;&gt;19</title>\n",
       "<path fill=\"none\" stroke=\"#000000\" d=\"M1018.1846,-222.8796C1022.6423,-214.3236 1027.3834,-205.2238 1031.9894,-196.3833\"/>\n",
       "<polygon fill=\"#000000\" stroke=\"#000000\" points=\"1035.2062,-197.7838 1036.7229,-187.2981 1028.9983,-194.5494 1035.2062,-197.7838\"/>\n",
       "</g>\n",
       "<!-- 17 -->\n",
       "<g id=\"node18\" class=\"node\">\n",
       "<title>17</title>\n",
       "<path fill=\"#399de5\" fill-opacity=\"0.901961\" stroke=\"#000000\" d=\"M859,-68C859,-68 778,-68 778,-68 772,-68 766,-62 766,-56 766,-56 766,-12 766,-12 766,-6 772,0 778,0 778,0 859,0 859,0 865,0 871,-6 871,-12 871,-12 871,-56 871,-56 871,-62 865,-68 859,-68\"/>\n",
       "<text text-anchor=\"start\" x=\"782\" y=\"-52.8\" font-family=\"Helvetica,sans-Serif\" font-size=\"14.00\" fill=\"#000000\">gini = 0.165</text>\n",
       "<text text-anchor=\"start\" x=\"776.5\" y=\"-37.8\" font-family=\"Helvetica,sans-Serif\" font-size=\"14.00\" fill=\"#000000\">samples = 44</text>\n",
       "<text text-anchor=\"start\" x=\"774\" y=\"-22.8\" font-family=\"Helvetica,sans-Serif\" font-size=\"14.00\" fill=\"#000000\">value = [4, 40]</text>\n",
       "<text text-anchor=\"start\" x=\"790.5\" y=\"-7.8\" font-family=\"Helvetica,sans-Serif\" font-size=\"14.00\" fill=\"#000000\">class = u</text>\n",
       "</g>\n",
       "<!-- 16&#45;&gt;17 -->\n",
       "<g id=\"edge17\" class=\"edge\">\n",
       "<title>16&#45;&gt;17</title>\n",
       "<path fill=\"none\" stroke=\"#000000\" d=\"M891.9335,-103.9815C882.0966,-94.607 871.656,-84.6572 861.8289,-75.2921\"/>\n",
       "<polygon fill=\"#000000\" stroke=\"#000000\" points=\"864.1076,-72.6289 854.4538,-68.2637 859.2784,-77.6963 864.1076,-72.6289\"/>\n",
       "</g>\n",
       "<!-- 18 -->\n",
       "<g id=\"node19\" class=\"node\">\n",
       "<title>18</title>\n",
       "<path fill=\"#e58139\" stroke=\"#000000\" d=\"M974,-68C974,-68 901,-68 901,-68 895,-68 889,-62 889,-56 889,-56 889,-12 889,-12 889,-6 895,0 901,0 901,0 974,0 974,0 980,0 986,-6 986,-12 986,-12 986,-56 986,-56 986,-62 980,-68 974,-68\"/>\n",
       "<text text-anchor=\"start\" x=\"908.5\" y=\"-52.8\" font-family=\"Helvetica,sans-Serif\" font-size=\"14.00\" fill=\"#000000\">gini = 0.0</text>\n",
       "<text text-anchor=\"start\" x=\"899.5\" y=\"-37.8\" font-family=\"Helvetica,sans-Serif\" font-size=\"14.00\" fill=\"#000000\">samples = 1</text>\n",
       "<text text-anchor=\"start\" x=\"897\" y=\"-22.8\" font-family=\"Helvetica,sans-Serif\" font-size=\"14.00\" fill=\"#000000\">value = [1, 0]</text>\n",
       "<text text-anchor=\"start\" x=\"908.5\" y=\"-7.8\" font-family=\"Helvetica,sans-Serif\" font-size=\"14.00\" fill=\"#000000\">class = S</text>\n",
       "</g>\n",
       "<!-- 16&#45;&gt;18 -->\n",
       "<g id=\"edge18\" class=\"edge\">\n",
       "<title>16&#45;&gt;18</title>\n",
       "<path fill=\"none\" stroke=\"#000000\" d=\"M936.2447,-103.9815C936.3947,-95.618 936.553,-86.7965 936.7046,-78.3409\"/>\n",
       "<polygon fill=\"#000000\" stroke=\"#000000\" points=\"940.2054,-78.3249 936.8854,-68.2637 933.2065,-78.1993 940.2054,-78.3249\"/>\n",
       "</g>\n",
       "<!-- 20 -->\n",
       "<g id=\"node21\" class=\"node\">\n",
       "<title>20</title>\n",
       "<path fill=\"#399de5\" stroke=\"#000000\" d=\"M1097,-68C1097,-68 1016,-68 1016,-68 1010,-68 1004,-62 1004,-56 1004,-56 1004,-12 1004,-12 1004,-6 1010,0 1016,0 1016,0 1097,0 1097,0 1103,0 1109,-6 1109,-12 1109,-12 1109,-56 1109,-56 1109,-62 1103,-68 1097,-68\"/>\n",
       "<text text-anchor=\"start\" x=\"1027.5\" y=\"-52.8\" font-family=\"Helvetica,sans-Serif\" font-size=\"14.00\" fill=\"#000000\">gini = 0.0</text>\n",
       "<text text-anchor=\"start\" x=\"1014.5\" y=\"-37.8\" font-family=\"Helvetica,sans-Serif\" font-size=\"14.00\" fill=\"#000000\">samples = 46</text>\n",
       "<text text-anchor=\"start\" x=\"1012\" y=\"-22.8\" font-family=\"Helvetica,sans-Serif\" font-size=\"14.00\" fill=\"#000000\">value = [0, 46]</text>\n",
       "<text text-anchor=\"start\" x=\"1028.5\" y=\"-7.8\" font-family=\"Helvetica,sans-Serif\" font-size=\"14.00\" fill=\"#000000\">class = u</text>\n",
       "</g>\n",
       "<!-- 19&#45;&gt;20 -->\n",
       "<g id=\"edge20\" class=\"edge\">\n",
       "<title>19&#45;&gt;20</title>\n",
       "<path fill=\"none\" stroke=\"#000000\" d=\"M1057.7553,-103.9815C1057.6053,-95.618 1057.447,-86.7965 1057.2954,-78.3409\"/>\n",
       "<polygon fill=\"#000000\" stroke=\"#000000\" points=\"1060.7935,-78.1993 1057.1146,-68.2637 1053.7946,-78.3249 1060.7935,-78.1993\"/>\n",
       "</g>\n",
       "<!-- 21 -->\n",
       "<g id=\"node22\" class=\"node\">\n",
       "<title>21</title>\n",
       "<path fill=\"#399de5\" fill-opacity=\"0.890196\" stroke=\"#000000\" d=\"M1215.5,-68C1215.5,-68 1139.5,-68 1139.5,-68 1133.5,-68 1127.5,-62 1127.5,-56 1127.5,-56 1127.5,-12 1127.5,-12 1127.5,-6 1133.5,0 1139.5,0 1139.5,0 1215.5,0 1215.5,0 1221.5,0 1227.5,-6 1227.5,-12 1227.5,-12 1227.5,-56 1227.5,-56 1227.5,-62 1221.5,-68 1215.5,-68\"/>\n",
       "<text text-anchor=\"start\" x=\"1145\" y=\"-52.8\" font-family=\"Helvetica,sans-Serif\" font-size=\"14.00\" fill=\"#000000\">gini = 0.18</text>\n",
       "<text text-anchor=\"start\" x=\"1135.5\" y=\"-37.8\" font-family=\"Helvetica,sans-Serif\" font-size=\"14.00\" fill=\"#000000\">samples = 10</text>\n",
       "<text text-anchor=\"start\" x=\"1137\" y=\"-22.8\" font-family=\"Helvetica,sans-Serif\" font-size=\"14.00\" fill=\"#000000\">value = [1, 9]</text>\n",
       "<text text-anchor=\"start\" x=\"1149.5\" y=\"-7.8\" font-family=\"Helvetica,sans-Serif\" font-size=\"14.00\" fill=\"#000000\">class = u</text>\n",
       "</g>\n",
       "<!-- 19&#45;&gt;21 -->\n",
       "<g id=\"edge21\" class=\"edge\">\n",
       "<title>19&#45;&gt;21</title>\n",
       "<path fill=\"none\" stroke=\"#000000\" d=\"M1102.8112,-103.9815C1112.8163,-94.607 1123.4354,-84.6572 1133.4304,-75.2921\"/>\n",
       "<polygon fill=\"#000000\" stroke=\"#000000\" points=\"1136.0274,-77.6551 1140.9316,-68.2637 1131.2412,-72.547 1136.0274,-77.6551\"/>\n",
       "</g>\n",
       "<!-- 23 -->\n",
       "<g id=\"node24\" class=\"node\">\n",
       "<title>23</title>\n",
       "<path fill=\"#399de5\" fill-opacity=\"0.141176\" stroke=\"#000000\" d=\"M1402,-187C1402,-187 1313,-187 1313,-187 1307,-187 1301,-181 1301,-175 1301,-175 1301,-116 1301,-116 1301,-110 1307,-104 1313,-104 1313,-104 1402,-104 1402,-104 1408,-104 1414,-110 1414,-116 1414,-116 1414,-175 1414,-175 1414,-181 1408,-187 1402,-187\"/>\n",
       "<text text-anchor=\"start\" x=\"1315.5\" y=\"-171.8\" font-family=\"Helvetica,sans-Serif\" font-size=\"14.00\" fill=\"#000000\">Fare ≤ &#45;0.273</text>\n",
       "<text text-anchor=\"start\" x=\"1321\" y=\"-156.8\" font-family=\"Helvetica,sans-Serif\" font-size=\"14.00\" fill=\"#000000\">gini = 0.497</text>\n",
       "<text text-anchor=\"start\" x=\"1315.5\" y=\"-141.8\" font-family=\"Helvetica,sans-Serif\" font-size=\"14.00\" fill=\"#000000\">samples = 52</text>\n",
       "<text text-anchor=\"start\" x=\"1309\" y=\"-126.8\" font-family=\"Helvetica,sans-Serif\" font-size=\"14.00\" fill=\"#000000\">value = [24, 28]</text>\n",
       "<text text-anchor=\"start\" x=\"1329.5\" y=\"-111.8\" font-family=\"Helvetica,sans-Serif\" font-size=\"14.00\" fill=\"#000000\">class = u</text>\n",
       "</g>\n",
       "<!-- 22&#45;&gt;23 -->\n",
       "<g id=\"edge23\" class=\"edge\">\n",
       "<title>22&#45;&gt;23</title>\n",
       "<path fill=\"none\" stroke=\"#000000\" d=\"M1357.5,-222.8796C1357.5,-214.6838 1357.5,-205.9891 1357.5,-197.5013\"/>\n",
       "<polygon fill=\"#000000\" stroke=\"#000000\" points=\"1361.0001,-197.298 1357.5,-187.2981 1354.0001,-197.2981 1361.0001,-197.298\"/>\n",
       "</g>\n",
       "<!-- 26 -->\n",
       "<g id=\"node27\" class=\"node\">\n",
       "<title>26</title>\n",
       "<path fill=\"#e58139\" fill-opacity=\"0.917647\" stroke=\"#000000\" d=\"M1581,-187C1581,-187 1500,-187 1500,-187 1494,-187 1488,-181 1488,-175 1488,-175 1488,-116 1488,-116 1488,-110 1494,-104 1500,-104 1500,-104 1581,-104 1581,-104 1587,-104 1593,-110 1593,-116 1593,-116 1593,-175 1593,-175 1593,-181 1587,-187 1581,-187\"/>\n",
       "<text text-anchor=\"start\" x=\"1500\" y=\"-171.8\" font-family=\"Helvetica,sans-Serif\" font-size=\"14.00\" fill=\"#000000\">Age ≤ &#45;1.529</text>\n",
       "<text text-anchor=\"start\" x=\"1504\" y=\"-156.8\" font-family=\"Helvetica,sans-Serif\" font-size=\"14.00\" fill=\"#000000\">gini = 0.142</text>\n",
       "<text text-anchor=\"start\" x=\"1498.5\" y=\"-141.8\" font-family=\"Helvetica,sans-Serif\" font-size=\"14.00\" fill=\"#000000\">samples = 13</text>\n",
       "<text text-anchor=\"start\" x=\"1496\" y=\"-126.8\" font-family=\"Helvetica,sans-Serif\" font-size=\"14.00\" fill=\"#000000\">value = [12, 1]</text>\n",
       "<text text-anchor=\"start\" x=\"1511.5\" y=\"-111.8\" font-family=\"Helvetica,sans-Serif\" font-size=\"14.00\" fill=\"#000000\">class = S</text>\n",
       "</g>\n",
       "<!-- 22&#45;&gt;26 -->\n",
       "<g id=\"edge26\" class=\"edge\">\n",
       "<title>22&#45;&gt;26</title>\n",
       "<path fill=\"none\" stroke=\"#000000\" d=\"M1414.3992,-227.5C1435.0557,-214.0676 1458.4714,-198.841 1479.47,-185.1862\"/>\n",
       "<polygon fill=\"#000000\" stroke=\"#000000\" points=\"1481.5229,-188.0262 1487.9983,-179.6405 1477.7068,-182.1578 1481.5229,-188.0262\"/>\n",
       "</g>\n",
       "<!-- 24 -->\n",
       "<g id=\"node25\" class=\"node\">\n",
       "<title>24</title>\n",
       "<path fill=\"transparent\" stroke=\"#000000\" d=\"M1347,-68C1347,-68 1258,-68 1258,-68 1252,-68 1246,-62 1246,-56 1246,-56 1246,-12 1246,-12 1246,-6 1252,0 1258,0 1258,0 1347,0 1347,0 1353,0 1359,-6 1359,-12 1359,-12 1359,-56 1359,-56 1359,-62 1353,-68 1347,-68\"/>\n",
       "<text text-anchor=\"start\" x=\"1273.5\" y=\"-52.8\" font-family=\"Helvetica,sans-Serif\" font-size=\"14.00\" fill=\"#000000\">gini = 0.5</text>\n",
       "<text text-anchor=\"start\" x=\"1260.5\" y=\"-37.8\" font-family=\"Helvetica,sans-Serif\" font-size=\"14.00\" fill=\"#000000\">samples = 48</text>\n",
       "<text text-anchor=\"start\" x=\"1254\" y=\"-22.8\" font-family=\"Helvetica,sans-Serif\" font-size=\"14.00\" fill=\"#000000\">value = [24, 24]</text>\n",
       "<text text-anchor=\"start\" x=\"1273.5\" y=\"-7.8\" font-family=\"Helvetica,sans-Serif\" font-size=\"14.00\" fill=\"#000000\">class = S</text>\n",
       "</g>\n",
       "<!-- 23&#45;&gt;24 -->\n",
       "<g id=\"edge24\" class=\"edge\">\n",
       "<title>23&#45;&gt;24</title>\n",
       "<path fill=\"none\" stroke=\"#000000\" d=\"M1337.02,-103.9815C1332.7585,-95.3423 1328.256,-86.2144 1323.9603,-77.5059\"/>\n",
       "<polygon fill=\"#000000\" stroke=\"#000000\" points=\"1326.9641,-75.6836 1319.4014,-68.2637 1320.6863,-78.7803 1326.9641,-75.6836\"/>\n",
       "</g>\n",
       "<!-- 25 -->\n",
       "<g id=\"node26\" class=\"node\">\n",
       "<title>25</title>\n",
       "<path fill=\"#399de5\" stroke=\"#000000\" d=\"M1462,-68C1462,-68 1389,-68 1389,-68 1383,-68 1377,-62 1377,-56 1377,-56 1377,-12 1377,-12 1377,-6 1383,0 1389,0 1389,0 1462,0 1462,0 1468,0 1474,-6 1474,-12 1474,-12 1474,-56 1474,-56 1474,-62 1468,-68 1462,-68\"/>\n",
       "<text text-anchor=\"start\" x=\"1396.5\" y=\"-52.8\" font-family=\"Helvetica,sans-Serif\" font-size=\"14.00\" fill=\"#000000\">gini = 0.0</text>\n",
       "<text text-anchor=\"start\" x=\"1387.5\" y=\"-37.8\" font-family=\"Helvetica,sans-Serif\" font-size=\"14.00\" fill=\"#000000\">samples = 4</text>\n",
       "<text text-anchor=\"start\" x=\"1385\" y=\"-22.8\" font-family=\"Helvetica,sans-Serif\" font-size=\"14.00\" fill=\"#000000\">value = [0, 4]</text>\n",
       "<text text-anchor=\"start\" x=\"1397.5\" y=\"-7.8\" font-family=\"Helvetica,sans-Serif\" font-size=\"14.00\" fill=\"#000000\">class = u</text>\n",
       "</g>\n",
       "<!-- 23&#45;&gt;25 -->\n",
       "<g id=\"edge25\" class=\"edge\">\n",
       "<title>23&#45;&gt;25</title>\n",
       "<path fill=\"none\" stroke=\"#000000\" d=\"M1382.8207,-103.9815C1388.2016,-95.1585 1393.8932,-85.8258 1399.3059,-76.9506\"/>\n",
       "<polygon fill=\"#000000\" stroke=\"#000000\" points=\"1402.3851,-78.6236 1404.6038,-68.2637 1396.4088,-74.9789 1402.3851,-78.6236\"/>\n",
       "</g>\n",
       "<!-- 27 -->\n",
       "<g id=\"node28\" class=\"node\">\n",
       "<title>27</title>\n",
       "<path fill=\"#e58139\" fill-opacity=\"0.498039\" stroke=\"#000000\" d=\"M1577,-68C1577,-68 1504,-68 1504,-68 1498,-68 1492,-62 1492,-56 1492,-56 1492,-12 1492,-12 1492,-6 1498,0 1504,0 1504,0 1577,0 1577,0 1583,0 1589,-6 1589,-12 1589,-12 1589,-56 1589,-56 1589,-62 1583,-68 1577,-68\"/>\n",
       "<text text-anchor=\"start\" x=\"1504\" y=\"-52.8\" font-family=\"Helvetica,sans-Serif\" font-size=\"14.00\" fill=\"#000000\">gini = 0.444</text>\n",
       "<text text-anchor=\"start\" x=\"1502.5\" y=\"-37.8\" font-family=\"Helvetica,sans-Serif\" font-size=\"14.00\" fill=\"#000000\">samples = 3</text>\n",
       "<text text-anchor=\"start\" x=\"1500\" y=\"-22.8\" font-family=\"Helvetica,sans-Serif\" font-size=\"14.00\" fill=\"#000000\">value = [2, 1]</text>\n",
       "<text text-anchor=\"start\" x=\"1511.5\" y=\"-7.8\" font-family=\"Helvetica,sans-Serif\" font-size=\"14.00\" fill=\"#000000\">class = S</text>\n",
       "</g>\n",
       "<!-- 26&#45;&gt;27 -->\n",
       "<g id=\"edge27\" class=\"edge\">\n",
       "<title>26&#45;&gt;27</title>\n",
       "<path fill=\"none\" stroke=\"#000000\" d=\"M1540.5,-103.9815C1540.5,-95.618 1540.5,-86.7965 1540.5,-78.3409\"/>\n",
       "<polygon fill=\"#000000\" stroke=\"#000000\" points=\"1544.0001,-78.2636 1540.5,-68.2637 1537.0001,-78.2637 1544.0001,-78.2636\"/>\n",
       "</g>\n",
       "<!-- 28 -->\n",
       "<g id=\"node29\" class=\"node\">\n",
       "<title>28</title>\n",
       "<path fill=\"#e58139\" stroke=\"#000000\" d=\"M1700,-68C1700,-68 1619,-68 1619,-68 1613,-68 1607,-62 1607,-56 1607,-56 1607,-12 1607,-12 1607,-6 1613,0 1619,0 1619,0 1700,0 1700,0 1706,0 1712,-6 1712,-12 1712,-12 1712,-56 1712,-56 1712,-62 1706,-68 1700,-68\"/>\n",
       "<text text-anchor=\"start\" x=\"1630.5\" y=\"-52.8\" font-family=\"Helvetica,sans-Serif\" font-size=\"14.00\" fill=\"#000000\">gini = 0.0</text>\n",
       "<text text-anchor=\"start\" x=\"1617.5\" y=\"-37.8\" font-family=\"Helvetica,sans-Serif\" font-size=\"14.00\" fill=\"#000000\">samples = 10</text>\n",
       "<text text-anchor=\"start\" x=\"1615\" y=\"-22.8\" font-family=\"Helvetica,sans-Serif\" font-size=\"14.00\" fill=\"#000000\">value = [10, 0]</text>\n",
       "<text text-anchor=\"start\" x=\"1630.5\" y=\"-7.8\" font-family=\"Helvetica,sans-Serif\" font-size=\"14.00\" fill=\"#000000\">class = S</text>\n",
       "</g>\n",
       "<!-- 26&#45;&gt;28 -->\n",
       "<g id=\"edge28\" class=\"edge\">\n",
       "<title>26&#45;&gt;28</title>\n",
       "<path fill=\"none\" stroke=\"#000000\" d=\"M1584.8112,-103.9815C1594.8163,-94.607 1605.4354,-84.6572 1615.4304,-75.2921\"/>\n",
       "<polygon fill=\"#000000\" stroke=\"#000000\" points=\"1618.0274,-77.6551 1622.9316,-68.2637 1613.2412,-72.547 1618.0274,-77.6551\"/>\n",
       "</g>\n",
       "</g>\n",
       "</svg>\n"
      ],
      "text/plain": [
       "<graphviz.files.Source at 0x1a18692748>"
      ]
     },
     "execution_count": 19,
     "metadata": {},
     "output_type": "execute_result"
    }
   ],
   "source": [
    "dot_data = tree.export_graphviz(clf, out_file=None,\n",
    "                                feature_names=feature_names,class_names='Survived',\n",
    "                                filled=True, rounded=True, special_characters=True)\n",
    "graph = graphviz.Source(dot_data)\n",
    "graph"
   ]
  },
  {
   "cell_type": "markdown",
   "metadata": {},
   "source": [
    "> <font color='red'>Feature importances:</font>"
   ]
  },
  {
   "cell_type": "code",
   "execution_count": 20,
   "metadata": {},
   "outputs": [
    {
     "data": {
      "image/png": "[encoded data removed]",
      "text/plain": [
       "<Figure size 432x288 with 1 Axes>"
      ]
     },
     "metadata": {
      "needs_background": "light"
     },
     "output_type": "display_data"
    }
   ],
   "source": [
    "fig, ax = plt.subplots()\n",
    "\n",
    "ax.bar(np.arange(len(clf.feature_importances_)), clf.feature_importances_)\n",
    "ax.set_xticks(np.arange(len(clf.feature_importances_)))\n",
    "ax.set_xticklabels(feature_names, rotation=45, horizontalalignment='right')\n",
    "\n",
    "ax.set_xlabel('feature')\n",
    "ax.set_ylabel('importance')\n",
    "\n",
    "plt.show(fig)"
   ]
  },
  {
   "cell_type": "markdown",
   "metadata": {},
   "source": [
    "> <font color='red'>The tree with a max depth of 4 performs better on the held-out data than the tree without a max depth (in part 2.1). This is a clear instance of where a deep tree is prone to overfitting the training data, and thus ends up performing worse on the held-out data. Furthermore, we see that in the tree with a max depth of 4, `Sex` is by far the most important factor for determining survival, followed by `Pclass`. So a preliminary conclusion here would be that your gender and wealth were the most important for determining survival. Interestingly, age does not seem to be particularly important.</font>"
   ]
  },
  {
   "cell_type": "markdown",
   "metadata": {},
   "source": [
    "### 2.3 Sensitivity analysis\n",
    "The built-in algorithm you are using has several parameters which you can tune. Using cross-validation, show how the choice of these parameters affects performance.\n",
    "\n",
    "First, show how max_depth affects train and test accuracy. On a single axis, plot train and test accuracy as a function of max_depth. Use a red line to show test accuracy and a blue line to show train accuracy. Do not use your held-out test data.\n",
    "\n",
    "Second, show how test accuracy relates to both max_depth and min_samples_leaf. Specifically, create a 3-D plot where the x-axis is max_depth, the y-axis is min_samples_leaf, and the z-axis shows accuracy. What combination of max_depth and min-samples_leaf achieves the highest accuracy? How sensitive are the results to these two parameters?"
   ]
  },
  {
   "cell_type": "markdown",
   "metadata": {},
   "source": [
    "> <font color='red'>From part 2.1, the max depth necessary for node purity is around 15, so we test max depths of 1-15 here:</font>"
   ]
  },
  {
   "cell_type": "code",
   "execution_count": 21,
   "metadata": {},
   "outputs": [
    {
     "data": {
      "image/png": "[encoded data removed]",
      "text/plain": [
       "<Figure size 432x288 with 1 Axes>"
      ]
     },
     "metadata": {
      "needs_background": "light"
     },
     "output_type": "display_data"
    }
   ],
   "source": [
    "# max depths to test\n",
    "max_depths = np.arange(1,16)\n",
    "\n",
    "# storage vectors\n",
    "train_accuracies = np.zeros(len(max_depths))\n",
    "test_accuracies = np.zeros(len(max_depths))\n",
    "\n",
    "# iterate through max depths\n",
    "for i in range(len(max_depths)):\n",
    "    \n",
    "    # storage vectors\n",
    "    kf_train_accuracies = np.zeros(10)\n",
    "    kf_test_accuracies = np.zeros(10)\n",
    "    \n",
    "    # iterate through folds\n",
    "    for j in range(10):\n",
    "        \n",
    "        # fit the tree\n",
    "        clf = tree.DecisionTreeClassifier(max_depth=max_depths[i])\n",
    "        clf = clf.fit(X_train[kf_train_inds[j]], Y_train[kf_train_inds[j]])\n",
    "        \n",
    "        # predicted values\n",
    "        Y_kf_train_predicted = clf.predict(X_train[kf_train_inds[j]])\n",
    "        Y_kf_test_predicted = clf.predict(X_train[kf_test_inds[j]])\n",
    "\n",
    "        # accuracies\n",
    "        kf_train_accuracies[j] = compute_accuracy(Y_kf_train_predicted, Y_train[kf_train_inds[j]])\n",
    "        kf_test_accuracies[j] = compute_accuracy(Y_kf_test_predicted, Y_train[kf_test_inds[j]])\n",
    "        \n",
    "    # store the average\n",
    "    train_accuracies[i] = np.mean(kf_train_accuracies)\n",
    "    test_accuracies[i] = np.mean(kf_test_accuracies)\n",
    "    \n",
    "# plot\n",
    "fig, ax = plt.subplots()\n",
    "\n",
    "ax.plot(max_depths, train_accuracies, '+-', c='C0', label='training')\n",
    "ax.plot(max_depths, test_accuracies, '+-', c='C1', label='testing')\n",
    "\n",
    "ax.legend()\n",
    "ax.set_xlabel('max depth')\n",
    "ax.set_ylabel('accuracy')\n",
    "\n",
    "plt.show(fig)"
   ]
  },
  {
   "cell_type": "markdown",
   "metadata": {},
   "source": [
    "> <font color='red'>As we can see, training accuracy monotonically increases as we increase the max depth of the tree. However, testing accuracy has an approximately convex shape (with some minor deviations) - it increases until a max depth of around 2 or 3, before decreasing. This suggests that a tree with a depth of greater than 2 or 3 overfits the training data.\n",
    ">\n",
    "> Next we also test min_samples_leaf:</font>"
   ]
  },
  {
   "cell_type": "code",
   "execution_count": 22,
   "metadata": {},
   "outputs": [
    {
     "data": {
      "application/vnd.jupyter.widget-view+json": {
       "model_id": "f5851a68109945b38df30b6f1f57b442",
       "version_major": 2,
       "version_minor": 0
      },
      "text/plain": [
       "HBox(children=(IntProgress(value=0, max=15), HTML(value='')))"
      ]
     },
     "metadata": {},
     "output_type": "display_data"
    },
    {
     "name": "stdout",
     "output_type": "stream",
     "text": [
      "\n"
     ]
    }
   ],
   "source": [
    "# min_samples_leaf to test\n",
    "min_samples_leafs = np.arange(2,51,2)\n",
    "\n",
    "# storage vectors\n",
    "train_accuracies = np.zeros((len(max_depths),len(min_samples_leafs)))\n",
    "test_accuracies = np.zeros((len(max_depths),len(min_samples_leafs)))\n",
    "\n",
    "# iterate through max depths\n",
    "for i in tqdm_notebook(range(len(max_depths))):\n",
    "    \n",
    "    # iterate through min_samples_leafs\n",
    "    for j in range(len(min_samples_leafs)):\n",
    "    \n",
    "        # storage vectors\n",
    "        kf_train_accuracies = np.zeros(10)\n",
    "        kf_test_accuracies = np.zeros(10)\n",
    "    \n",
    "        # iterate through folds\n",
    "        for k in range(10):\n",
    "\n",
    "            # fit the tree\n",
    "            clf = tree.DecisionTreeClassifier(max_depth=max_depths[i], min_samples_leaf=min_samples_leafs[j])\n",
    "            clf = clf.fit(X_train[kf_train_inds[k]], Y_train[kf_train_inds[k]])\n",
    "\n",
    "            # predicted values\n",
    "            Y_kf_train_predicted = clf.predict(X_train[kf_train_inds[k]])\n",
    "            Y_kf_test_predicted = clf.predict(X_train[kf_test_inds[k]])\n",
    "\n",
    "            # accuracies\n",
    "            kf_train_accuracies[k] = compute_accuracy(Y_kf_train_predicted, Y_train[kf_train_inds[k]])\n",
    "            kf_test_accuracies[k] = compute_accuracy(Y_kf_test_predicted, Y_train[kf_test_inds[k]])\n",
    "        \n",
    "        # store the average\n",
    "        train_accuracies[i,j] = np.mean(kf_train_accuracies)\n",
    "        test_accuracies[i,j] = np.mean(kf_test_accuracies)"
   ]
  },
  {
   "cell_type": "code",
   "execution_count": 23,
   "metadata": {},
   "outputs": [
    {
     "name": "stdout",
     "output_type": "stream",
     "text": [
      "best test accuracy = 0.79\n",
      "  with a max_depth of       = 3\n",
      "  and a min_samples_leaf of = 4\n"
     ]
    },
    {
     "data": {
      "image/png": "[encoded data removed]",
      "text/plain": [
       "<Figure size 432x576 with 4 Axes>"
      ]
     },
     "metadata": {
      "needs_background": "light"
     },
     "output_type": "display_data"
    }
   ],
   "source": [
    "# print some useful numbers\n",
    "max_ind = np.unravel_index(np.argmax(test_accuracies, axis=None), test_accuracies.shape)\n",
    "print('best test accuracy = {:.2f}'.format(test_accuracies[max_ind]))\n",
    "print('  with a max_depth of       = {}'.format(max_depths[max_ind[0]]))\n",
    "print('  and a min_samples_leaf of = {}'.format(min_samples_leafs[max_ind[1]]))\n",
    "\n",
    "# plot\n",
    "fig, ax = plt.subplots(nrows=2, ncols=1, figsize=(6,8), sharex=True)\n",
    "\n",
    "levels = np.linspace(np.min(train_accuracies),np.max(train_accuracies), 20)\n",
    "cntrf = ax[0].contourf(min_samples_leafs, max_depths, train_accuracies, cmap='viridis', levels=levels)\n",
    "cbar = fig.colorbar(cntrf, ax=ax[0])\n",
    "cbar.ax.set_ylabel('TRAINING accuracy')\n",
    "ax[0].set_ylabel('max depth')\n",
    "\n",
    "levels = np.linspace(np.min(test_accuracies),np.max(test_accuracies), 20)\n",
    "cntrf = ax[1].contourf(min_samples_leafs, max_depths, test_accuracies, cmap='viridis', levels=levels)\n",
    "cbar = fig.colorbar(cntrf, ax=ax[1])\n",
    "cbar.ax.set_ylabel('TESTING accuracy')\n",
    "ax[1].set_ylabel('max depth')\n",
    "ax[1].set_xlabel('min samples per leaf')\n",
    "\n",
    "fig.tight_layout()\n",
    "plt.show(fig)"
   ]
  },
  {
   "cell_type": "markdown",
   "metadata": {},
   "source": [
    "> <font color='red'>As we can see, for the training data, decreasing the minimum samples per leaf and increasing the max depth lead to a higher accuracy. However, for the testing data, there is a point where the tree starts to ovefit the training data. Therefore, we find that the tree that performs the best on the testing data has a max depth of 3 and a minimum samples per leaf of 4. However, the accuracy surface for the testing data is not a perfect convex 3D parabola - instead, there is substantial \"noise\" which is likely a result of small changes in the tuning parameters leading to a significantly different tree (i.e. splits change significantly due to small changes in the tuning parameters). Nevertheless, a max depth of around 3 and a minimum samples per leaf of around 4 appears to be generally robust.\n",
    ">\n",
    "> Plot the best performing tree, and see how it does on the held-out data:</font>"
   ]
  },
  {
   "cell_type": "code",
   "execution_count": 24,
   "metadata": {},
   "outputs": [
    {
     "name": "stdout",
     "output_type": "stream",
     "text": [
      "accuracy on held-out data = 0.86\n"
     ]
    }
   ],
   "source": [
    "# fit the tree\n",
    "clf = tree.DecisionTreeClassifier(max_depth=3, min_samples_leaf=4)\n",
    "clf = clf.fit(X_train, Y_train)\n",
    "\n",
    "# predict on the held-out data\n",
    "Y_test_predicted = clf.predict(X_test)\n",
    "\n",
    "# accuracy\n",
    "accuracy = compute_accuracy(Y_test_predicted, Y_test)\n",
    "print('accuracy on held-out data = {:.2f}'.format(accuracy))"
   ]
  },
  {
   "cell_type": "code",
   "execution_count": 25,
   "metadata": {},
   "outputs": [
    {
     "data": {
      "image/svg+xml": [
       "<?xml version=\"1.0\" encoding=\"UTF-8\" standalone=\"no\"?>\n",
       "<!DOCTYPE svg PUBLIC \"-//W3C//DTD SVG 1.1//EN\"\n",
       " \"http://www.w3.org/Graphics/SVG/1.1/DTD/svg11.dtd\">\n",
       "<!-- Generated by graphviz version 2.40.1 (20161225.0304)\n",
       " -->\n",
       "<!-- Title: Tree Pages: 1 -->\n",
       "<svg width=\"1006pt\" height=\"433pt\"\n",
       " viewBox=\"0.00 0.00 1006.00 433.00\" xmlns=\"http://www.w3.org/2000/svg\" xmlns:xlink=\"http://www.w3.org/1999/xlink\">\n",
       "<g id=\"graph0\" class=\"graph\" transform=\"scale(1 1) rotate(0) translate(4 429)\">\n",
       "<title>Tree</title>\n",
       "<polygon fill=\"#ffffff\" stroke=\"transparent\" points=\"-4,4 -4,-429 1002,-429 1002,4 -4,4\"/>\n",
       "<!-- 0 -->\n",
       "<g id=\"node1\" class=\"node\">\n",
       "<title>0</title>\n",
       "<path fill=\"#e58139\" fill-opacity=\"0.301961\" stroke=\"#000000\" d=\"M551.5,-425C551.5,-425 447.5,-425 447.5,-425 441.5,-425 435.5,-419 435.5,-413 435.5,-413 435.5,-354 435.5,-354 435.5,-348 441.5,-342 447.5,-342 447.5,-342 551.5,-342 551.5,-342 557.5,-342 563.5,-348 563.5,-354 563.5,-354 563.5,-413 563.5,-413 563.5,-419 557.5,-425 551.5,-425\"/>\n",
       "<text text-anchor=\"start\" x=\"462\" y=\"-409.8\" font-family=\"Helvetica,sans-Serif\" font-size=\"14.00\" fill=\"#000000\">Sex ≤ 0.309</text>\n",
       "<text text-anchor=\"start\" x=\"463\" y=\"-394.8\" font-family=\"Helvetica,sans-Serif\" font-size=\"14.00\" fill=\"#000000\">gini = 0.484</text>\n",
       "<text text-anchor=\"start\" x=\"453.5\" y=\"-379.8\" font-family=\"Helvetica,sans-Serif\" font-size=\"14.00\" fill=\"#000000\">samples = 477</text>\n",
       "<text text-anchor=\"start\" x=\"443.5\" y=\"-364.8\" font-family=\"Helvetica,sans-Serif\" font-size=\"14.00\" fill=\"#000000\">value = [281, 196]</text>\n",
       "<text text-anchor=\"start\" x=\"470.5\" y=\"-349.8\" font-family=\"Helvetica,sans-Serif\" font-size=\"14.00\" fill=\"#000000\">class = S</text>\n",
       "</g>\n",
       "<!-- 1 -->\n",
       "<g id=\"node2\" class=\"node\">\n",
       "<title>1</title>\n",
       "<path fill=\"#e58139\" fill-opacity=\"0.698039\" stroke=\"#000000\" d=\"M418.5,-306C418.5,-306 322.5,-306 322.5,-306 316.5,-306 310.5,-300 310.5,-294 310.5,-294 310.5,-235 310.5,-235 310.5,-229 316.5,-223 322.5,-223 322.5,-223 418.5,-223 418.5,-223 424.5,-223 430.5,-229 430.5,-235 430.5,-235 430.5,-294 430.5,-294 430.5,-300 424.5,-306 418.5,-306\"/>\n",
       "<text text-anchor=\"start\" x=\"334\" y=\"-290.8\" font-family=\"Helvetica,sans-Serif\" font-size=\"14.00\" fill=\"#000000\">Age ≤ &#45;1.15</text>\n",
       "<text text-anchor=\"start\" x=\"334\" y=\"-275.8\" font-family=\"Helvetica,sans-Serif\" font-size=\"14.00\" fill=\"#000000\">gini = 0.356</text>\n",
       "<text text-anchor=\"start\" x=\"324.5\" y=\"-260.8\" font-family=\"Helvetica,sans-Serif\" font-size=\"14.00\" fill=\"#000000\">samples = 311</text>\n",
       "<text text-anchor=\"start\" x=\"318.5\" y=\"-245.8\" font-family=\"Helvetica,sans-Serif\" font-size=\"14.00\" fill=\"#000000\">value = [239, 72]</text>\n",
       "<text text-anchor=\"start\" x=\"341.5\" y=\"-230.8\" font-family=\"Helvetica,sans-Serif\" font-size=\"14.00\" fill=\"#000000\">class = S</text>\n",
       "</g>\n",
       "<!-- 0&#45;&gt;1 -->\n",
       "<g id=\"edge1\" class=\"edge\">\n",
       "<title>0&#45;&gt;1</title>\n",
       "<path fill=\"none\" stroke=\"#000000\" d=\"M454.3821,-341.8796C444.326,-332.6031 433.577,-322.6874 423.2446,-313.1559\"/>\n",
       "<polygon fill=\"#000000\" stroke=\"#000000\" points=\"425.5339,-310.506 415.8105,-306.2981 420.7876,-315.6511 425.5339,-310.506\"/>\n",
       "<text text-anchor=\"middle\" x=\"416.8178\" y=\"-327.5778\" font-family=\"Helvetica,sans-Serif\" font-size=\"14.00\" fill=\"#000000\">True</text>\n",
       "</g>\n",
       "<!-- 8 -->\n",
       "<g id=\"node9\" class=\"node\">\n",
       "<title>8</title>\n",
       "<path fill=\"#399de5\" fill-opacity=\"0.662745\" stroke=\"#000000\" d=\"M676.5,-306C676.5,-306 580.5,-306 580.5,-306 574.5,-306 568.5,-300 568.5,-294 568.5,-294 568.5,-235 568.5,-235 568.5,-229 574.5,-223 580.5,-223 580.5,-223 676.5,-223 676.5,-223 682.5,-223 688.5,-229 688.5,-235 688.5,-235 688.5,-294 688.5,-294 688.5,-300 682.5,-306 676.5,-306\"/>\n",
       "<text text-anchor=\"start\" x=\"582.5\" y=\"-290.8\" font-family=\"Helvetica,sans-Serif\" font-size=\"14.00\" fill=\"#000000\">Pclass ≤ 0.229</text>\n",
       "<text text-anchor=\"start\" x=\"592\" y=\"-275.8\" font-family=\"Helvetica,sans-Serif\" font-size=\"14.00\" fill=\"#000000\">gini = 0.378</text>\n",
       "<text text-anchor=\"start\" x=\"582.5\" y=\"-260.8\" font-family=\"Helvetica,sans-Serif\" font-size=\"14.00\" fill=\"#000000\">samples = 166</text>\n",
       "<text text-anchor=\"start\" x=\"576.5\" y=\"-245.8\" font-family=\"Helvetica,sans-Serif\" font-size=\"14.00\" fill=\"#000000\">value = [42, 124]</text>\n",
       "<text text-anchor=\"start\" x=\"600.5\" y=\"-230.8\" font-family=\"Helvetica,sans-Serif\" font-size=\"14.00\" fill=\"#000000\">class = u</text>\n",
       "</g>\n",
       "<!-- 0&#45;&gt;8 -->\n",
       "<g id=\"edge8\" class=\"edge\">\n",
       "<title>0&#45;&gt;8</title>\n",
       "<path fill=\"none\" stroke=\"#000000\" d=\"M544.6179,-341.8796C554.674,-332.6031 565.423,-322.6874 575.7554,-313.1559\"/>\n",
       "<polygon fill=\"#000000\" stroke=\"#000000\" points=\"578.2124,-315.6511 583.1895,-306.2981 573.4661,-310.506 578.2124,-315.6511\"/>\n",
       "<text text-anchor=\"middle\" x=\"582.1822\" y=\"-327.5778\" font-family=\"Helvetica,sans-Serif\" font-size=\"14.00\" fill=\"#000000\">False</text>\n",
       "</g>\n",
       "<!-- 2 -->\n",
       "<g id=\"node3\" class=\"node\">\n",
       "<title>2</title>\n",
       "<path fill=\"#399de5\" fill-opacity=\"0.411765\" stroke=\"#000000\" d=\"M220,-187C220,-187 131,-187 131,-187 125,-187 119,-181 119,-175 119,-175 119,-116 119,-116 119,-110 125,-104 131,-104 131,-104 220,-104 220,-104 226,-104 232,-110 232,-116 232,-116 232,-175 232,-175 232,-181 226,-187 220,-187\"/>\n",
       "<text text-anchor=\"start\" x=\"131.5\" y=\"-171.8\" font-family=\"Helvetica,sans-Serif\" font-size=\"14.00\" fill=\"#000000\">SibSp ≤ 1.794</text>\n",
       "<text text-anchor=\"start\" x=\"139\" y=\"-156.8\" font-family=\"Helvetica,sans-Serif\" font-size=\"14.00\" fill=\"#000000\">gini = 0.466</text>\n",
       "<text text-anchor=\"start\" x=\"133.5\" y=\"-141.8\" font-family=\"Helvetica,sans-Serif\" font-size=\"14.00\" fill=\"#000000\">samples = 27</text>\n",
       "<text text-anchor=\"start\" x=\"127\" y=\"-126.8\" font-family=\"Helvetica,sans-Serif\" font-size=\"14.00\" fill=\"#000000\">value = [10, 17]</text>\n",
       "<text text-anchor=\"start\" x=\"147.5\" y=\"-111.8\" font-family=\"Helvetica,sans-Serif\" font-size=\"14.00\" fill=\"#000000\">class = u</text>\n",
       "</g>\n",
       "<!-- 1&#45;&gt;2 -->\n",
       "<g id=\"edge2\" class=\"edge\">\n",
       "<title>1&#45;&gt;2</title>\n",
       "<path fill=\"none\" stroke=\"#000000\" d=\"M310.4024,-227.8251C288.3719,-214.3808 263.3385,-199.104 240.8685,-185.3916\"/>\n",
       "<polygon fill=\"#000000\" stroke=\"#000000\" points=\"242.4281,-182.2431 232.0688,-180.0215 238.7817,-188.2183 242.4281,-182.2431\"/>\n",
       "</g>\n",
       "<!-- 5 -->\n",
       "<g id=\"node6\" class=\"node\">\n",
       "<title>5</title>\n",
       "<path fill=\"#e58139\" fill-opacity=\"0.760784\" stroke=\"#000000\" d=\"M418.5,-187C418.5,-187 322.5,-187 322.5,-187 316.5,-187 310.5,-181 310.5,-175 310.5,-175 310.5,-116 310.5,-116 310.5,-110 316.5,-104 322.5,-104 322.5,-104 418.5,-104 418.5,-104 424.5,-104 430.5,-110 430.5,-116 430.5,-116 430.5,-175 430.5,-175 430.5,-181 424.5,-187 418.5,-187\"/>\n",
       "<text text-anchor=\"start\" x=\"322\" y=\"-171.8\" font-family=\"Helvetica,sans-Serif\" font-size=\"14.00\" fill=\"#000000\">Pclass ≤ &#45;0.968</text>\n",
       "<text text-anchor=\"start\" x=\"334\" y=\"-156.8\" font-family=\"Helvetica,sans-Serif\" font-size=\"14.00\" fill=\"#000000\">gini = 0.312</text>\n",
       "<text text-anchor=\"start\" x=\"324.5\" y=\"-141.8\" font-family=\"Helvetica,sans-Serif\" font-size=\"14.00\" fill=\"#000000\">samples = 284</text>\n",
       "<text text-anchor=\"start\" x=\"318.5\" y=\"-126.8\" font-family=\"Helvetica,sans-Serif\" font-size=\"14.00\" fill=\"#000000\">value = [229, 55]</text>\n",
       "<text text-anchor=\"start\" x=\"341.5\" y=\"-111.8\" font-family=\"Helvetica,sans-Serif\" font-size=\"14.00\" fill=\"#000000\">class = S</text>\n",
       "</g>\n",
       "<!-- 1&#45;&gt;5 -->\n",
       "<g id=\"edge5\" class=\"edge\">\n",
       "<title>1&#45;&gt;5</title>\n",
       "<path fill=\"none\" stroke=\"#000000\" d=\"M370.5,-222.8796C370.5,-214.6838 370.5,-205.9891 370.5,-197.5013\"/>\n",
       "<polygon fill=\"#000000\" stroke=\"#000000\" points=\"374.0001,-197.298 370.5,-187.2981 367.0001,-197.2981 374.0001,-197.298\"/>\n",
       "</g>\n",
       "<!-- 3 -->\n",
       "<g id=\"node4\" class=\"node\">\n",
       "<title>3</title>\n",
       "<path fill=\"#399de5\" stroke=\"#000000\" d=\"M93,-68C93,-68 12,-68 12,-68 6,-68 0,-62 0,-56 0,-56 0,-12 0,-12 0,-6 6,0 12,0 12,0 93,0 93,0 99,0 105,-6 105,-12 105,-12 105,-56 105,-56 105,-62 99,-68 93,-68\"/>\n",
       "<text text-anchor=\"start\" x=\"23.5\" y=\"-52.8\" font-family=\"Helvetica,sans-Serif\" font-size=\"14.00\" fill=\"#000000\">gini = 0.0</text>\n",
       "<text text-anchor=\"start\" x=\"10.5\" y=\"-37.8\" font-family=\"Helvetica,sans-Serif\" font-size=\"14.00\" fill=\"#000000\">samples = 16</text>\n",
       "<text text-anchor=\"start\" x=\"8\" y=\"-22.8\" font-family=\"Helvetica,sans-Serif\" font-size=\"14.00\" fill=\"#000000\">value = [0, 16]</text>\n",
       "<text text-anchor=\"start\" x=\"24.5\" y=\"-7.8\" font-family=\"Helvetica,sans-Serif\" font-size=\"14.00\" fill=\"#000000\">class = u</text>\n",
       "</g>\n",
       "<!-- 2&#45;&gt;3 -->\n",
       "<g id=\"edge3\" class=\"edge\">\n",
       "<title>2&#45;&gt;3</title>\n",
       "<path fill=\"none\" stroke=\"#000000\" d=\"M129.6993,-103.9815C119.2566,-94.5151 108.1667,-84.462 97.7472,-75.0168\"/>\n",
       "<polygon fill=\"#000000\" stroke=\"#000000\" points=\"100.0572,-72.3868 90.2976,-68.2637 95.3559,-77.5731 100.0572,-72.3868\"/>\n",
       "</g>\n",
       "<!-- 4 -->\n",
       "<g id=\"node5\" class=\"node\">\n",
       "<title>4</title>\n",
       "<path fill=\"#e58139\" fill-opacity=\"0.901961\" stroke=\"#000000\" d=\"M216,-68C216,-68 135,-68 135,-68 129,-68 123,-62 123,-56 123,-56 123,-12 123,-12 123,-6 129,0 135,0 135,0 216,0 216,0 222,0 228,-6 228,-12 228,-12 228,-56 228,-56 228,-62 222,-68 216,-68\"/>\n",
       "<text text-anchor=\"start\" x=\"139\" y=\"-52.8\" font-family=\"Helvetica,sans-Serif\" font-size=\"14.00\" fill=\"#000000\">gini = 0.165</text>\n",
       "<text text-anchor=\"start\" x=\"133.5\" y=\"-37.8\" font-family=\"Helvetica,sans-Serif\" font-size=\"14.00\" fill=\"#000000\">samples = 11</text>\n",
       "<text text-anchor=\"start\" x=\"131\" y=\"-22.8\" font-family=\"Helvetica,sans-Serif\" font-size=\"14.00\" fill=\"#000000\">value = [10, 1]</text>\n",
       "<text text-anchor=\"start\" x=\"146.5\" y=\"-7.8\" font-family=\"Helvetica,sans-Serif\" font-size=\"14.00\" fill=\"#000000\">class = S</text>\n",
       "</g>\n",
       "<!-- 2&#45;&gt;4 -->\n",
       "<g id=\"edge4\" class=\"edge\">\n",
       "<title>2&#45;&gt;4</title>\n",
       "<path fill=\"none\" stroke=\"#000000\" d=\"M175.5,-103.9815C175.5,-95.618 175.5,-86.7965 175.5,-78.3409\"/>\n",
       "<polygon fill=\"#000000\" stroke=\"#000000\" points=\"179.0001,-78.2636 175.5,-68.2637 172.0001,-78.2637 179.0001,-78.2636\"/>\n",
       "</g>\n",
       "<!-- 6 -->\n",
       "<g id=\"node7\" class=\"node\">\n",
       "<title>6</title>\n",
       "<path fill=\"#e58139\" fill-opacity=\"0.392157\" stroke=\"#000000\" d=\"M347,-68C347,-68 258,-68 258,-68 252,-68 246,-62 246,-56 246,-56 246,-12 246,-12 246,-6 252,0 258,0 258,0 347,0 347,0 353,0 359,-6 359,-12 359,-12 359,-56 359,-56 359,-62 353,-68 347,-68\"/>\n",
       "<text text-anchor=\"start\" x=\"266\" y=\"-52.8\" font-family=\"Helvetica,sans-Serif\" font-size=\"14.00\" fill=\"#000000\">gini = 0.471</text>\n",
       "<text text-anchor=\"start\" x=\"260.5\" y=\"-37.8\" font-family=\"Helvetica,sans-Serif\" font-size=\"14.00\" fill=\"#000000\">samples = 66</text>\n",
       "<text text-anchor=\"start\" x=\"254\" y=\"-22.8\" font-family=\"Helvetica,sans-Serif\" font-size=\"14.00\" fill=\"#000000\">value = [41, 25]</text>\n",
       "<text text-anchor=\"start\" x=\"273.5\" y=\"-7.8\" font-family=\"Helvetica,sans-Serif\" font-size=\"14.00\" fill=\"#000000\">class = S</text>\n",
       "</g>\n",
       "<!-- 5&#45;&gt;6 -->\n",
       "<g id=\"edge6\" class=\"edge\">\n",
       "<title>5&#45;&gt;6</title>\n",
       "<path fill=\"none\" stroke=\"#000000\" d=\"M345.1793,-103.9815C339.7984,-95.1585 334.1068,-85.8258 328.6941,-76.9506\"/>\n",
       "<polygon fill=\"#000000\" stroke=\"#000000\" points=\"331.5912,-74.9789 323.3962,-68.2637 325.6149,-78.6236 331.5912,-74.9789\"/>\n",
       "</g>\n",
       "<!-- 7 -->\n",
       "<g id=\"node8\" class=\"node\">\n",
       "<title>7</title>\n",
       "<path fill=\"#e58139\" fill-opacity=\"0.839216\" stroke=\"#000000\" d=\"M485.5,-68C485.5,-68 389.5,-68 389.5,-68 383.5,-68 377.5,-62 377.5,-56 377.5,-56 377.5,-12 377.5,-12 377.5,-6 383.5,0 389.5,0 389.5,0 485.5,0 485.5,0 491.5,0 497.5,-6 497.5,-12 497.5,-12 497.5,-56 497.5,-56 497.5,-62 491.5,-68 485.5,-68\"/>\n",
       "<text text-anchor=\"start\" x=\"401\" y=\"-52.8\" font-family=\"Helvetica,sans-Serif\" font-size=\"14.00\" fill=\"#000000\">gini = 0.237</text>\n",
       "<text text-anchor=\"start\" x=\"391.5\" y=\"-37.8\" font-family=\"Helvetica,sans-Serif\" font-size=\"14.00\" fill=\"#000000\">samples = 218</text>\n",
       "<text text-anchor=\"start\" x=\"385.5\" y=\"-22.8\" font-family=\"Helvetica,sans-Serif\" font-size=\"14.00\" fill=\"#000000\">value = [188, 30]</text>\n",
       "<text text-anchor=\"start\" x=\"408.5\" y=\"-7.8\" font-family=\"Helvetica,sans-Serif\" font-size=\"14.00\" fill=\"#000000\">class = S</text>\n",
       "</g>\n",
       "<!-- 5&#45;&gt;7 -->\n",
       "<g id=\"edge7\" class=\"edge\">\n",
       "<title>5&#45;&gt;7</title>\n",
       "<path fill=\"none\" stroke=\"#000000\" d=\"M395.4483,-103.9815C400.7501,-95.1585 406.3581,-85.8258 411.6911,-76.9506\"/>\n",
       "<polygon fill=\"#000000\" stroke=\"#000000\" points=\"414.7605,-78.638 416.9111,-68.2637 408.7604,-75.0325 414.7605,-78.638\"/>\n",
       "</g>\n",
       "<!-- 9 -->\n",
       "<g id=\"node10\" class=\"node\">\n",
       "<title>9</title>\n",
       "<path fill=\"#399de5\" fill-opacity=\"0.937255\" stroke=\"#000000\" d=\"M670.5,-187C670.5,-187 586.5,-187 586.5,-187 580.5,-187 574.5,-181 574.5,-175 574.5,-175 574.5,-116 574.5,-116 574.5,-110 580.5,-104 586.5,-104 586.5,-104 670.5,-104 670.5,-104 676.5,-104 682.5,-110 682.5,-116 682.5,-116 682.5,-175 682.5,-175 682.5,-181 676.5,-187 670.5,-187\"/>\n",
       "<text text-anchor=\"start\" x=\"586.5\" y=\"-171.8\" font-family=\"Helvetica,sans-Serif\" font-size=\"14.00\" fill=\"#000000\">Fare ≤ &#45;0.057</text>\n",
       "<text text-anchor=\"start\" x=\"592\" y=\"-156.8\" font-family=\"Helvetica,sans-Serif\" font-size=\"14.00\" fill=\"#000000\">gini = 0.112</text>\n",
       "<text text-anchor=\"start\" x=\"582.5\" y=\"-141.8\" font-family=\"Helvetica,sans-Serif\" font-size=\"14.00\" fill=\"#000000\">samples = 101</text>\n",
       "<text text-anchor=\"start\" x=\"584\" y=\"-126.8\" font-family=\"Helvetica,sans-Serif\" font-size=\"14.00\" fill=\"#000000\">value = [6, 95]</text>\n",
       "<text text-anchor=\"start\" x=\"600.5\" y=\"-111.8\" font-family=\"Helvetica,sans-Serif\" font-size=\"14.00\" fill=\"#000000\">class = u</text>\n",
       "</g>\n",
       "<!-- 8&#45;&gt;9 -->\n",
       "<g id=\"edge9\" class=\"edge\">\n",
       "<title>8&#45;&gt;9</title>\n",
       "<path fill=\"none\" stroke=\"#000000\" d=\"M628.5,-222.8796C628.5,-214.6838 628.5,-205.9891 628.5,-197.5013\"/>\n",
       "<polygon fill=\"#000000\" stroke=\"#000000\" points=\"632.0001,-197.298 628.5,-187.2981 625.0001,-197.2981 632.0001,-197.298\"/>\n",
       "</g>\n",
       "<!-- 12 -->\n",
       "<g id=\"node13\" class=\"node\">\n",
       "<title>12</title>\n",
       "<path fill=\"#e58139\" fill-opacity=\"0.196078\" stroke=\"#000000\" d=\"M863,-187C863,-187 774,-187 774,-187 768,-187 762,-181 762,-175 762,-175 762,-116 762,-116 762,-110 768,-104 774,-104 774,-104 863,-104 863,-104 869,-104 875,-110 875,-116 875,-116 875,-175 875,-175 875,-181 869,-187 863,-187\"/>\n",
       "<text text-anchor=\"start\" x=\"776.5\" y=\"-171.8\" font-family=\"Helvetica,sans-Serif\" font-size=\"14.00\" fill=\"#000000\">Fare ≤ &#45;0.232</text>\n",
       "<text text-anchor=\"start\" x=\"782\" y=\"-156.8\" font-family=\"Helvetica,sans-Serif\" font-size=\"14.00\" fill=\"#000000\">gini = 0.494</text>\n",
       "<text text-anchor=\"start\" x=\"776.5\" y=\"-141.8\" font-family=\"Helvetica,sans-Serif\" font-size=\"14.00\" fill=\"#000000\">samples = 65</text>\n",
       "<text text-anchor=\"start\" x=\"770\" y=\"-126.8\" font-family=\"Helvetica,sans-Serif\" font-size=\"14.00\" fill=\"#000000\">value = [36, 29]</text>\n",
       "<text text-anchor=\"start\" x=\"789.5\" y=\"-111.8\" font-family=\"Helvetica,sans-Serif\" font-size=\"14.00\" fill=\"#000000\">class = S</text>\n",
       "</g>\n",
       "<!-- 8&#45;&gt;12 -->\n",
       "<g id=\"edge12\" class=\"edge\">\n",
       "<title>8&#45;&gt;12</title>\n",
       "<path fill=\"none\" stroke=\"#000000\" d=\"M688.6172,-226.8477C709.1612,-213.9806 732.2327,-199.5306 753.1676,-186.4187\"/>\n",
       "<polygon fill=\"#000000\" stroke=\"#000000\" points=\"755.0696,-189.3573 761.6868,-181.083 751.354,-183.4248 755.0696,-189.3573\"/>\n",
       "</g>\n",
       "<!-- 10 -->\n",
       "<g id=\"node11\" class=\"node\">\n",
       "<title>10</title>\n",
       "<path fill=\"#399de5\" fill-opacity=\"0.874510\" stroke=\"#000000\" d=\"M609,-68C609,-68 528,-68 528,-68 522,-68 516,-62 516,-56 516,-56 516,-12 516,-12 516,-6 522,0 528,0 528,0 609,0 609,0 615,0 621,-6 621,-12 621,-12 621,-56 621,-56 621,-62 615,-68 609,-68\"/>\n",
       "<text text-anchor=\"start\" x=\"532\" y=\"-52.8\" font-family=\"Helvetica,sans-Serif\" font-size=\"14.00\" fill=\"#000000\">gini = 0.198</text>\n",
       "<text text-anchor=\"start\" x=\"526.5\" y=\"-37.8\" font-family=\"Helvetica,sans-Serif\" font-size=\"14.00\" fill=\"#000000\">samples = 45</text>\n",
       "<text text-anchor=\"start\" x=\"524\" y=\"-22.8\" font-family=\"Helvetica,sans-Serif\" font-size=\"14.00\" fill=\"#000000\">value = [5, 40]</text>\n",
       "<text text-anchor=\"start\" x=\"540.5\" y=\"-7.8\" font-family=\"Helvetica,sans-Serif\" font-size=\"14.00\" fill=\"#000000\">class = u</text>\n",
       "</g>\n",
       "<!-- 9&#45;&gt;10 -->\n",
       "<g id=\"edge10\" class=\"edge\">\n",
       "<title>9&#45;&gt;10</title>\n",
       "<path fill=\"none\" stroke=\"#000000\" d=\"M606.1582,-103.9815C601.4598,-95.2504 596.4929,-86.0202 591.7617,-77.2281\"/>\n",
       "<polygon fill=\"#000000\" stroke=\"#000000\" points=\"594.7586,-75.4111 586.9379,-68.2637 588.5944,-78.7282 594.7586,-75.4111\"/>\n",
       "</g>\n",
       "<!-- 11 -->\n",
       "<g id=\"node12\" class=\"node\">\n",
       "<title>11</title>\n",
       "<path fill=\"#399de5\" fill-opacity=\"0.980392\" stroke=\"#000000\" d=\"M732,-68C732,-68 651,-68 651,-68 645,-68 639,-62 639,-56 639,-56 639,-12 639,-12 639,-6 645,0 651,0 651,0 732,0 732,0 738,0 744,-6 744,-12 744,-12 744,-56 744,-56 744,-62 738,-68 732,-68\"/>\n",
       "<text text-anchor=\"start\" x=\"655\" y=\"-52.8\" font-family=\"Helvetica,sans-Serif\" font-size=\"14.00\" fill=\"#000000\">gini = 0.035</text>\n",
       "<text text-anchor=\"start\" x=\"649.5\" y=\"-37.8\" font-family=\"Helvetica,sans-Serif\" font-size=\"14.00\" fill=\"#000000\">samples = 56</text>\n",
       "<text text-anchor=\"start\" x=\"647\" y=\"-22.8\" font-family=\"Helvetica,sans-Serif\" font-size=\"14.00\" fill=\"#000000\">value = [1, 55]</text>\n",
       "<text text-anchor=\"start\" x=\"663.5\" y=\"-7.8\" font-family=\"Helvetica,sans-Serif\" font-size=\"14.00\" fill=\"#000000\">class = u</text>\n",
       "</g>\n",
       "<!-- 9&#45;&gt;11 -->\n",
       "<g id=\"edge11\" class=\"edge\">\n",
       "<title>9&#45;&gt;11</title>\n",
       "<path fill=\"none\" stroke=\"#000000\" d=\"M651.9589,-103.9815C656.8922,-95.2504 662.1074,-86.0202 667.0752,-77.2281\"/>\n",
       "<polygon fill=\"#000000\" stroke=\"#000000\" points=\"670.2681,-78.6918 672.1403,-68.2637 664.1737,-75.2483 670.2681,-78.6918\"/>\n",
       "</g>\n",
       "<!-- 13 -->\n",
       "<g id=\"node14\" class=\"node\">\n",
       "<title>13</title>\n",
       "<path fill=\"#399de5\" fill-opacity=\"0.141176\" stroke=\"#000000\" d=\"M863,-68C863,-68 774,-68 774,-68 768,-68 762,-62 762,-56 762,-56 762,-12 762,-12 762,-6 768,0 774,0 774,0 863,0 863,0 869,0 875,-6 875,-12 875,-12 875,-56 875,-56 875,-62 869,-68 863,-68\"/>\n",
       "<text text-anchor=\"start\" x=\"782\" y=\"-52.8\" font-family=\"Helvetica,sans-Serif\" font-size=\"14.00\" fill=\"#000000\">gini = 0.497</text>\n",
       "<text text-anchor=\"start\" x=\"776.5\" y=\"-37.8\" font-family=\"Helvetica,sans-Serif\" font-size=\"14.00\" fill=\"#000000\">samples = 52</text>\n",
       "<text text-anchor=\"start\" x=\"770\" y=\"-22.8\" font-family=\"Helvetica,sans-Serif\" font-size=\"14.00\" fill=\"#000000\">value = [24, 28]</text>\n",
       "<text text-anchor=\"start\" x=\"790.5\" y=\"-7.8\" font-family=\"Helvetica,sans-Serif\" font-size=\"14.00\" fill=\"#000000\">class = u</text>\n",
       "</g>\n",
       "<!-- 12&#45;&gt;13 -->\n",
       "<g id=\"edge13\" class=\"edge\">\n",
       "<title>12&#45;&gt;13</title>\n",
       "<path fill=\"none\" stroke=\"#000000\" d=\"M818.5,-103.9815C818.5,-95.618 818.5,-86.7965 818.5,-78.3409\"/>\n",
       "<polygon fill=\"#000000\" stroke=\"#000000\" points=\"822.0001,-78.2636 818.5,-68.2637 815.0001,-78.2637 822.0001,-78.2636\"/>\n",
       "</g>\n",
       "<!-- 14 -->\n",
       "<g id=\"node15\" class=\"node\">\n",
       "<title>14</title>\n",
       "<path fill=\"#e58139\" fill-opacity=\"0.917647\" stroke=\"#000000\" d=\"M986,-68C986,-68 905,-68 905,-68 899,-68 893,-62 893,-56 893,-56 893,-12 893,-12 893,-6 899,0 905,0 905,0 986,0 986,0 992,0 998,-6 998,-12 998,-12 998,-56 998,-56 998,-62 992,-68 986,-68\"/>\n",
       "<text text-anchor=\"start\" x=\"909\" y=\"-52.8\" font-family=\"Helvetica,sans-Serif\" font-size=\"14.00\" fill=\"#000000\">gini = 0.142</text>\n",
       "<text text-anchor=\"start\" x=\"903.5\" y=\"-37.8\" font-family=\"Helvetica,sans-Serif\" font-size=\"14.00\" fill=\"#000000\">samples = 13</text>\n",
       "<text text-anchor=\"start\" x=\"901\" y=\"-22.8\" font-family=\"Helvetica,sans-Serif\" font-size=\"14.00\" fill=\"#000000\">value = [12, 1]</text>\n",
       "<text text-anchor=\"start\" x=\"916.5\" y=\"-7.8\" font-family=\"Helvetica,sans-Serif\" font-size=\"14.00\" fill=\"#000000\">class = S</text>\n",
       "</g>\n",
       "<!-- 12&#45;&gt;14 -->\n",
       "<g id=\"edge14\" class=\"edge\">\n",
       "<title>12&#45;&gt;14</title>\n",
       "<path fill=\"none\" stroke=\"#000000\" d=\"M865.7901,-103.9815C876.5725,-94.5151 888.023,-84.462 898.7813,-75.0168\"/>\n",
       "<polygon fill=\"#000000\" stroke=\"#000000\" points=\"901.2676,-77.4915 906.4732,-68.2637 896.6493,-72.2311 901.2676,-77.4915\"/>\n",
       "</g>\n",
       "</g>\n",
       "</svg>\n"
      ],
      "text/plain": [
       "<graphviz.files.Source at 0x1a16e85630>"
      ]
     },
     "execution_count": 25,
     "metadata": {},
     "output_type": "execute_result"
    }
   ],
   "source": [
    "dot_data = tree.export_graphviz(clf, out_file=None,\n",
    "                                feature_names=feature_names,class_names='Survived',\n",
    "                                filled=True, rounded=True, special_characters=True)\n",
    "graph = graphviz.Source(dot_data)\n",
    "graph"
   ]
  },
  {
   "cell_type": "markdown",
   "metadata": {},
   "source": [
    "> <font color='red'>This tree has done the best on the held-out test data so far.</font>"
   ]
  },
  {
   "cell_type": "markdown",
   "metadata": {},
   "source": [
    "### 2.4 Logistic Regression, for comparison\n",
    "Use a 10-fold cross-validated logistic regression predict survival. Make sure you come up with an appropriate way of handling each of the input variables before feeding them in to the regression. \n",
    "* How does the cross-validated test performance of this model compare to the decision tree?\n",
    "* How do the coefficients from the logistic regression compare to the feature importances from the decision tree? Create a scatter plot that shows this relationship (one dot for each variable, y-axis is feature importance, x-axis is....?)"
   ]
  },
  {
   "cell_type": "markdown",
   "metadata": {},
   "source": [
    "> <font color='red'>First, do the cross-validation to get the accuracy on the held-out test data (again I'm a little confused here, because we generate 10 different sets of coefficients, so we cannot extract a single set of coefficients here):</font>"
   ]
  },
  {
   "cell_type": "code",
   "execution_count": 26,
   "metadata": {},
   "outputs": [
    {
     "name": "stdout",
     "output_type": "stream",
     "text": [
      "accuracy on held-out data = 0.84\n"
     ]
    }
   ],
   "source": [
    "# import necessary modules\n",
    "from sklearn.linear_model import LogisticRegressionCV\n",
    "\n",
    "# logistic regression with cross validation built in\n",
    "logreg = LogisticRegressionCV(cv=10, random_state=np.random.seed(22))\n",
    "logreg = logreg.fit(X_train, Y_train)\n",
    "\n",
    "# predict on held-out data\n",
    "Y_test_predicted = logreg.predict(X_test)\n",
    "\n",
    "# accuracy\n",
    "accuracy = compute_accuracy(Y_test_predicted, Y_test)\n",
    "print('accuracy on held-out data = {:.2f}'.format(accuracy))"
   ]
  },
  {
   "cell_type": "markdown",
   "metadata": {},
   "source": [
    "> <font color='red'>This cross-validated logistic regression does almost as well on the held-out test data as the best performing tree so far.\n",
    ">\n",
    "> Next just do a standard logistic regression (without cross-validation) to get a single set of coefficients:</font>"
   ]
  },
  {
   "cell_type": "code",
   "execution_count": 27,
   "metadata": {},
   "outputs": [
    {
     "name": "stdout",
     "output_type": "stream",
     "text": [
      "accuracy on held-out data = 0.84\n"
     ]
    }
   ],
   "source": [
    "# import necessary modules\n",
    "from sklearn.linear_model import LogisticRegression\n",
    "\n",
    "# logistic regression\n",
    "logreg = LogisticRegression(solver='lbfgs')\n",
    "logreg = logreg.fit(X_train, Y_train)\n",
    "\n",
    "# predict on held-out data\n",
    "Y_test_predicted = logreg.predict(X_test)\n",
    "\n",
    "# accuracy\n",
    "accuracy = compute_accuracy(Y_test_predicted, Y_test)\n",
    "print('accuracy on held-out data = {:.2f}'.format(accuracy))"
   ]
  },
  {
   "cell_type": "code",
   "execution_count": 28,
   "metadata": {},
   "outputs": [
    {
     "data": {
      "image/png": "[encoded data removed]",
      "text/plain": [
       "<Figure size 432x288 with 1 Axes>"
      ]
     },
     "metadata": {
      "needs_background": "light"
     },
     "output_type": "display_data"
    }
   ],
   "source": [
    "fig, ax = plt.subplots()\n",
    "\n",
    "ax.scatter(np.abs(logreg.coef_), clf.feature_importances_)\n",
    "ax.set_xlabel('logistic regression coefficient (absolute magnitude)')\n",
    "ax.set_ylabel('tree feature importance')\n",
    "\n",
    "plt.show(fig)"
   ]
  },
  {
   "cell_type": "markdown",
   "metadata": {},
   "source": [
    "> <font color='red'>As we can see from the above, the feature importances extracted from the decision tree correlate well with the absolute magnitude of the logistic regression coefficients. This makes sense, since the most important features in the decision tree should also have the strongest influence on predicting the target in a logistic regression.</font>"
   ]
  },
  {
   "cell_type": "markdown",
   "metadata": {},
   "source": [
    "### 2.5 Missing Data\n",
    "Have you been paying close attention to your features? If not, now is a good time to start. Perform analysis that allows you to answer the following questions:\n",
    "* Do any of your features have missing data? If so, which ones? What percent of observations have missing data?\n",
    "* What happens to observations with missing data when you run the decision tree and logistic regression models above?\n",
    "* Use one of the methods we discussed in class to impute missing values\n",
    "* Rerun your decision tree and logistic regression on the new dataset with imputed missing values. What do you notice?"
   ]
  },
  {
   "cell_type": "markdown",
   "metadata": {},
   "source": [
    "* Do any of your features have missing data? If so, which ones? What percent of observations have missing data?\n",
    "\n",
    "> <font color='red'>Yes - as described in Part 1, `Age` and `Embarked` have missing data.</font>\n",
    "\n",
    "* What happens to observations with missing data when you run the decision tree and logistic regression models above?\n",
    "\n",
    "> <font color='red'>I have not shown it here, but the decision tree (at least in the way that I have implemented it) does not work with missing data.</font>\n",
    "\n",
    "* Use one of the methods we discussed in class to impute missing values\n",
    "\n",
    "> <font color='red'>For `Age`, I choose to impute missing values by inputting the mean value. However, `Embarked` is categorical, and thus the mean value is meaningless. Therefore, we input the mode value instead.</font>"
   ]
  },
  {
   "cell_type": "code",
   "execution_count": 29,
   "metadata": {},
   "outputs": [],
   "source": [
    "# impute for Embarked\n",
    "# the mode is port S - found in part 1\n",
    "train_norm = train.copy()\n",
    "for i in range(len(train_norm.index)):\n",
    "    if ~np.isfinite(train_norm['Embarked_S'][i]):\n",
    "        train_norm.loc[i, 'Embarked_C'] = 0\n",
    "        train_norm.loc[i, 'Embarked_Q'] = 0\n",
    "        train_norm.loc[i, 'Embarked_S'] = 1\n",
    "\n",
    "# normalize\n",
    "for col in train.columns:\n",
    "    if col!='Survived':\n",
    "        train_norm[col] = normalize(train_norm[col].values)\n",
    "\n",
    "# convert survived into -1 and 1\n",
    "for i in range(len(train_norm.index)):\n",
    "    if train_norm['Survived'][i] == 0:\n",
    "        train_norm.loc[i, 'Survived'] = -1\n",
    "        \n",
    "# impute for Age\n",
    "mean_Age = np.nanmean(train_norm['Age'])\n",
    "for i in range(len(train_norm.index)):\n",
    "    if ~np.isfinite(train_norm['Age'][i]):\n",
    "        train_norm.loc[i, 'Age'] = mean_Age\n",
    "        \n",
    "# get X and Y\n",
    "feature_names = ['PassengerId','Pclass','Sex','Age','SibSp','Parch','Fare','Embarked_C','Embarked_Q','Embarked_S']\n",
    "X = train_norm[feature_names].values\n",
    "Y = train_norm['Survived'].values\n",
    "\n",
    "# training and testing\n",
    "X_train, X_test, Y_train, Y_test = train_test_split(X, Y, test_size=0.33, random_state=np.random.seed(22))"
   ]
  },
  {
   "cell_type": "code",
   "execution_count": 30,
   "metadata": {},
   "outputs": [
    {
     "name": "stdout",
     "output_type": "stream",
     "text": [
      "accuracy on held-out data = 0.80\n"
     ]
    }
   ],
   "source": [
    "# fit the tree\n",
    "clf = tree.DecisionTreeClassifier(max_depth=3, min_samples_leaf=4)\n",
    "clf = clf.fit(X_train, Y_train)\n",
    "\n",
    "# predict on the held-out data\n",
    "Y_test_predicted = clf.predict(X_test)\n",
    "\n",
    "# accuracy\n",
    "accuracy = compute_accuracy(Y_test_predicted, Y_test)\n",
    "print('accuracy on held-out data = {:.2f}'.format(accuracy))"
   ]
  },
  {
   "cell_type": "code",
   "execution_count": 31,
   "metadata": {},
   "outputs": [
    {
     "name": "stdout",
     "output_type": "stream",
     "text": [
      "accuracy on held-out data = 0.78\n"
     ]
    }
   ],
   "source": [
    "# logistic regression\n",
    "logreg = LogisticRegression(solver='lbfgs')\n",
    "logreg = logreg.fit(X_train, Y_train)\n",
    "\n",
    "# predict on held-out data\n",
    "Y_test_predicted = logreg.predict(X_test)\n",
    "\n",
    "# accuracy\n",
    "accuracy = compute_accuracy(Y_test_predicted, Y_test)\n",
    "print('accuracy on held-out data = {:.2f}'.format(accuracy))"
   ]
  },
  {
   "cell_type": "markdown",
   "metadata": {},
   "source": [
    "* Rerun your decision tree and logistic regression on the new dataset with imputed missing values. What do you notice?\n",
    "\n",
    "> <font color='red'>The model performs worse with the imputed values. This makes sense in my case, because in effect we made up data and added new rows that includes this made up data to the analysis.</font>"
   ]
  },
  {
   "cell_type": "markdown",
   "metadata": {},
   "source": [
    "## 2.6 (extra credit): Implement a Decision Tree in Python\n",
    "\n",
    "Now, put away the canned algorithm from sklearn, and write your own decision tree algorithm. Use the simple recursive algorithm we described in class, and use your algorithm to re-do the analysis in 2.1. Do not worry about implementing bells and whistles. However, you will definitely need the following:\n",
    " * A \"GrowTree\" function that implements the recursive algorithm\n",
    " * A function to calculate information gain\n",
    " \n",
    "Implement the minimum required code to build a decision tree. How does your algorithm compare in performance to the sklearn algorithm? What do you think are the main sources of discrepancy? If you had more time, what would you change to improve your algorithm?"
   ]
  },
  {
   "cell_type": "markdown",
   "metadata": {},
   "source": [
    "> <font color='red'>Sorry... the end of the semester is busy.</font>"
   ]
  },
  {
   "cell_type": "markdown",
   "metadata": {},
   "source": [
    "## 3: Many Trees\n",
    "\n",
    "### 3.1: Random Forest\n",
    "Use the [random forest classifier](http://scikit-learn.org/stable/modules/generated/sklearn.ensemble.RandomForestClassifier.html) to predict survival on the titanic. Use cross-validation on the training data to choose the best hyper-parameters. \n",
    "* What hyperparameters did you select with cross-validation?\n",
    "* How does the cross-validated performance (average across validation folds) compare to the test performance (using the top-performing, fitted model selected through cross-validation)?\n",
    "* How does the RF performance compare to the decision tree and logistic regression?\n",
    "* Create a plot that shows how cross-validated performance (y-axis) relates to the number of trees in the forest (x-axis)."
   ]
  },
  {
   "cell_type": "markdown",
   "metadata": {},
   "source": [
    "> <font color='red'>First, go back to the data without imputed values:</font>"
   ]
  },
  {
   "cell_type": "code",
   "execution_count": 32,
   "metadata": {},
   "outputs": [],
   "source": [
    "# normalize\n",
    "train_norm = train.copy()\n",
    "for col in train.columns:\n",
    "    if col!='Survived':\n",
    "        train_norm[col] = normalize(train[col].values)\n",
    "        \n",
    "# drop NaNs\n",
    "train_norm.dropna(inplace=True)\n",
    "train_norm.reset_index(drop=True, inplace=True)\n",
    "\n",
    "# convert survived into -1 and 1\n",
    "for i in range(len(train_norm.index)):\n",
    "    if train_norm['Survived'][i] == 0:\n",
    "        train_norm.loc[i, 'Survived'] = -1\n",
    "        \n",
    "# get X and Y\n",
    "feature_names = ['PassengerId','Pclass','Sex','Age','SibSp','Parch','Fare','Embarked_C','Embarked_Q','Embarked_S']\n",
    "X = train_norm[feature_names].values\n",
    "Y = train_norm['Survived'].values\n",
    "\n",
    "# training and testing\n",
    "X_train, X_test, Y_train, Y_test = train_test_split(X, Y, test_size=0.33, random_state=np.random.seed(22))\n",
    "\n",
    "# set up the 10-fold cross validation\n",
    "kf = KFold(n_splits=10, shuffle=True, random_state=np.random.seed(22))\n",
    "\n",
    "# get the training and testing indexes\n",
    "kf_train_inds = []\n",
    "kf_test_inds = []\n",
    "for kf_train_ind, kf_test_ind in kf.split(X_train):\n",
    "    kf_train_inds.append(kf_train_ind)\n",
    "    kf_test_inds.append(kf_test_ind)"
   ]
  },
  {
   "cell_type": "markdown",
   "metadata": {},
   "source": [
    "> <font color='red'>Now do the random forest:</font>"
   ]
  },
  {
   "cell_type": "code",
   "execution_count": 33,
   "metadata": {},
   "outputs": [
    {
     "data": {
      "application/vnd.jupyter.widget-view+json": {
       "model_id": "ce0736c0dbb84816be07253769229778",
       "version_major": 2,
       "version_minor": 0
      },
      "text/plain": [
       "HBox(children=(IntProgress(value=0, max=99), HTML(value='')))"
      ]
     },
     "metadata": {},
     "output_type": "display_data"
    },
    {
     "name": "stdout",
     "output_type": "stream",
     "text": [
      "\n"
     ]
    }
   ],
   "source": [
    "# import module\n",
    "from sklearn.ensemble import RandomForestClassifier\n",
    "\n",
    "# n_estimators to test\n",
    "n_trees = np.arange(2,101)\n",
    "\n",
    "# storage vectors\n",
    "train_accuracies = np.zeros(len(n_trees))\n",
    "test_accuracies = np.zeros(len(n_trees))\n",
    "\n",
    "# iterate through max depths\n",
    "for i in tqdm_notebook(range(len(n_trees))):\n",
    "    \n",
    "    # storage vectors\n",
    "    kf_train_accuracies = np.zeros(10)\n",
    "    kf_test_accuracies = np.zeros(10)\n",
    "    \n",
    "    # iterate through folds\n",
    "    for j in range(10):\n",
    "        \n",
    "        # fit the tree\n",
    "        clf = RandomForestClassifier(n_estimators=n_trees[i], max_depth=3, min_samples_leaf=4,\n",
    "                                     random_state=np.random.seed(22))\n",
    "        clf = clf.fit(X_train[kf_train_inds[j]], Y_train[kf_train_inds[j]])\n",
    "        \n",
    "        # predicted values\n",
    "        Y_kf_train_predicted = clf.predict(X_train[kf_train_inds[j]])\n",
    "        Y_kf_test_predicted = clf.predict(X_train[kf_test_inds[j]])\n",
    "\n",
    "        # accuracies\n",
    "        kf_train_accuracies[j] = compute_accuracy(Y_kf_train_predicted, Y_train[kf_train_inds[j]])\n",
    "        kf_test_accuracies[j] = compute_accuracy(Y_kf_test_predicted, Y_train[kf_test_inds[j]])\n",
    "        \n",
    "    # store the average\n",
    "    train_accuracies[i] = np.mean(kf_train_accuracies)\n",
    "    test_accuracies[i] = np.mean(kf_test_accuracies)"
   ]
  },
  {
   "cell_type": "code",
   "execution_count": 34,
   "metadata": {},
   "outputs": [
    {
     "name": "stdout",
     "output_type": "stream",
     "text": [
      "n trees that performed the best on the testing fold = 18\n",
      "accuracy of this tree = 0.80\n"
     ]
    },
    {
     "data": {
      "image/png": "[encoded data removed]",
      "text/plain": [
       "<Figure size 432x288 with 1 Axes>"
      ]
     },
     "metadata": {
      "needs_background": "light"
     },
     "output_type": "display_data"
    }
   ],
   "source": [
    "# print useful numbers\n",
    "max_ind = np.argmax(test_accuracies)\n",
    "print('n trees that performed the best on the testing fold = {}'.format(n_trees[max_ind]))\n",
    "print('accuracy of this tree = {:.2f}'.format(test_accuracies[max_ind]))\n",
    "\n",
    "# plot\n",
    "fig, ax = plt.subplots()\n",
    "\n",
    "ax.plot(n_trees, train_accuracies, '+-', c='C0', label='training')\n",
    "ax.plot(n_trees, test_accuracies, '+-', c='C1', label='testing')\n",
    "\n",
    "ax.legend()\n",
    "ax.set_xlabel('n trees')\n",
    "ax.set_ylabel('accuracy')\n",
    "\n",
    "plt.show(fig)"
   ]
  },
  {
   "cell_type": "markdown",
   "metadata": {},
   "source": [
    "> <font color='red'>Now use the best forest to test on the held-out data:</font>"
   ]
  },
  {
   "cell_type": "code",
   "execution_count": 35,
   "metadata": {},
   "outputs": [
    {
     "name": "stdout",
     "output_type": "stream",
     "text": [
      "accuracy on held-out data = 0.86\n"
     ]
    }
   ],
   "source": [
    "# fit the tree\n",
    "clf = RandomForestClassifier(n_estimators=18, max_depth=3, min_samples_leaf=4,\n",
    "                             random_state=np.random.seed(22))\n",
    "clf = clf.fit(X_train, Y_train)\n",
    "\n",
    "# predict on the held-out data\n",
    "Y_test_predicted = clf.predict(X_test)\n",
    "\n",
    "# accuracy\n",
    "accuracy = compute_accuracy(Y_test_predicted, Y_test)\n",
    "print('accuracy on held-out data = {:.2f}'.format(accuracy))"
   ]
  },
  {
   "cell_type": "markdown",
   "metadata": {},
   "source": [
    "* What hyperparameters did you select with cross-validation?\n",
    "\n",
    "> <font color='red'>I tuned for the number of trees in the forest. For max depth and the minimimum number of samples per leaf, I used the optimal values found in part 2.3.</font>\n",
    "\n",
    "* How does the cross-validated performance (average across validation folds) compare to the test performance (using the top-performing, fitted model selected through cross-validation)?\n",
    "\n",
    "> <font color='red'>The best performing forest does better on the held-out data than on the cross-validated testing folds, which illustrates that the forest generalizes well.</font>\n",
    "\n",
    "* How does the RF performance compare to the decision tree and logistic regression?\n",
    "\n",
    "> <font color='red'>The best performing forest does about as well as the best performing decision tree, and slightly better than the logistic regression.</font>\n",
    "\n",
    "* Create a plot that shows how cross-validated performance (y-axis) relates to the number of trees in the forest (x-axis).\n",
    "\n",
    "> <font color='red'>See above. After a certain number of trees (around 15), having more trees appears to do little to improve accuracy on either the training or testing folds.</font>"
   ]
  },
  {
   "cell_type": "markdown",
   "metadata": {},
   "source": [
    "### 3.2: Gradient Boosting\n",
    "\n",
    "Use the [Gradient Boosting classifier](http://scikit-learn.org/stable/modules/generated/sklearn.ensemble.GradientBoostingClassifier.html) to predict survival on the Titanic. Tune your hyperparameters. \n",
    "* How does the GBM performance compare to the other models?\n",
    "* Create a figure showing the feature importances in your final model (with properly tuned hyperparameters)"
   ]
  },
  {
   "cell_type": "code",
   "execution_count": 36,
   "metadata": {},
   "outputs": [
    {
     "data": {
      "application/vnd.jupyter.widget-view+json": {
       "model_id": "5d67fa6c92e042e18f034ba8d4c348fc",
       "version_major": 2,
       "version_minor": 0
      },
      "text/plain": [
       "HBox(children=(IntProgress(value=0, max=25), HTML(value='')))"
      ]
     },
     "metadata": {},
     "output_type": "display_data"
    },
    {
     "name": "stdout",
     "output_type": "stream",
     "text": [
      "\n"
     ]
    }
   ],
   "source": [
    "# import module\n",
    "from sklearn.ensemble import GradientBoostingClassifier\n",
    "\n",
    "# learning rates to test\n",
    "learning_rates = np.linspace(0.01,0.5,25)\n",
    "\n",
    "# storage vectors\n",
    "train_accuracies = np.zeros(len(learning_rates))\n",
    "test_accuracies = np.zeros(len(learning_rates))\n",
    "\n",
    "# iterate through max depths\n",
    "for i in tqdm_notebook(range(len(learning_rates))):\n",
    "    \n",
    "    # storage vectors\n",
    "    kf_train_accuracies = np.zeros(10)\n",
    "    kf_test_accuracies = np.zeros(10)\n",
    "    \n",
    "    # iterate through folds\n",
    "    for j in range(10):\n",
    "        \n",
    "        # fit the tree\n",
    "        clf = GradientBoostingClassifier(learning_rate=learning_rates[i], max_depth=3, min_samples_leaf=4,\n",
    "                                         random_state=np.random.seed(22))\n",
    "        clf = clf.fit(X_train[kf_train_inds[j]], Y_train[kf_train_inds[j]])\n",
    "        \n",
    "        # predicted values\n",
    "        Y_kf_train_predicted = clf.predict(X_train[kf_train_inds[j]])\n",
    "        Y_kf_test_predicted = clf.predict(X_train[kf_test_inds[j]])\n",
    "\n",
    "        # accuracies\n",
    "        kf_train_accuracies[j] = compute_accuracy(Y_kf_train_predicted, Y_train[kf_train_inds[j]])\n",
    "        kf_test_accuracies[j] = compute_accuracy(Y_kf_test_predicted, Y_train[kf_test_inds[j]])\n",
    "        \n",
    "    # store the average\n",
    "    train_accuracies[i] = np.mean(kf_train_accuracies)\n",
    "    test_accuracies[i] = np.mean(kf_test_accuracies)"
   ]
  },
  {
   "cell_type": "code",
   "execution_count": 37,
   "metadata": {},
   "outputs": [
    {
     "name": "stdout",
     "output_type": "stream",
     "text": [
      "learning rate that performed the best on the testing fold = 0.01\n",
      "accuracy of this model = 0.80\n"
     ]
    },
    {
     "data": {
      "image/png": "[encoded data removed]",
      "text/plain": [
       "<Figure size 432x288 with 1 Axes>"
      ]
     },
     "metadata": {
      "needs_background": "light"
     },
     "output_type": "display_data"
    }
   ],
   "source": [
    "# print useful numbers\n",
    "max_ind = np.argmax(test_accuracies)\n",
    "print('learning rate that performed the best on the testing fold = {}'.format(learning_rates[max_ind]))\n",
    "print('accuracy of this model = {:.2f}'.format(test_accuracies[max_ind]))\n",
    "\n",
    "# plot\n",
    "fig, ax = plt.subplots()\n",
    "\n",
    "ax.plot(learning_rates, train_accuracies, '+-', c='C0', label='training')\n",
    "ax.plot(learning_rates, test_accuracies, '+-', c='C1', label='testing')\n",
    "\n",
    "ax.legend()\n",
    "ax.set_xlabel('learning rate')\n",
    "ax.set_ylabel('accuracy')\n",
    "\n",
    "plt.show(fig)"
   ]
  },
  {
   "cell_type": "code",
   "execution_count": 38,
   "metadata": {},
   "outputs": [
    {
     "name": "stdout",
     "output_type": "stream",
     "text": [
      "accuracy on held-out data = 0.86\n"
     ]
    }
   ],
   "source": [
    "# fit the tree\n",
    "clf = GradientBoostingClassifier(learning_rate=0.01, max_depth=3, min_samples_leaf=4,\n",
    "                                 random_state=np.random.seed(22))\n",
    "clf = clf.fit(X_train, Y_train)\n",
    "\n",
    "# predict on the held-out data\n",
    "Y_test_predicted = clf.predict(X_test)\n",
    "\n",
    "# accuracy\n",
    "accuracy = compute_accuracy(Y_test_predicted, Y_test)\n",
    "print('accuracy on held-out data = {:.2f}'.format(accuracy))"
   ]
  },
  {
   "cell_type": "code",
   "execution_count": 39,
   "metadata": {},
   "outputs": [
    {
     "data": {
      "image/png": "[encoded data removed]",
      "text/plain": [
       "<Figure size 432x288 with 1 Axes>"
      ]
     },
     "metadata": {
      "needs_background": "light"
     },
     "output_type": "display_data"
    }
   ],
   "source": [
    "fig, ax = plt.subplots()\n",
    "\n",
    "ax.bar(np.arange(len(clf.feature_importances_)), clf.feature_importances_)\n",
    "ax.set_xticks(np.arange(len(clf.feature_importances_)))\n",
    "ax.set_xticklabels(feature_names, rotation=45, horizontalalignment='right')\n",
    "\n",
    "ax.set_xlabel('feature')\n",
    "ax.set_ylabel('importance')\n",
    "\n",
    "plt.show(fig)"
   ]
  },
  {
   "cell_type": "markdown",
   "metadata": {},
   "source": [
    "* How does the GBM performance compare to the other models?\n",
    "\n",
    "> <font color='red'>Again, the best perfoming GBM does about the same on the held-out data when compared to the best performing random forest and decision tree, and slightly better than the logistic regression.</font>\n",
    "\n",
    "* Create a figure showing the feature importances in your final model (with properly tuned hyperparameters)\n",
    "\n",
    "> <font color='red'>The feature importances are basically the same as that for the single decision tree.</font>"
   ]
  },
  {
   "cell_type": "markdown",
   "metadata": {},
   "source": [
    "### 3.3 Feature Engineering\n",
    "Revisit the features in your dataset.\n",
    "* Are each of the features being appropriately included in the analysis? \n",
    "* Find a way to engineer meaningful features from the \"Name\" and/or \"Cabin\" fields in the data.\n",
    "* Create a final table that summarizes the performance of your models as follows:\n",
    "\n",
    "| Model | Cross-validated Performance   | Test Performance | \n",
    "|------|------|------|\n",
    "|   Decision Tree        |  |  |\n",
    "|   Decision Tree (with imputed missing values and new features)        |  |  |\n",
    "|   Logistic Regression  |  |  |\n",
    "|   Logistic Regression (with imputed missing values and new features)        |  |  |\n",
    "|   Random Forest        |  |  |\n",
    "|   Random Forest (with imputed missing values and new features)        |  |  |\n",
    "|   Gradient Boosting    |  |  | \n",
    "|   Gradient Boosting (with imputed missing values and new features)        |  |   x |\n"
   ]
  },
  {
   "cell_type": "markdown",
   "metadata": {},
   "source": [
    "> <font color='red'>Set up the data again:</font>"
   ]
  },
  {
   "cell_type": "code",
   "execution_count": 40,
   "metadata": {
    "scrolled": false
   },
   "outputs": [],
   "source": [
    "train = pd.read_csv('train.csv')\n",
    "\n",
    "# Sex\n",
    "numeric_Sex = np.array([])\n",
    "for i in range(len(train.index)):\n",
    "    if train['Sex'][i] == 'male':\n",
    "        numeric_Sex = np.append(numeric_Sex, 0)\n",
    "    else:\n",
    "        numeric_Sex = np.append(numeric_Sex, 1)\n",
    "        \n",
    "train['Sex'] = numeric_Sex.astype(np.int64)\n",
    "\n",
    "# embarked\n",
    "for i in range(len(train.index)):\n",
    "    if train['Embarked'][i] == 'C':\n",
    "        train.loc[i, 'Embarked_C'] = 1\n",
    "        train.loc[i, 'Embarked_Q'] = 0\n",
    "        train.loc[i, 'Embarked_S'] = 0\n",
    "    elif train['Embarked'][i] == 'Q':\n",
    "        train.loc[i, 'Embarked_C'] = 0\n",
    "        train.loc[i, 'Embarked_Q'] = 1\n",
    "        train.loc[i, 'Embarked_S'] = 0\n",
    "    elif train['Embarked'][i] == 'S':\n",
    "        train.loc[i, 'Embarked_C'] = 0\n",
    "        train.loc[i, 'Embarked_Q'] = 0\n",
    "        train.loc[i, 'Embarked_S'] = 1\n",
    "    else:\n",
    "        train.loc[i, 'Embarked_C'] = np.nan\n",
    "        train.loc[i, 'Embarked_Q'] = np.nan\n",
    "        train.loc[i, 'Embarked_S'] = np.nan\n",
    "        \n",
    "# drop the original row\n",
    "train.drop(columns=['Embarked'], inplace=True)"
   ]
  },
  {
   "cell_type": "markdown",
   "metadata": {},
   "source": [
    "> <font color='red'>For feature engineering, I choose to use the `Cabin` column, and extract the floor/compartment that the individual was living in:</font>"
   ]
  },
  {
   "cell_type": "code",
   "execution_count": 41,
   "metadata": {},
   "outputs": [],
   "source": [
    "for i in range(len(train.index)):\n",
    "    if pd.isnull(train['Cabin'][i]):\n",
    "        train.loc[i, 'Cabin_A'] = np.nan\n",
    "        train.loc[i, 'Cabin_B'] = np.nan\n",
    "        train.loc[i, 'Cabin_C'] = np.nan\n",
    "        train.loc[i, 'Cabin_D'] = np.nan\n",
    "        train.loc[i, 'Cabin_E'] = np.nan\n",
    "        train.loc[i, 'Cabin_F'] = np.nan\n",
    "    else:\n",
    "        if 'A' in train['Cabin'][i]:\n",
    "            train.loc[i, 'Cabin_A'] = 1\n",
    "            train.loc[i, 'Cabin_B'] = 0\n",
    "            train.loc[i, 'Cabin_C'] = 0\n",
    "            train.loc[i, 'Cabin_D'] = 0\n",
    "            train.loc[i, 'Cabin_E'] = 0\n",
    "            train.loc[i, 'Cabin_F'] = 0\n",
    "        elif 'B' in train['Cabin'][i]:\n",
    "            train.loc[i, 'Cabin_A'] = 0\n",
    "            train.loc[i, 'Cabin_B'] = 1\n",
    "            train.loc[i, 'Cabin_C'] = 0\n",
    "            train.loc[i, 'Cabin_D'] = 0\n",
    "            train.loc[i, 'Cabin_E'] = 0\n",
    "            train.loc[i, 'Cabin_F'] = 0\n",
    "        elif 'C' in train['Cabin'][i]:\n",
    "            train.loc[i, 'Cabin_A'] = 0\n",
    "            train.loc[i, 'Cabin_B'] = 0\n",
    "            train.loc[i, 'Cabin_C'] = 1\n",
    "            train.loc[i, 'Cabin_D'] = 0\n",
    "            train.loc[i, 'Cabin_E'] = 0\n",
    "            train.loc[i, 'Cabin_F'] = 0\n",
    "        elif 'D' in train['Cabin'][i]:\n",
    "            train.loc[i, 'Cabin_A'] = 0\n",
    "            train.loc[i, 'Cabin_B'] = 0\n",
    "            train.loc[i, 'Cabin_C'] = 0\n",
    "            train.loc[i, 'Cabin_D'] = 1\n",
    "            train.loc[i, 'Cabin_E'] = 0\n",
    "            train.loc[i, 'Cabin_F'] = 0\n",
    "        elif 'E' in train['Cabin'][i]:\n",
    "            train.loc[i, 'Cabin_A'] = 0\n",
    "            train.loc[i, 'Cabin_B'] = 0\n",
    "            train.loc[i, 'Cabin_C'] = 0\n",
    "            train.loc[i, 'Cabin_D'] = 0\n",
    "            train.loc[i, 'Cabin_E'] = 1\n",
    "            train.loc[i, 'Cabin_F'] = 0\n",
    "        elif 'F' in train['Cabin'][i]:\n",
    "            train.loc[i, 'Cabin_A'] = 0\n",
    "            train.loc[i, 'Cabin_B'] = 0\n",
    "            train.loc[i, 'Cabin_C'] = 0\n",
    "            train.loc[i, 'Cabin_D'] = 0\n",
    "            train.loc[i, 'Cabin_E'] = 0\n",
    "            train.loc[i, 'Cabin_F'] = 1\n",
    "        else:\n",
    "            train.loc[i, 'Cabin_A'] = np.nan\n",
    "            train.loc[i, 'Cabin_B'] = np.nan\n",
    "            train.loc[i, 'Cabin_C'] = np.nan\n",
    "            train.loc[i, 'Cabin_D'] = np.nan\n",
    "            train.loc[i, 'Cabin_E'] = np.nan\n",
    "            train.loc[i, 'Cabin_F'] = np.nan"
   ]
  },
  {
   "cell_type": "markdown",
   "metadata": {},
   "source": [
    "> <font color='red'>Set up the data for the models with imputed values and feature engineering.</font>"
   ]
  },
  {
   "cell_type": "code",
   "execution_count": 42,
   "metadata": {},
   "outputs": [],
   "source": [
    "# columns that we actually want\n",
    "keep_vars = ['PassengerId','Pclass','Sex','Age','SibSp','Parch','Fare','Embarked_C','Embarked_Q','Embarked_S',\n",
    "             'Cabin_A','Cabin_B','Cabin_C','Cabin_D','Cabin_E','Cabin_F','Survived']\n",
    "train = train[keep_vars]\n",
    "\n",
    "# impute for Embarked\n",
    "# the mode is port S - found in part 1\n",
    "for i in range(len(train.index)):\n",
    "    if ~np.isfinite(train['Embarked_S'][i]):\n",
    "        train.loc[i, 'Embarked_C'] = 0\n",
    "        train.loc[i, 'Embarked_Q'] = 0\n",
    "        train.loc[i, 'Embarked_S'] = 1\n",
    "        \n",
    "# impute for Age\n",
    "mean_Age = np.nanmean(train['Age'])\n",
    "for i in range(len(train.index)):\n",
    "    if ~np.isfinite(train['Age'][i]):\n",
    "        train.loc[i, 'Age'] = mean_Age\n",
    "        \n",
    "# impute for Cabin\n",
    "# the mode is cabin C\n",
    "for i in range(len(train.index)):\n",
    "    if ~np.isfinite(train['Cabin_C'][i]):\n",
    "        train.loc[i, 'Cabin_A'] = 0\n",
    "        train.loc[i, 'Cabin_B'] = 0\n",
    "        train.loc[i, 'Cabin_C'] = 1\n",
    "        train.loc[i, 'Cabin_D'] = 0\n",
    "        train.loc[i, 'Cabin_E'] = 0\n",
    "        train.loc[i, 'Cabin_F'] = 0\n",
    "        \n",
    "# normalize\n",
    "for col in train.columns:\n",
    "    if col!='Survived':\n",
    "        train[col] = normalize(train[col].values)\n",
    "        \n",
    "# convert survived into -1 and 1\n",
    "for i in range(len(train.index)):\n",
    "    if train['Survived'][i] == 0:\n",
    "        train.loc[i, 'Survived'] = -1\n",
    "        \n",
    "# get X and Y\n",
    "feature_names = ['PassengerId','Pclass','Sex','Age','SibSp','Parch','Fare','Embarked_C','Embarked_Q','Embarked_S',\n",
    "                 'Cabin_A','Cabin_B','Cabin_C','Cabin_D','Cabin_E','Cabin_F']\n",
    "X = train[feature_names].values\n",
    "Y = train['Survived'].values\n",
    "\n",
    "# training and testing\n",
    "X_train, X_test, Y_train, Y_test = train_test_split(X, Y, test_size=0.33, random_state=np.random.seed(22))\n",
    "\n",
    "# set up the 10-fold cross validation\n",
    "kf = KFold(n_splits=10, shuffle=True, random_state=np.random.seed(22))\n",
    "\n",
    "# get the training and testing indexes\n",
    "kf_train_inds = []\n",
    "kf_test_inds = []\n",
    "for kf_train_ind, kf_test_ind in kf.split(X_train):\n",
    "    kf_train_inds.append(kf_train_ind)\n",
    "    kf_test_inds.append(kf_test_ind)"
   ]
  },
  {
   "cell_type": "markdown",
   "metadata": {},
   "source": [
    "> <font color='red'>Decision tree:</font>"
   ]
  },
  {
   "cell_type": "code",
   "execution_count": 43,
   "metadata": {},
   "outputs": [
    {
     "name": "stdout",
     "output_type": "stream",
     "text": [
      "mean for test folds = 0.84\n"
     ]
    }
   ],
   "source": [
    "# storage vectors\n",
    "kf_train_accuracies = np.zeros(10)\n",
    "kf_test_accuracies = np.zeros(10)\n",
    "\n",
    "# iterate through folds\n",
    "for i in range(10):\n",
    "    \n",
    "    # fit the tree\n",
    "    clf = tree.DecisionTreeClassifier(max_depth=3, min_samples_leaf=4)\n",
    "    clf = clf.fit(X_train[kf_train_inds[i]], Y_train[kf_train_inds[i]])\n",
    "    \n",
    "    # predicted values\n",
    "    Y_kf_train_predicted = clf.predict(X_train[kf_train_inds[i]])\n",
    "    Y_kf_test_predicted = clf.predict(X_train[kf_test_inds[i]])\n",
    "    \n",
    "    # accuracies\n",
    "    kf_train_accuracies[i] = compute_accuracy(Y_kf_train_predicted, Y_train[kf_train_inds[i]])\n",
    "    kf_test_accuracies[i] = compute_accuracy(Y_kf_test_predicted, Y_train[kf_test_inds[i]])\n",
    "    \n",
    "print('mean for test folds = {:.2f}'.format(np.mean(kf_test_accuracies)))"
   ]
  },
  {
   "cell_type": "code",
   "execution_count": 44,
   "metadata": {},
   "outputs": [
    {
     "name": "stdout",
     "output_type": "stream",
     "text": [
      "accuracy on held-out data = 0.80\n"
     ]
    }
   ],
   "source": [
    "# fit the tree\n",
    "clf = tree.DecisionTreeClassifier(max_depth=3, min_samples_leaf=4)\n",
    "clf = clf.fit(X_train, Y_train)\n",
    "\n",
    "# predict on the held-out data\n",
    "Y_test_predicted = clf.predict(X_test)\n",
    "\n",
    "# accuracy\n",
    "accuracy = compute_accuracy(Y_test_predicted, Y_test)\n",
    "print('accuracy on held-out data = {:.2f}'.format(accuracy))"
   ]
  },
  {
   "cell_type": "markdown",
   "metadata": {},
   "source": [
    "> <font color='red'>Logistic regression:</font>"
   ]
  },
  {
   "cell_type": "code",
   "execution_count": 45,
   "metadata": {},
   "outputs": [
    {
     "name": "stdout",
     "output_type": "stream",
     "text": [
      "accuracy on held-out data = 0.78\n"
     ]
    }
   ],
   "source": [
    "# logistic regression with cross validation built in\n",
    "logreg = LogisticRegressionCV(cv=10, random_state=np.random.seed(22))\n",
    "logreg = logreg.fit(X_train, Y_train)\n",
    "\n",
    "# predict on held-out data\n",
    "Y_test_predicted = logreg.predict(X_test)\n",
    "\n",
    "# accuracy\n",
    "accuracy = compute_accuracy(Y_test_predicted, Y_test)\n",
    "print('accuracy on held-out data = {:.2f}'.format(accuracy))"
   ]
  },
  {
   "cell_type": "code",
   "execution_count": 46,
   "metadata": {},
   "outputs": [
    {
     "name": "stdout",
     "output_type": "stream",
     "text": [
      "accuracy on held-out data = 0.78\n"
     ]
    }
   ],
   "source": [
    "# logistic regression\n",
    "logreg = LogisticRegression(solver='lbfgs')\n",
    "logreg = logreg.fit(X_train, Y_train)\n",
    "\n",
    "# predict on held-out data\n",
    "Y_test_predicted = logreg.predict(X_test)\n",
    "\n",
    "# accuracy\n",
    "accuracy = compute_accuracy(Y_test_predicted, Y_test)\n",
    "print('accuracy on held-out data = {:.2f}'.format(accuracy))"
   ]
  },
  {
   "cell_type": "markdown",
   "metadata": {},
   "source": [
    "> <font color='red'>Random forest:</font>"
   ]
  },
  {
   "cell_type": "code",
   "execution_count": 47,
   "metadata": {},
   "outputs": [
    {
     "name": "stdout",
     "output_type": "stream",
     "text": [
      "mean for test folds = 0.82\n"
     ]
    }
   ],
   "source": [
    "# storage vectors\n",
    "kf_train_accuracies = np.zeros(10)\n",
    "kf_test_accuracies = np.zeros(10)\n",
    "\n",
    "# iterate through folds\n",
    "for i in range(10):\n",
    "    \n",
    "    # fit the tree\n",
    "    clf = RandomForestClassifier(n_estimators=18, max_depth=3, min_samples_leaf=4,\n",
    "                                 random_state=np.random.seed(22))\n",
    "    clf = clf.fit(X_train[kf_train_inds[i]], Y_train[kf_train_inds[i]])\n",
    "    \n",
    "    # predicted values\n",
    "    Y_kf_train_predicted = clf.predict(X_train[kf_train_inds[i]])\n",
    "    Y_kf_test_predicted = clf.predict(X_train[kf_test_inds[i]])\n",
    "    \n",
    "    # accuracies\n",
    "    kf_train_accuracies[i] = compute_accuracy(Y_kf_train_predicted, Y_train[kf_train_inds[i]])\n",
    "    kf_test_accuracies[i] = compute_accuracy(Y_kf_test_predicted, Y_train[kf_test_inds[i]])\n",
    "    \n",
    "print('mean for test folds = {:.2f}'.format(np.mean(kf_test_accuracies)))"
   ]
  },
  {
   "cell_type": "code",
   "execution_count": 48,
   "metadata": {},
   "outputs": [
    {
     "name": "stdout",
     "output_type": "stream",
     "text": [
      "accuracy on held-out data = 0.81\n"
     ]
    }
   ],
   "source": [
    "# fit the tree\n",
    "clf = RandomForestClassifier(n_estimators=18, max_depth=3, min_samples_leaf=4,\n",
    "                             random_state=np.random.seed(22))\n",
    "clf = clf.fit(X_train, Y_train)\n",
    "\n",
    "# predict on the held-out data\n",
    "Y_test_predicted = clf.predict(X_test)\n",
    "\n",
    "# accuracy\n",
    "accuracy = compute_accuracy(Y_test_predicted, Y_test)\n",
    "print('accuracy on held-out data = {:.2f}'.format(accuracy))"
   ]
  },
  {
   "cell_type": "markdown",
   "metadata": {},
   "source": [
    "> <font color='red'>Gradient boosting:</font>"
   ]
  },
  {
   "cell_type": "code",
   "execution_count": 49,
   "metadata": {},
   "outputs": [
    {
     "name": "stdout",
     "output_type": "stream",
     "text": [
      "mean for test folds = 0.81\n"
     ]
    }
   ],
   "source": [
    "# storage vectors\n",
    "kf_train_accuracies = np.zeros(10)\n",
    "kf_test_accuracies = np.zeros(10)\n",
    "\n",
    "# iterate through folds\n",
    "for i in range(10):\n",
    "    \n",
    "    # fit the tree\n",
    "    clf = GradientBoostingClassifier(learning_rate=0.01, max_depth=3, min_samples_leaf=4,\n",
    "                                     random_state=np.random.seed(22))\n",
    "    clf = clf.fit(X_train[kf_train_inds[i]], Y_train[kf_train_inds[i]])\n",
    "    \n",
    "    # predicted values\n",
    "    Y_kf_train_predicted = clf.predict(X_train[kf_train_inds[i]])\n",
    "    Y_kf_test_predicted = clf.predict(X_train[kf_test_inds[i]])\n",
    "    \n",
    "    # accuracies\n",
    "    kf_train_accuracies[i] = compute_accuracy(Y_kf_train_predicted, Y_train[kf_train_inds[i]])\n",
    "    kf_test_accuracies[i] = compute_accuracy(Y_kf_test_predicted, Y_train[kf_test_inds[i]])\n",
    "    \n",
    "print('mean for test folds = {:.2f}'.format(np.mean(kf_test_accuracies)))"
   ]
  },
  {
   "cell_type": "code",
   "execution_count": 50,
   "metadata": {},
   "outputs": [
    {
     "name": "stdout",
     "output_type": "stream",
     "text": [
      "accuracy on held-out data = 0.80\n"
     ]
    }
   ],
   "source": [
    "# fit the tree\n",
    "clf = GradientBoostingClassifier(learning_rate=0.01, max_depth=3, min_samples_leaf=4,\n",
    "                                 random_state=np.random.seed(22))\n",
    "clf = clf.fit(X_train, Y_train)\n",
    "\n",
    "# predict on the held-out data\n",
    "Y_test_predicted = clf.predict(X_test)\n",
    "\n",
    "# accuracy\n",
    "accuracy = compute_accuracy(Y_test_predicted, Y_test)\n",
    "print('accuracy on held-out data = {:.2f}'.format(accuracy))"
   ]
  },
  {
   "cell_type": "markdown",
   "metadata": {},
   "source": [
    "> <font color='red'>Put it all together:</font>\n",
    "\n",
    "| Model | Cross-validated Performance | Test Performance | \n",
    "|-------|-----------------------------|------------------|\n",
    "| Decision Tree                                                      | 0.79 | 0.86 |\n",
    "| Decision Tree (with imputed missing values and new features)       | 0.84 | 0.80 |\n",
    "| Logistic Regression                                                | 0.84 | 0.84 |\n",
    "| Logistic Regression (with imputed missing values and new features) | 0.78 | 0.78 |\n",
    "| Random Forest                                                      | 0.80 | 0.86 |\n",
    "| Random Forest (with imputed missing values and new features)       | 0.82 | 0.81 |\n",
    "| Gradient Boosting                                                  | 0.80 | 0.86 | \n",
    "| Gradient Boosting (with imputed missing values and new features)   | 0.81 | 0.80 |\n",
    "\n",
    "> <font color='red'>As we can see, what was discussed above holds here. The decision tree, random forest, and gradient boosting all perform about as well as each other on the held out test data, and the logistic regression does slightly worse. Furthermore, imputing values makes the model perform worse, because we are effectively making up data that does not necessarily improve the predictive power of the model. Finally, it is iteresting to note that the single tuned decision tree does equally as well as the more sophisticated random forest and gradient boosting methods. This may be because I did not tune the random forest and gradient boosting models extensively - it would have been possible to retune every hyperparameter of each of these models instead of simply carrying over the tuned hyperparameters from the decision tree, which would likely have led to slightly better performance.</font>"
   ]
  }
 ],
 "metadata": {
  "anaconda-cloud": {},
  "kernelspec": {
   "display_name": "Python 3",
   "language": "python",
   "name": "python3"
  },
  "language_info": {
   "codemirror_mode": {
    "name": "ipython",
    "version": 3
   },
   "file_extension": ".py",
   "mimetype": "text/x-python",
   "name": "python",
   "nbconvert_exporter": "python",
   "pygments_lexer": "ipython3",
   "version": "3.6.6"
  },
  "toc": {
   "nav_menu": {},
   "number_sections": false,
   "sideBar": true,
   "skip_h1_title": false,
   "title_cell": "Table of Contents",
   "title_sidebar": "Contents",
   "toc_cell": false,
   "toc_position": {
    "height": "calc(100% - 180px)",
    "left": "10px",
    "top": "150px",
    "width": "241px"
   },
   "toc_section_display": true,
   "toc_window_display": true
  }
 },
 "nbformat": 4,
 "nbformat_minor": 1
}
